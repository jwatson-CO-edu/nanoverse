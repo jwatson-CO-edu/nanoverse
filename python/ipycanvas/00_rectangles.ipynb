{
 "cells": [
  {
   "cell_type": "code",
   "execution_count": 1,
   "id": "28cc8779-63d4-4e51-a59e-7314c6f2347a",
   "metadata": {},
   "outputs": [
    {
     "data": {
      "application/vnd.jupyter.widget-view+json": {
       "model_id": "2667248f209246998881acfa44750258",
       "version_major": 2,
       "version_minor": 0
      },
      "text/plain": [
       "Canvas(height=200, width=200)"
      ]
     },
     "metadata": {},
     "output_type": "display_data"
    }
   ],
   "source": [
    "from ipycanvas import Canvas\n",
    "\n",
    "canvas = Canvas(width=200, height=200)\n",
    "\n",
    "canvas.fill_style = 'red'\n",
    "canvas.stroke_style = 'blue'\n",
    "\n",
    "canvas.fill_rect(25, 25, 100, 100)\n",
    "canvas.clear_rect(45, 45, 60, 60)\n",
    "canvas.stroke_rect(50, 50, 50, 50)\n",
    "\n",
    "canvas"
   ]
  },
  {
   "cell_type": "code",
   "execution_count": 2,
   "id": "809ba774-9edb-4600-8484-5f09d3c6954c",
   "metadata": {},
   "outputs": [
    {
     "data": {
      "application/vnd.jupyter.widget-view+json": {
       "model_id": "08184102fdf34018baed5665b9dbfda2",
       "version_major": 2,
       "version_minor": 0
      },
      "text/plain": [
       "Canvas(height=200, width=200)"
      ]
     },
     "metadata": {},
     "output_type": "display_data"
    }
   ],
   "source": [
    "from ipycanvas import Canvas\n",
    "\n",
    "canvas = Canvas(width=200, height=200)\n",
    "\n",
    "canvas.line_width = 4.0\n",
    "\n",
    "canvas.stroke_style = 'blue'\n",
    "canvas.stroke_line(0, 0, 150, 150)\n",
    "\n",
    "canvas.stroke_style = 'red'\n",
    "canvas.stroke_line(200, 0, 0, 200)\n",
    "\n",
    "canvas.stroke_style = 'green'\n",
    "canvas.stroke_line(150, 150, 0, 200)\n",
    "\n",
    "canvas"
   ]
  },
  {
   "cell_type": "code",
   "execution_count": 3,
   "id": "2b2dd7d3-58a7-448d-9f9c-c713e5049287",
   "metadata": {},
   "outputs": [
    {
     "data": {
      "application/vnd.jupyter.widget-view+json": {
       "model_id": "ac53138eb8ef4d8da1b4ffc7afbcc34d",
       "version_major": 2,
       "version_minor": 0
      },
      "text/plain": [
       "Canvas(height=200, width=200)"
      ]
     },
     "metadata": {},
     "output_type": "display_data"
    }
   ],
   "source": [
    "from math import pi\n",
    "import numpy as np\n",
    "from ipycanvas import Canvas\n",
    "\n",
    "def polygon(canvas, x, y, radius, n_points):\n",
    "    angles = (2 * pi / n_points) * np.arange(n_points)\n",
    "\n",
    "    v_x = x + np.cos(angles) * radius\n",
    "    v_y = y + np.sin(angles) * radius\n",
    "\n",
    "    points = np.stack((v_x, v_y), axis=1)\n",
    "\n",
    "    canvas.fill_polygon(points)\n",
    "\n",
    "background_color = '#89c64f'\n",
    "polygon_color = '#c6574f'\n",
    "\n",
    "canvas = Canvas(width=200, height=200)\n",
    "\n",
    "canvas.fill_style = background_color\n",
    "canvas.fill_rect(0, 0, canvas.width, canvas.height)\n",
    "\n",
    "canvas.fill_style = polygon_color\n",
    "polygon(canvas, 100, 100, 70, 6)\n",
    "\n",
    "canvas"
   ]
  },
  {
   "cell_type": "code",
   "execution_count": 14,
   "id": "10c9a72c-6ae5-431b-ac74-8bfe788ac7ef",
   "metadata": {},
   "outputs": [
    {
     "data": {
      "application/vnd.jupyter.widget-view+json": {
       "model_id": "573968388c2b42e3b4b311299ec9a48f",
       "version_major": 2,
       "version_minor": 0
      },
      "text/plain": [
       "Canvas(height=200, width=200)"
      ]
     },
     "metadata": {},
     "output_type": "display_data"
    }
   ],
   "source": [
    "import numpy as np\n",
    "from math import radians, pi\n",
    "\n",
    "def vec_mag( vec ):\n",
    "    return np.linalg.norm( vec )\n",
    "\n",
    "def vec_unit( vec ):\n",
    "    vec = np.array( vec )\n",
    "    mag = np.linalg.norm( vec )\n",
    "    if mag > 0.0:\n",
    "        return vec / mag\n",
    "    else:\n",
    "        return np.zeros( vec.shape )\n",
    "    \n",
    "def rotn_matx_2d( theta ):\n",
    "    return np.array( [ [ np.cos(theta), -np.sin(theta) ] , \n",
    "                       [ np.sin(theta),  np.cos(theta) ] ] )\n",
    "    \n",
    "    \n",
    "def draw_vector( canvasRef, vector, origin, barbAngle_deg = 25, barbFrac = 0.15, color = '#ffffff', lineWdth = 3.0 ):\n",
    "    \n",
    "    mag  = vec_mag( vector )\n",
    "    p1   = origin\n",
    "    p2   = np.array( origin ) + np.array( vector )\n",
    "    unit = vec_unit( vector )\n",
    "    rght = np.multiply( rotn_matx_2d( radians( 180+barbAngle_deg ) ).dot( np.transpose( unit ) ), barbFrac*mag )\n",
    "    left = np.multiply( rotn_matx_2d( radians( 180-barbAngle_deg ) ).dot( np.transpose( unit ) ), barbFrac*mag )\n",
    "    p3   = p2 + rght\n",
    "    p4   = p2 + left\n",
    "    \n",
    "    canvasRef.line_width = lineWdth\n",
    "    canvasRef.stroke_style = color\n",
    "    \n",
    "    canvasRef.stroke_line( p1[0], p1[1], p2[0], p2[1] )\n",
    "    canvasRef.stroke_line( p2[0], p2[1], p3[0], p3[1] )\n",
    "    canvasRef.stroke_line( p2[0], p2[1], p4[0], p4[1] )\n",
    "    \n",
    "\n",
    "from ipycanvas import Canvas\n",
    "canvas = Canvas(width=200, height=200)\n",
    "draw_vector( canvas, [50, 50], [25,25], barbAngle_deg = 25, barbFrac = 0.15, color = '#ffffff', lineWdth = 3.0 )\n",
    "draw_vector( canvas, [50,-50], [25,75], barbAngle_deg = 25, barbFrac = 0.15, color = '#ffffff', lineWdth = 3.0 )\n",
    "\n",
    "canvas\n",
    "    "
   ]
  },
  {
   "cell_type": "code",
   "execution_count": null,
   "id": "960d6587-b33b-497f-9d5d-013d0e93d7be",
   "metadata": {},
   "outputs": [],
   "source": [
    "class CartesianCanvas:\n",
    "    \"\"\" Wrapper for `ipycanvas.Canvas` that plots on the appropriate axes \"\"\"\n",
    "    \n",
    "    def __init__( self ):\n",
    "        # FIXME: START HERE\n",
    "        pass"
   ]
  }
 ],
 "metadata": {
  "kernelspec": {
   "display_name": "Python 3",
   "language": "python",
   "name": "python3"
  },
  "language_info": {
   "codemirror_mode": {
    "name": "ipython",
    "version": 3
   },
   "file_extension": ".py",
   "mimetype": "text/x-python",
   "name": "python",
   "nbconvert_exporter": "python",
   "pygments_lexer": "ipython3",
   "version": "3.8.10"
  }
 },
 "nbformat": 4,
 "nbformat_minor": 5
}
