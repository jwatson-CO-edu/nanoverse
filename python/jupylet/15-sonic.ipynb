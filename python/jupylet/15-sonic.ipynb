{
 "cells": [
  {
   "cell_type": "markdown",
   "metadata": {},
   "source": [
    "### Sonic Py(thon)"
   ]
  },
  {
   "cell_type": "code",
   "execution_count": null,
   "metadata": {},
   "outputs": [],
   "source": []
  },
  {
   "cell_type": "code",
   "execution_count": 1,
   "metadata": {},
   "outputs": [],
   "source": [
    "import sys\n",
    "import os"
   ]
  },
  {
   "cell_type": "code",
   "execution_count": 2,
   "metadata": {},
   "outputs": [],
   "source": [
    "sys.path.insert(0, os.path.abspath('./..'))"
   ]
  },
  {
   "cell_type": "code",
   "execution_count": 3,
   "metadata": {},
   "outputs": [],
   "source": [
    "from jupylet.audio.bundle import *"
   ]
  },
  {
   "cell_type": "code",
   "execution_count": null,
   "metadata": {},
   "outputs": [],
   "source": []
  },
  {
   "cell_type": "code",
   "execution_count": 4,
   "metadata": {},
   "outputs": [],
   "source": [
    "app = sonic_py()"
   ]
  },
  {
   "cell_type": "code",
   "execution_count": null,
   "metadata": {},
   "outputs": [],
   "source": []
  },
  {
   "cell_type": "code",
   "execution_count": 5,
   "metadata": {},
   "outputs": [],
   "source": [
    "#\n",
    "# Set up a beautiful reverb effect that adds a sense of space and a touch of realism \n",
    "# to the synthesized instrument. Try it with a pair of good headphones. \n",
    "#\n",
    "set_effects(ConvolutionReverb('./sounds/impulses/MaesHowe.flac'))"
   ]
  },
  {
   "cell_type": "code",
   "execution_count": null,
   "metadata": {},
   "outputs": [],
   "source": []
  },
  {
   "cell_type": "code",
   "execution_count": 6,
   "metadata": {},
   "outputs": [],
   "source": [
    "hammond = Hammond()"
   ]
  },
  {
   "cell_type": "code",
   "execution_count": 7,
   "metadata": {},
   "outputs": [],
   "source": [
    "#.precussion = True\n",
    "#hammond.reverb = True"
   ]
  },
  {
   "cell_type": "code",
   "execution_count": 8,
   "metadata": {},
   "outputs": [],
   "source": [
    "#hammond.overdrive = True\n",
    "#hammond.over.amp = 0.25"
   ]
  },
  {
   "cell_type": "code",
   "execution_count": 9,
   "metadata": {},
   "outputs": [],
   "source": [
    "#hammond.chorus = True\n",
    "#hammond.set_vibrato_and_chorus('c1')"
   ]
  },
  {
   "cell_type": "code",
   "execution_count": null,
   "metadata": {},
   "outputs": [],
   "source": []
  },
  {
   "cell_type": "code",
   "execution_count": 10,
   "metadata": {},
   "outputs": [],
   "source": [
    "# Play C5 note for the duration of a full note."
   ]
  },
  {
   "cell_type": "code",
   "execution_count": 11,
   "metadata": {},
   "outputs": [],
   "source": [
    "hammond.play(C5, 1)"
   ]
  },
  {
   "cell_type": "code",
   "execution_count": null,
   "metadata": {},
   "outputs": [],
   "source": []
  },
  {
   "cell_type": "code",
   "execution_count": 12,
   "metadata": {},
   "outputs": [],
   "source": [
    "# Play C5 note indefinately. When you play another note it will replace the previous one.\n",
    "# Finally release the note to end it."
   ]
  },
  {
   "cell_type": "code",
   "execution_count": 13,
   "metadata": {},
   "outputs": [],
   "source": [
    "hammond.play(C5)"
   ]
  },
  {
   "cell_type": "code",
   "execution_count": 14,
   "metadata": {},
   "outputs": [],
   "source": [
    "hammond.play(F5)"
   ]
  },
  {
   "cell_type": "code",
   "execution_count": 15,
   "metadata": {},
   "outputs": [],
   "source": [
    "hammond.play_release()"
   ]
  },
  {
   "cell_type": "code",
   "execution_count": null,
   "metadata": {},
   "outputs": [],
   "source": []
  },
  {
   "cell_type": "code",
   "execution_count": 16,
   "metadata": {},
   "outputs": [],
   "source": [
    "# Call play_poly() to play more than one note at once. but keep a reference to the new\n",
    "# note to release it later."
   ]
  },
  {
   "cell_type": "code",
   "execution_count": 17,
   "metadata": {},
   "outputs": [],
   "source": [
    "a = hammond.play_poly(C5)"
   ]
  },
  {
   "cell_type": "code",
   "execution_count": 18,
   "metadata": {},
   "outputs": [],
   "source": [
    "b = hammond.play_poly(F5)"
   ]
  },
  {
   "cell_type": "code",
   "execution_count": 19,
   "metadata": {},
   "outputs": [],
   "source": [
    "a.play_release()"
   ]
  },
  {
   "cell_type": "code",
   "execution_count": 20,
   "metadata": {},
   "outputs": [],
   "source": [
    "b.play_release()"
   ]
  },
  {
   "cell_type": "code",
   "execution_count": null,
   "metadata": {},
   "outputs": [],
   "source": []
  },
  {
   "cell_type": "code",
   "execution_count": 21,
   "metadata": {},
   "outputs": [],
   "source": [
    "# If you forget to keep a reference to a note playing indefinately, you can stop all \n",
    "# sounds by calling stop()"
   ]
  },
  {
   "cell_type": "code",
   "execution_count": 22,
   "metadata": {},
   "outputs": [
    {
     "data": {
      "text/plain": [
       "<jupylet.audio.synth.Hammond at 0x257aa565820>"
      ]
     },
     "execution_count": 22,
     "metadata": {},
     "output_type": "execute_result"
    }
   ],
   "source": [
    "hammond.play_poly(C4)"
   ]
  },
  {
   "cell_type": "code",
   "execution_count": 23,
   "metadata": {},
   "outputs": [],
   "source": [
    "stop()"
   ]
  },
  {
   "cell_type": "code",
   "execution_count": null,
   "metadata": {},
   "outputs": [],
   "source": []
  },
  {
   "cell_type": "code",
   "execution_count": 24,
   "metadata": {},
   "outputs": [],
   "source": [
    "use(hammond)"
   ]
  },
  {
   "cell_type": "code",
   "execution_count": 25,
   "metadata": {},
   "outputs": [
    {
     "data": {
      "text/plain": [
       "<jupylet.audio.synth.Hammond at 0x257aa511b50>"
      ]
     },
     "execution_count": 25,
     "metadata": {},
     "output_type": "execute_result"
    }
   ],
   "source": [
    "play(C5, 1)"
   ]
  },
  {
   "cell_type": "code",
   "execution_count": null,
   "metadata": {},
   "outputs": [],
   "source": []
  },
  {
   "cell_type": "code",
   "execution_count": 26,
   "metadata": {},
   "outputs": [
    {
     "data": {
      "text/plain": [
       "<jupylet.audio.synth.Hammond at 0x257aa551a90>"
      ]
     },
     "execution_count": 26,
     "metadata": {},
     "output_type": "execute_result"
    }
   ],
   "source": [
    "play(C4, 1)\n",
    "play(F4, 1)"
   ]
  },
  {
   "cell_type": "code",
   "execution_count": null,
   "metadata": {},
   "outputs": [],
   "source": []
  },
  {
   "cell_type": "code",
   "execution_count": 27,
   "metadata": {},
   "outputs": [
    {
     "data": {
      "text/plain": [
       "<jupylet.audio.synth.Hammond at 0x257aa4fcee0>"
      ]
     },
     "execution_count": 27,
     "metadata": {},
     "output_type": "execute_result"
    }
   ],
   "source": [
    "play(Ds4, 1)\n",
    "play(Gs4, 1)"
   ]
  },
  {
   "cell_type": "code",
   "execution_count": null,
   "metadata": {},
   "outputs": [],
   "source": []
  },
  {
   "cell_type": "code",
   "execution_count": 28,
   "metadata": {},
   "outputs": [],
   "source": [
    "play(C4, 1)\n",
    "play(F4, 1)\n",
    "\n",
    "await sleep(1)\n",
    "\n",
    "play(Ds4, 1)\n",
    "play(Gs4, 1)\n",
    "\n",
    "await sleep(1)"
   ]
  },
  {
   "cell_type": "code",
   "execution_count": null,
   "metadata": {},
   "outputs": [],
   "source": []
  },
  {
   "cell_type": "code",
   "execution_count": 29,
   "metadata": {},
   "outputs": [],
   "source": [
    "@app.sonic_live_loop2\n",
    "async def loop0():\n",
    "            \n",
    "    use(hammond)\n",
    "    \n",
    "    play(C4, 3/4)\n",
    "    play(F4, 3/4)\n",
    "\n",
    "    await sleep(1) \n",
    "    \n",
    "    play(Ds4, 3/4)\n",
    "    play(Gs4, 3/4)\n",
    "\n",
    "    await sleep(1)"
   ]
  },
  {
   "cell_type": "code",
   "execution_count": 30,
   "metadata": {},
   "outputs": [],
   "source": [
    "app.stop(loop0)"
   ]
  },
  {
   "cell_type": "code",
   "execution_count": null,
   "metadata": {},
   "outputs": [],
   "source": []
  },
  {
   "cell_type": "code",
   "execution_count": 31,
   "metadata": {},
   "outputs": [],
   "source": [
    "#\n",
    "# The following line turns MIDI on. If you have an electric piano, hook it up \n",
    "# to your computer and it should just work.\n",
    "#\n",
    "app.set_midi_sound(hammond)"
   ]
  },
  {
   "cell_type": "code",
   "execution_count": 32,
   "metadata": {},
   "outputs": [],
   "source": [
    "# Uncomment the following line to reduce MIDI latency to minimum. If this change introduces\n",
    "# sound artefacts, either set latency back to 'high' or switch your computer power\n",
    "# management to performance mode.\n",
    "#\n",
    "set_latency('lowest')"
   ]
  },
  {
   "cell_type": "code",
   "execution_count": null,
   "metadata": {},
   "outputs": [],
   "source": []
  },
  {
   "cell_type": "code",
   "execution_count": 33,
   "metadata": {},
   "outputs": [],
   "source": [
    "@app.sonic_live_loop2\n",
    "async def loop1():\n",
    "            \n",
    "    use(hammond, amp=0.1)\n",
    "    \n",
    "    play(C3, 1/2)\n",
    "    play(F3, 1/2)\n",
    "    await sleep(1/2)\n",
    "\n",
    "    play(C3, 1/4)\n",
    "    play(F3, 1/4)\n",
    "    await sleep(1/4)\n",
    "\n",
    "    play(C3, 1/4)\n",
    "    play(F3, 1/4)\n",
    "    await sleep(1/4)\n",
    "                \n",
    "    play(Ds3, 1/4)\n",
    "    play(Gs3, 1/4)\n",
    "    await sleep(1/4)\n",
    "                \n",
    "    play(Ds3, 1/2)\n",
    "    play(Gs3, 1/2)\n",
    "    await sleep(1/2)\n",
    "    \n",
    "    play(C3, 3/4)\n",
    "    play(F3, 3/4)\n",
    "    await sleep(3/4)\n",
    "\n",
    "    play(C3, 1/4)\n",
    "    play(F3, 1/4)\n",
    "    await sleep(1/4)\n",
    "\n",
    "    play(C3, 1/4)\n",
    "    play(F3, 1/4)\n",
    "    await sleep(1/4)\n",
    "                \n",
    "    play(Ds3, 1/4)\n",
    "    play(Gs3, 1/4)\n",
    "    await sleep(1/4)\n",
    "                \n",
    "    play(F3, 1/2)\n",
    "    play(As3, 1/2)\n",
    "    await sleep(1/2)\n",
    "    \n",
    "    play(Ds3, 1/4)\n",
    "    play(Gs3, 1/4)\n",
    "    await sleep(1/4)\n",
    "                      "
   ]
  },
  {
   "cell_type": "code",
   "execution_count": 34,
   "metadata": {},
   "outputs": [],
   "source": [
    "app.stop(loop1)"
   ]
  },
  {
   "cell_type": "code",
   "execution_count": null,
   "metadata": {},
   "outputs": [],
   "source": []
  }
 ],
 "metadata": {
  "kernelspec": {
   "display_name": "Python 3",
   "language": "python",
   "name": "python3"
  },
  "language_info": {
   "codemirror_mode": {
    "name": "ipython",
    "version": 3
   },
   "file_extension": ".py",
   "mimetype": "text/x-python",
   "name": "python",
   "nbconvert_exporter": "python",
   "pygments_lexer": "ipython3",
   "version": "3.8.5"
  }
 },
 "nbformat": 4,
 "nbformat_minor": 2
}
