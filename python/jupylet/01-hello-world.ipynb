{
 "cells": [
  {
   "cell_type": "markdown",
   "metadata": {},
   "source": [
    "# Hello, World!\n",
    "\n",
    "Let's start with a traditional first program called [Hello, World!](https://en.wikipedia.org/wiki/%22Hello,_World!%22_program)  \n",
    "\n",
    "Here is how it looked like 45 years ago when it was written for the first time by Brian Kernighan for the C programming language:\n",
    "\n",
    "```c\n",
    "main( ) {\n",
    "        printf(\"hello, world\\n\");\n",
    "}\n",
    "```\n",
    "\n",
    "Now it's your turn.  \n",
    "\n",
    "Jupyter notebooks are made of cells. The cell in which this text is written is called a markdown cell. Markdown cells can be used to describe and document your code. \n",
    "\n",
    "The cell below is a called a code cell. Code cells can be used to run code. The cell below contains the python code for *Hello, World!*  \n",
    "\n",
    "To run the cell below press the `Down` arrow key or click the <button class=\"btn btn-default btn-xs\"><i class=\"fa-arrow-down fa\"></i></button> button in the toolbar above to select it. A blue border around the cell will indicate it is now in focus. Then press `Shift-Enter` or click the <button class='btn btn-default btn-xs'><i class=\"icon-step-forward fa fa-step-forward\"></i></button> button in the toolbar above to run it. If you do it correctly the code will print the famous words:"
   ]
  },
  {
   "cell_type": "code",
   "execution_count": 1,
   "metadata": {},
   "outputs": [
    {
     "name": "stdout",
     "output_type": "stream",
     "text": [
      "hello, world\n"
     ]
    }
   ],
   "source": [
    "print('hello, world')"
   ]
  },
  {
   "cell_type": "code",
   "execution_count": null,
   "metadata": {},
   "outputs": [],
   "source": []
  },
  {
   "cell_type": "markdown",
   "metadata": {},
   "source": [
    "Great work!  \n",
    "\n",
    "Now, click the `Help` menu above and select `User Interface Tour` from the drop down list for a short introduction to the user interface of Jupyter.  \n",
    "\n",
    "To edit the content of a cell select it with the `Up` and `Down` arrow keys and press `Enter`. The color of the cell border should change from blue to green to indicate that the cell is in edit mode. \n",
    "\n",
    "Edit the content of the cell below. Change it to `2 + 2`. When you are done press `Esc` to switch back to command mode or press `Shift-Enter` to run the cell. "
   ]
  },
  {
   "cell_type": "code",
   "execution_count": 2,
   "metadata": {},
   "outputs": [
    {
     "data": {
      "text/plain": [
       "2"
      ]
     },
     "execution_count": 2,
     "metadata": {},
     "output_type": "execute_result"
    }
   ],
   "source": [
    "1 + 1"
   ]
  },
  {
   "cell_type": "code",
   "execution_count": null,
   "metadata": {},
   "outputs": [],
   "source": []
  },
  {
   "cell_type": "markdown",
   "metadata": {},
   "source": [
    "Great work!\n",
    "\n",
    "Now, explore the menubar above to see how you can manipulate cells around. There are keyboard shortcuts that you can use for most actions.\n",
    "\n",
    "I have prepared a few more cells for you to play around with. You can use this notebook to practice your skills. If you are new to Python I recommend [Microsoft's introduction to Python](https://docs.microsoft.com/en-us/learn/modules/intro-to-python/1-introduction)."
   ]
  },
  {
   "cell_type": "code",
   "execution_count": null,
   "metadata": {},
   "outputs": [],
   "source": []
  },
  {
   "cell_type": "code",
   "execution_count": 3,
   "metadata": {},
   "outputs": [],
   "source": [
    "a = 5"
   ]
  },
  {
   "cell_type": "code",
   "execution_count": 4,
   "metadata": {},
   "outputs": [
    {
     "data": {
      "text/plain": [
       "6"
      ]
     },
     "execution_count": 4,
     "metadata": {},
     "output_type": "execute_result"
    }
   ],
   "source": [
    "a + 1"
   ]
  },
  {
   "cell_type": "code",
   "execution_count": 5,
   "metadata": {},
   "outputs": [
    {
     "name": "stdout",
     "output_type": "stream",
     "text": [
      "0\n",
      "1\n",
      "2\n",
      "3\n",
      "4\n"
     ]
    }
   ],
   "source": [
    "for i in range(5):\n",
    "    print(i)"
   ]
  },
  {
   "cell_type": "code",
   "execution_count": null,
   "metadata": {},
   "outputs": [],
   "source": []
  },
  {
   "cell_type": "code",
   "execution_count": 6,
   "metadata": {},
   "outputs": [],
   "source": [
    "def greet(name):\n",
    "    print('Hello, ' + name + '!')"
   ]
  },
  {
   "cell_type": "code",
   "execution_count": 7,
   "metadata": {},
   "outputs": [
    {
     "name": "stdout",
     "output_type": "stream",
     "text": [
      "Hello, Dave!\n"
     ]
    }
   ],
   "source": [
    "greet('Dave')"
   ]
  },
  {
   "cell_type": "markdown",
   "metadata": {},
   "source": [
    "<img style=\"float: left;\" src=\"https://upload.wikimedia.org/wikipedia/commons/thumb/f/f6/HAL9000.svg/240px-HAL9000.svg.png\">"
   ]
  }
 ],
 "metadata": {
  "kernelspec": {
   "display_name": "Python 3",
   "language": "python",
   "name": "python3"
  },
  "language_info": {
   "codemirror_mode": {
    "name": "ipython",
    "version": 3
   },
   "file_extension": ".py",
   "mimetype": "text/x-python",
   "name": "python",
   "nbconvert_exporter": "python",
   "pygments_lexer": "ipython3",
   "version": "3.8.5"
  }
 },
 "nbformat": 4,
 "nbformat_minor": 2
}
