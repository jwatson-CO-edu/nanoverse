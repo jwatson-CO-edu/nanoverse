{
 "cells": [
  {
   "cell_type": "markdown",
   "metadata": {},
   "source": [
    "## Shadertoys\n",
    "\n",
    "This notebook demostrates how to display [shadertoys](https://www.shadertoy.com/). Check out the documentation for more information:  \n",
    "https://jupylet.readthedocs.io/en/latest/programmers_reference_guide/graphics-3d.html#shadertoys"
   ]
  },
  {
   "cell_type": "code",
   "execution_count": null,
   "metadata": {},
   "outputs": [],
   "source": []
  },
  {
   "cell_type": "code",
   "execution_count": 1,
   "metadata": {},
   "outputs": [],
   "source": [
    "import sys\n",
    "import os"
   ]
  },
  {
   "cell_type": "code",
   "execution_count": 2,
   "metadata": {},
   "outputs": [],
   "source": [
    "sys.path.insert(0, os.path.abspath('./..'))"
   ]
  },
  {
   "cell_type": "code",
   "execution_count": 3,
   "metadata": {},
   "outputs": [],
   "source": [
    "from jupylet.app import App\n",
    "from jupylet.label import Label\n",
    "from jupylet.shadertoy import Shadertoy"
   ]
  },
  {
   "cell_type": "code",
   "execution_count": 4,
   "metadata": {},
   "outputs": [],
   "source": [
    "from jupylet.audio.bundle import *"
   ]
  },
  {
   "cell_type": "code",
   "execution_count": null,
   "metadata": {},
   "outputs": [],
   "source": []
  },
  {
   "cell_type": "code",
   "execution_count": 5,
   "metadata": {},
   "outputs": [],
   "source": [
    "app = App(width=533, height=300)"
   ]
  },
  {
   "cell_type": "code",
   "execution_count": null,
   "metadata": {},
   "outputs": [],
   "source": []
  },
  {
   "cell_type": "markdown",
   "metadata": {},
   "source": [
    "### Star Nest Shadertoy by Pablo Roman Andrioli\n",
    "\n",
    "The code in the following cell is of a [beautiful shadertoy by Pablo Roman Andrioli](https://www.shadertoy.com/view/XlfGRj). It is available under the MIT License. "
   ]
  },
  {
   "cell_type": "code",
   "execution_count": 6,
   "metadata": {},
   "outputs": [],
   "source": [
    "st = Shadertoy(\"\"\"\n",
    "\n",
    "    // Star Nest by Pablo Roman Andrioli\n",
    "\n",
    "    // This content is under the MIT License.\n",
    "\n",
    "    #define iterations 17\n",
    "    #define formuparam 0.53\n",
    "\n",
    "    #define volsteps 20\n",
    "    #define stepsize 0.1\n",
    "\n",
    "    #define zoom   0.800\n",
    "    #define tile   0.850\n",
    "    #define speed  0.010 \n",
    "\n",
    "    #define brightness 0.0015\n",
    "    #define darkmatter 0.300\n",
    "    #define distfading 0.730\n",
    "    #define saturation 0.850\n",
    "\n",
    "\n",
    "    void mainImage( out vec4 fragColor, in vec2 fragCoord )\n",
    "    {\n",
    "        //get coords and direction\n",
    "        vec2 uv=fragCoord.xy/iResolution.xy-.5;\n",
    "        uv.y*=iResolution.y/iResolution.x;\n",
    "        vec3 dir=vec3(uv*zoom,1.);\n",
    "        float time=iTime*speed+.25;\n",
    "\n",
    "        //mouse rotation\n",
    "        float a1=.5+iMouse.x/iResolution.x*2.;\n",
    "        float a2=.8+iMouse.y/iResolution.y*2.;\n",
    "        mat2 rot1=mat2(cos(a1),sin(a1),-sin(a1),cos(a1));\n",
    "        mat2 rot2=mat2(cos(a2),sin(a2),-sin(a2),cos(a2));\n",
    "        dir.xz*=rot1;\n",
    "        dir.xy*=rot2;\n",
    "        vec3 from=vec3(1.,.5,0.5);\n",
    "        from+=vec3(time*2.,time,-2.);\n",
    "        from.xz*=rot1;\n",
    "        from.xy*=rot2;\n",
    "\n",
    "        //volumetric rendering\n",
    "        float s=0.1,fade=1.;\n",
    "        vec3 v=vec3(0.);\n",
    "        for (int r=0; r<volsteps; r++) {\n",
    "            vec3 p=from+s*dir*.5;\n",
    "            p = abs(vec3(tile)-mod(p,vec3(tile*2.))); // tiling fold\n",
    "            float pa,a=pa=0.;\n",
    "            for (int i=0; i<iterations; i++) { \n",
    "                p=abs(p)/dot(p,p)-formuparam; // the magic formula\n",
    "                a+=abs(length(p)-pa); // absolute sum of average change\n",
    "                pa=length(p);\n",
    "            }\n",
    "            float dm=max(0.,darkmatter-a*a*.001); //dark matter\n",
    "            a*=a*a; // add contrast\n",
    "            if (r>6) fade*=1.-dm; // dark matter, don't render near\n",
    "            //v+=vec3(dm,dm*.5,0.);\n",
    "            v+=fade;\n",
    "            v+=vec3(s,s*s,s*s*s*s)*a*brightness*fade; // coloring based on distance\n",
    "            fade*=distfading; // distance fading\n",
    "            s+=stepsize;\n",
    "        }\n",
    "        v=mix(vec3(length(v)),v,saturation); //color adjust\n",
    "        fragColor = vec4(v*.01,1.);\t\n",
    "\n",
    "    }\n",
    "    \n",
    "\"\"\", 533, 300)"
   ]
  },
  {
   "cell_type": "code",
   "execution_count": null,
   "metadata": {},
   "outputs": [],
   "source": []
  },
  {
   "cell_type": "code",
   "execution_count": 7,
   "metadata": {},
   "outputs": [],
   "source": [
    "l0 = Label('Star Nest by Pablo Roman Andrioli', x=10, y=10, color='cyan')"
   ]
  },
  {
   "cell_type": "code",
   "execution_count": null,
   "metadata": {},
   "outputs": [],
   "source": []
  },
  {
   "cell_type": "code",
   "execution_count": 8,
   "metadata": {},
   "outputs": [],
   "source": [
    "@app.event\n",
    "def render(ct, dt):\n",
    "    \n",
    "    st.render(ct, dt)\n",
    "    l0.render()"
   ]
  },
  {
   "cell_type": "code",
   "execution_count": null,
   "metadata": {},
   "outputs": [],
   "source": []
  },
  {
   "cell_type": "code",
   "execution_count": 9,
   "metadata": {},
   "outputs": [],
   "source": [
    "sample = Sample('../docs/_static/audio/tb303.5.ogg', loop=True, amp=8.)\n",
    "sample.play()"
   ]
  },
  {
   "cell_type": "code",
   "execution_count": null,
   "metadata": {},
   "outputs": [],
   "source": []
  },
  {
   "cell_type": "code",
   "execution_count": 10,
   "metadata": {},
   "outputs": [
    {
     "data": {
      "application/vnd.jupyter.widget-view+json": {
       "model_id": "c9775505c8a54cb0b3e9034fe630ad70",
       "version_major": 2,
       "version_minor": 0
      },
      "text/plain": [
       "Image(value=b'\\xff\\xd8\\xff\\xe0\\x00\\x10JFIF\\x00\\x01\\x01\\x00\\x00\\x01\\x00\\x01\\x00\\x00\\xff\\xdb\\x00C\\x00\\x08\\x06\\x0…"
      ]
     },
     "metadata": {},
     "output_type": "display_data"
    }
   ],
   "source": [
    "app.run()"
   ]
  },
  {
   "cell_type": "code",
   "execution_count": null,
   "metadata": {},
   "outputs": [],
   "source": []
  }
 ],
 "metadata": {
  "kernelspec": {
   "display_name": "Python 3",
   "language": "python",
   "name": "python3"
  },
  "language_info": {
   "codemirror_mode": {
    "name": "ipython",
    "version": 3
   },
   "file_extension": ".py",
   "mimetype": "text/x-python",
   "name": "python",
   "nbconvert_exporter": "python",
   "pygments_lexer": "ipython3",
   "version": "3.8.5"
  }
 },
 "nbformat": 4,
 "nbformat_minor": 2
}
