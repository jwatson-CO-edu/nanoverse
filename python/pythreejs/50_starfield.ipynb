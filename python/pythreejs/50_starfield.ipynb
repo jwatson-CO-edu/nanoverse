{
 "cells": [
  {
   "cell_type": "code",
   "execution_count": 1,
   "id": "11901953-0554-4bf9-925d-cbdd132a7651",
   "metadata": {},
   "outputs": [],
   "source": [
    "from pythreejs import ( BufferGeometry, MeshPhongMaterial, Mesh, CombinedCamera, OrbitControls, \n",
    "                        Renderer, Scene, BufferAttribute, PerspectiveCamera, PointLight, AmbientLight )\n",
    "from IPython.display import display\n",
    "import numpy as np"
   ]
  },
  {
   "cell_type": "markdown",
   "id": "d03c5f59-4b0b-4551-9caf-a6ccaa670118",
   "metadata": {},
   "source": [
    "# Example 1\n",
    "https://github.com/jupyter-widgets/pythreejs/issues/152#issue-284900789 (2022-01-25, Functional!)"
   ]
  },
  {
   "cell_type": "markdown",
   "id": "168e1286-667c-4c89-a0a7-9b4755994a34",
   "metadata": {},
   "source": [
    "# Starship"
   ]
  },
  {
   "cell_type": "code",
   "execution_count": 2,
   "id": "03698b78-82ce-4fb3-874f-8be729993f1d",
   "metadata": {},
   "outputs": [
    {
     "name": "stderr",
     "output_type": "stream",
     "text": [
      "/home/james/.local/lib/python3.9/site-packages/jupyter_client/session.py:718: UserWarning: Message serialization failed with:\n",
      "Out of range float values are not JSON compliant\n",
      "Supporting this message is deprecated in jupyter-client 7, please make sure your message is JSON-compliant\n",
      "  content = self.pack(content)\n"
     ]
    },
    {
     "data": {
      "application/vnd.jupyter.widget-view+json": {
       "model_id": "32e534c0da234951b6d0482b129b4a77",
       "version_major": 2,
       "version_minor": 0
      },
      "text/plain": [
       "Renderer(camera=PerspectiveCamera(position=(10.0, 10.0, 10.0), projectionMatrix=(1.0, 0.0, 0.0, 0.0, 0.0, 1.0,…"
      ]
     },
     "metadata": {},
     "output_type": "display_data"
    }
   ],
   "source": [
    "wingspan  = 10.0\n",
    "fusFrac   =    0.5\n",
    "sweptFrac =    0.75\n",
    "thickFrac =    0.25\n",
    "\n",
    "# Fusilage\n",
    "frnt = [ 0.0               , 0.0, 0.0                  ] \n",
    "back = [-wingspan*fusFrac  , 0.0, 0.0                  ] \n",
    "drsl = [-wingspan*fusFrac/2, 0.0, +wingspan*thickFrac/2] \n",
    "vntl = [-wingspan*fusFrac/2, 0.0, -wingspan*thickFrac/2] \n",
    "# Wings\n",
    "left = [-wingspan*sweptFrac, -wingspan/2, 0.0] \n",
    "rght = [-wingspan*sweptFrac, +wingspan/2, 0.0] \n",
    "\n",
    "np_vertices = np.array([\n",
    "    frnt, # 0, Front\n",
    "    drsl, # 1, Top peak\n",
    "    vntl, # 2, Bottom peak\n",
    "    back, # 3, Back\n",
    "    left, # 4, Left wingtip\n",
    "    rght #- 5, Right wingtip \n",
    "], dtype=np.float32)\n",
    "\n",
    "np_faces = np.array([\n",
    "    0,4,1, # Left  Top    Front\n",
    "    1,4,3, # Left  Top    Back \n",
    "    5,0,1, # Right Top    Front\n",
    "    5,1,3, # Right Top    Back \n",
    "    0,2,4, # Left  Bottom Front\n",
    "    2,3,4, # Left  Bottom Back\n",
    "    0,5,2, # Right Bottom Front\n",
    "    2,5,3, # Right Bottom Back\n",
    "], dtype=np.uint32)\n",
    "\n",
    "ship_geo = BufferGeometry(attributes={\n",
    "    'position': BufferAttribute(np_vertices),\n",
    "    'index'   : BufferAttribute(np_faces)\n",
    "})\n",
    "\n",
    "ship_mat = MeshPhongMaterial(\n",
    "    color = '#4287f5',\n",
    "    shading = 'FlatShading'\n",
    ")\n",
    "\n",
    "ship_msh = Mesh(\n",
    "    geometry = ship_geo,\n",
    "    material = ship_mat\n",
    ")\n",
    "\n",
    "camera = PerspectiveCamera(\n",
    "    position = [10,10,10],\n",
    "    lookAt = [0,0,0]\n",
    ")\n",
    "\n",
    "# objects = Group()\n",
    "# objects.add(ship_msh)\n",
    "\n",
    "pntLgt = PointLight(color=\"#ffffff\", intensity=1, distance=0, decay=1)\n",
    "pntLgt.position = ( -1.0, 0.0, 5.0 )\n",
    "\n",
    "scene = Scene(\n",
    "    background='#000000', \n",
    "    background_opacity=1.0,\n",
    "    children = [\n",
    "        ship_msh,\n",
    "        AmbientLight(\n",
    "            color = '#FFFFFF'\n",
    "        ),\n",
    "        pntLgt\n",
    "    ]\n",
    ")\n",
    "\n",
    "renderer = Renderer(\n",
    "    camera = camera,\n",
    "    scene = scene,\n",
    "    controls = [\n",
    "        OrbitControls(\n",
    "            controlling = camera\n",
    "        )\n",
    "    ],\n",
    "    width=600, height=400\n",
    ")\n",
    "\n",
    "display( renderer )"
   ]
  },
  {
   "cell_type": "markdown",
   "id": "2a4bc4c8-be17-4282-a7b8-f6e265583358",
   "metadata": {},
   "source": [
    "# Starfield\n",
    "```\n",
    "[Y] Lock camera to third person with no mouse controls\n",
    "[ ] Define box to render streaked stars\n",
    "[ ] Create one streak\n",
    "[ ] Animate one streak\n",
    "[ ] Animate many streaks\n",
    "[ ] Fix lighting\n",
    "[ ] Output animated GIF -or- video\n",
    "```"
   ]
  },
  {
   "cell_type": "code",
   "execution_count": 3,
   "id": "030ccb77-6af6-4929-a72a-84e43da53d0b",
   "metadata": {},
   "outputs": [
    {
     "name": "stdout",
     "output_type": "stream",
     "text": [
      "(0.0, 0.0, 1.0)\n",
      "['__annotations__', '__class__', '__del__', '__delattr__', '__dict__', '__dir__', '__doc__', '__eq__', '__format__', '__ge__', '__getattribute__', '__getstate__', '__gt__', '__hash__', '__init__', '__init_subclass__', '__le__', '__lt__', '__module__', '__ne__', '__new__', '__reduce__', '__reduce_ex__', '__repr__', '__setattr__', '__setstate__', '__signature__', '__sizeof__', '__str__', '__subclasshook__', '__weakref__', '_add_notifiers', '_alpha', '_antialias', '_call_widget_constructed', '_comm_changed', '_compare', '_control_comm', '_cross_validation_lock', '_default_keys', '_display_callbacks', '_dom_classes', '_gen_repr_from_keys', '_get_embed_state', '_get_trait_default_generator', '_handle_control_comm_msg', '_handle_custom_msg', '_handle_displayed', '_handle_msg', '_height', '_holding_sync', '_ipython_display_', '_is_numpy', '_lock_property', '_log_default', '_model_id', '_model_module', '_model_module_version', '_model_name', '_msg_callbacks', '_notify_observers', '_notify_trait', '_pause_autorender', '_property_lock', '_register_validator', '_remove_notifiers', '_repr_keys', '_send', '_should_send_property', '_states_to_send', '_trait_default_generators', '_trait_from_json', '_trait_notifiers', '_trait_to_json', '_trait_validators', '_trait_values', '_view_count', '_view_module', '_view_module_version', '_view_name', '_webgl_version', '_widget_construction_callback', '_width', 'add_class', 'add_traits', 'autoClear', 'autoClearColor', 'autoClearDepth', 'autoClearStencil', 'background', 'background_opacity', 'camera', 'class_own_trait_events', 'class_own_traits', 'class_trait_names', 'class_traits', 'clearColor', 'clearOpacity', 'clippingPlanes', 'close', 'close_all', 'comm', 'controls', 'cross_validation_lock', 'freeze', 'gammaFactor', 'gammaInput', 'gammaOutput', 'get_manager_state', 'get_state', 'get_view_spec', 'handle_comm_opened', 'handle_control_comm_opened', 'has_trait', 'height', 'hold', 'hold_sync', 'hold_trait_notifications', 'keys', 'layout', 'localClippingEnabled', 'log', 'maxMorphNormals', 'maxMorphTargets', 'model_id', 'notify_change', 'observe', 'on_displayed', 'on_msg', 'on_trait_change', 'on_widget_constructed', 'open', 'physicallyCorrectLights', 'remove_class', 'render', 'scene', 'send', 'send_msg', 'send_state', 'set_state', 'set_trait', 'setup_instance', 'shadowMap', 'sortObject', 'toneMapping', 'toneMappingExposure', 'toneMappingWhitePoint', 'trait_defaults', 'trait_events', 'trait_has_value', 'trait_metadata', 'trait_names', 'trait_values', 'traits', 'unobserve', 'unobserve_all', 'widget_types', 'widgets', 'width']\n"
     ]
    },
    {
     "data": {
      "application/vnd.jupyter.widget-view+json": {
       "model_id": "5dcef8021f8a479faaac9d229de21e72",
       "version_major": 2,
       "version_minor": 0
      },
      "text/plain": [
       "Renderer(camera=PerspectiveCamera(position=(-30.0, 0.0, 10.0), projectionMatrix=(1.0, 0.0, 0.0, 0.0, 0.0, 1.0,…"
      ]
     },
     "metadata": {},
     "output_type": "display_data"
    }
   ],
   "source": [
    "########## SHIP ####################################################################################\n",
    "\n",
    "wingspan  = 10.0\n",
    "fusFrac   =    0.5\n",
    "sweptFrac =    0.75\n",
    "thickFrac =    0.25\n",
    "\n",
    "# Fusilage\n",
    "frnt = [ 0.0               , 0.0, 0.0                  ] \n",
    "back = [-wingspan*fusFrac  , 0.0, 0.0                  ] \n",
    "drsl = [-wingspan*fusFrac/2, 0.0, +wingspan*thickFrac/2] \n",
    "vntl = [-wingspan*fusFrac/2, 0.0, -wingspan*thickFrac/2] \n",
    "# Wings\n",
    "left = [-wingspan*sweptFrac, -wingspan/2, 0.0] \n",
    "rght = [-wingspan*sweptFrac, +wingspan/2, 0.0] \n",
    "\n",
    "np_vertices = np.array([\n",
    "    frnt, # 0, Front\n",
    "    drsl, # 1, Top peak\n",
    "    vntl, # 2, Bottom peak\n",
    "    back, # 3, Back\n",
    "    left, # 4, Left wingtip\n",
    "    rght #- 5, Right wingtip \n",
    "], dtype=np.float32)\n",
    "\n",
    "np_faces = np.array([\n",
    "    0,4,1, # Left  Top    Front\n",
    "    1,4,3, # Left  Top    Back \n",
    "    5,0,1, # Right Top    Front\n",
    "    5,1,3, # Right Top    Back \n",
    "    0,2,4, # Left  Bottom Front\n",
    "    2,3,4, # Left  Bottom Back\n",
    "    0,5,2, # Right Bottom Front\n",
    "    2,5,3, # Right Bottom Back\n",
    "], dtype=np.uint32)\n",
    "\n",
    "ship_geo = BufferGeometry(attributes={\n",
    "    'position': BufferAttribute(np_vertices),\n",
    "    'index'   : BufferAttribute(np_faces)\n",
    "})\n",
    "\n",
    "ship_mat = MeshPhongMaterial(\n",
    "    color = '#4287f5',\n",
    "    shading = 'FlatShading'\n",
    ")\n",
    "\n",
    "ship_msh = Mesh(\n",
    "    geometry = ship_geo,\n",
    "    material = ship_mat\n",
    ")\n",
    "\n",
    "\n",
    "\n",
    "########## STARS ###################################################################################\n",
    "\n",
    "starBox = [ [-50.0, +50.0] ,\n",
    "            [-50.0, +50.0] ,\n",
    "            [-50.0, +50.0] ]\n",
    "trailLims = [10, 50]\n",
    "lineList  = []\n",
    "Nlines    = 10\n",
    "\n",
    "\n",
    "\n",
    "########## WINDOW ##################################################################################\n",
    "\n",
    "camera = PerspectiveCamera(\n",
    "    position = [-30,0,10],\n",
    "    lookAt = [0,0,0],\n",
    "    up = [0,0,1]\n",
    ")\n",
    "\n",
    "# print( dir( camera ) )\n",
    "print( camera.up )\n",
    "\n",
    "# objects = Group()\n",
    "# objects.add(ship_msh)\n",
    "\n",
    "pntLgt = PointLight(color=\"#ffffff\", intensity=1, distance=0, decay=1)\n",
    "pntLgt.position = ( -1.0, 0.0, 5.0 )\n",
    "\n",
    "scene = Scene(\n",
    "    background='#000000', \n",
    "    background_opacity=1.0,\n",
    "    children = [\n",
    "        ship_msh,\n",
    "        AmbientLight(\n",
    "            color = '#FFFFFF'\n",
    "        ),\n",
    "        pntLgt\n",
    "    ]\n",
    ")\n",
    "\n",
    "camCtrl = OrbitControls( controlling = camera )\n",
    "# camCtrl.enabled = False;\n",
    "# print( dir( camCtrl ) )\n",
    "camCtrl.enableRotate = False\n",
    "camCtrl.enableZoom   = False\n",
    "\n",
    "renderer = Renderer(\n",
    "    camera = camera,\n",
    "    scene = scene,\n",
    "    controls = [\n",
    "        camCtrl\n",
    "    ],\n",
    "    width=600, height=400\n",
    ")\n",
    "\n",
    "print( dir( renderer ) )\n",
    "\n",
    "display( renderer )"
   ]
  },
  {
   "cell_type": "code",
   "execution_count": null,
   "id": "b034129d-4e3a-4765-9e56-680fa7b3f973",
   "metadata": {},
   "outputs": [],
   "source": []
  },
  {
   "cell_type": "code",
   "execution_count": null,
   "id": "4418e66a-a527-4678-a690-6fe5465b9233",
   "metadata": {},
   "outputs": [],
   "source": []
  },
  {
   "cell_type": "markdown",
   "id": "01a95602-e541-4b9d-b460-37673c51cb0a",
   "metadata": {},
   "source": [
    "# Grid\n",
    "```\n",
    "[ ] Create grid (use Graphics Class for guidance)\n",
    "[ ] Add ship over grid\n",
    "[ ] Animate grid passing under ship\n",
    "[ ] Random triangles passing by\n",
    "[ ] Interactive ship control {U,D,R,L} as ship moves \"forward\" at a constant rate\n",
    "```"
   ]
  },
  {
   "cell_type": "code",
   "execution_count": null,
   "id": "c3ea2f9e-098c-44ec-8cfb-10a5e566e7f4",
   "metadata": {},
   "outputs": [],
   "source": []
  },
  {
   "cell_type": "code",
   "execution_count": null,
   "id": "613fdb77-403d-479c-bd7e-edccf8207e2c",
   "metadata": {},
   "outputs": [],
   "source": []
  },
  {
   "cell_type": "code",
   "execution_count": null,
   "id": "4209f6f5-d589-4c08-98a4-d337969334c9",
   "metadata": {},
   "outputs": [],
   "source": []
  }
 ],
 "metadata": {
  "kernelspec": {
   "display_name": "Python 3 (ipykernel)",
   "language": "python",
   "name": "python3"
  },
  "language_info": {
   "codemirror_mode": {
    "name": "ipython",
    "version": 3
   },
   "file_extension": ".py",
   "mimetype": "text/x-python",
   "name": "python",
   "nbconvert_exporter": "python",
   "pygments_lexer": "ipython3",
   "version": "3.9.13"
  }
 },
 "nbformat": 4,
 "nbformat_minor": 5
}
