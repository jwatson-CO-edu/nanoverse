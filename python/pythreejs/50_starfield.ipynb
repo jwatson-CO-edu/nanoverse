{
 "cells": [
  {
   "cell_type": "code",
   "execution_count": 1,
   "id": "11901953-0554-4bf9-925d-cbdd132a7651",
   "metadata": {},
   "outputs": [],
   "source": [
    "from pythreejs import ( BufferGeometry, MeshPhongMaterial, Mesh, CombinedCamera, OrbitControls, \n",
    "                        Renderer, Scene, BufferAttribute, PerspectiveCamera, PointLight, AmbientLight )\n",
    "from IPython.display import display\n",
    "import numpy as np"
   ]
  },
  {
   "cell_type": "markdown",
   "id": "d03c5f59-4b0b-4551-9caf-a6ccaa670118",
   "metadata": {},
   "source": [
    "# Example 1\n",
    "https://github.com/jupyter-widgets/pythreejs/issues/152#issue-284900789 (2022-01-25, Functional!)"
   ]
  },
  {
   "cell_type": "markdown",
   "id": "168e1286-667c-4c89-a0a7-9b4755994a34",
   "metadata": {},
   "source": [
    "# Starship"
   ]
  },
  {
   "cell_type": "code",
   "execution_count": 2,
   "id": "03698b78-82ce-4fb3-874f-8be729993f1d",
   "metadata": {},
   "outputs": [
    {
     "name": "stderr",
     "output_type": "stream",
     "text": [
      "/home/james/.local/lib/python3.9/site-packages/jupyter_client/session.py:718: UserWarning: Message serialization failed with:\n",
      "Out of range float values are not JSON compliant\n",
      "Supporting this message is deprecated in jupyter-client 7, please make sure your message is JSON-compliant\n",
      "  content = self.pack(content)\n"
     ]
    },
    {
     "data": {
      "application/vnd.jupyter.widget-view+json": {
       "model_id": "8ea9276d0f8b48d2b54eac8ca862e79d",
       "version_major": 2,
       "version_minor": 0
      },
      "text/plain": [
       "Renderer(camera=PerspectiveCamera(position=(10.0, 10.0, 10.0), projectionMatrix=(1.0, 0.0, 0.0, 0.0, 0.0, 1.0,…"
      ]
     },
     "metadata": {},
     "output_type": "display_data"
    }
   ],
   "source": [
    "wingspan  = 10.0\n",
    "fusFrac   =    0.5\n",
    "sweptFrac =    0.75\n",
    "thickFrac =    0.25\n",
    "\n",
    "# Fusilage\n",
    "frnt = [ 0.0               , 0.0, 0.0                  ] \n",
    "back = [-wingspan*fusFrac  , 0.0, 0.0                  ] \n",
    "drsl = [-wingspan*fusFrac/2, 0.0, +wingspan*thickFrac/2] \n",
    "vntl = [-wingspan*fusFrac/2, 0.0, -wingspan*thickFrac/2] \n",
    "# Wings\n",
    "left = [-wingspan*sweptFrac, -wingspan/2, 0.0] \n",
    "rght = [-wingspan*sweptFrac, +wingspan/2, 0.0] \n",
    "\n",
    "np_vertices = np.array([\n",
    "    frnt, # 0, Front\n",
    "    drsl, # 1, Top peak\n",
    "    vntl, # 2, Bottom peak\n",
    "    back, # 3, Back\n",
    "    left, # 4, Left wingtip\n",
    "    rght #- 5, Right wingtip \n",
    "], dtype=np.float32)\n",
    "\n",
    "np_faces = np.array([\n",
    "    0,4,1, # Left  Top    Front\n",
    "    1,4,3, # Left  Top    Back \n",
    "    5,0,1, # Right Top    Front\n",
    "    5,1,3, # Right Top    Back \n",
    "    0,2,4, # Left  Bottom Front\n",
    "    2,3,4, # Left  Bottom Back\n",
    "    0,5,2, # Right Bottom Front\n",
    "    2,5,3, # Right Bottom Back\n",
    "], dtype=np.uint32)\n",
    "\n",
    "ship_geo = BufferGeometry(attributes={\n",
    "    'position': BufferAttribute(np_vertices),\n",
    "    'index'   : BufferAttribute(np_faces)\n",
    "})\n",
    "\n",
    "ship_mat = MeshPhongMaterial(\n",
    "    color = '#4287f5',\n",
    "    shading = 'FlatShading'\n",
    ")\n",
    "\n",
    "ship_msh = Mesh(\n",
    "    geometry = ship_geo,\n",
    "    material = ship_mat\n",
    ")\n",
    "\n",
    "camera = PerspectiveCamera(\n",
    "    position = [10,10,10],\n",
    "    lookAt = [0,0,0]\n",
    ")\n",
    "\n",
    "# objects = Group()\n",
    "# objects.add(ship_msh)\n",
    "\n",
    "pntLgt = PointLight(color=\"#ffffff\", intensity=1, distance=0, decay=1)\n",
    "pntLgt.position = ( -1.0, 0.0, 5.0 )\n",
    "\n",
    "scene = Scene(\n",
    "    background='#000000', \n",
    "    background_opacity=1.0,\n",
    "    children = [\n",
    "        ship_msh,\n",
    "        AmbientLight(\n",
    "            color = '#FFFFFF'\n",
    "        ),\n",
    "        pntLgt\n",
    "    ]\n",
    ")\n",
    "\n",
    "renderer = Renderer(\n",
    "    camera = camera,\n",
    "    scene = scene,\n",
    "    controls = [\n",
    "        OrbitControls(\n",
    "            controlling = camera\n",
    "        )\n",
    "    ],\n",
    "    width=600, height=400\n",
    ")\n",
    "\n",
    "display( renderer )"
   ]
  },
  {
   "cell_type": "markdown",
   "id": "2a4bc4c8-be17-4282-a7b8-f6e265583358",
   "metadata": {},
   "source": [
    "# Starfield\n",
    "```\n",
    "[ ] Lock camera to third person with no mouse controls\n",
    "[ ] Define box to render streaked stars\n",
    "[ ] Create one streak\n",
    "[ ] Animate one streak\n",
    "[ ] Animate many streaks\n",
    "[ ] Fix lighting\n",
    "[ ] Output animated GIF -or- video\n",
    "```"
   ]
  },
  {
   "cell_type": "code",
   "execution_count": null,
   "id": "030ccb77-6af6-4929-a72a-84e43da53d0b",
   "metadata": {},
   "outputs": [],
   "source": []
  },
  {
   "cell_type": "code",
   "execution_count": null,
   "id": "b034129d-4e3a-4765-9e56-680fa7b3f973",
   "metadata": {},
   "outputs": [],
   "source": []
  },
  {
   "cell_type": "code",
   "execution_count": null,
   "id": "4418e66a-a527-4678-a690-6fe5465b9233",
   "metadata": {},
   "outputs": [],
   "source": []
  },
  {
   "cell_type": "markdown",
   "id": "01a95602-e541-4b9d-b460-37673c51cb0a",
   "metadata": {},
   "source": [
    "# Grid\n",
    "```\n",
    "[ ] Create grid (use Graphics Class for guidance)\n",
    "[ ] Add ship over grid\n",
    "[ ] Animate grid passing under ship\n",
    "[ ] Random triangles passing by\n",
    "[ ] Interactive ship control {U,D,R,L} as ship moves \"forward\" at a constant rate\n",
    "```"
   ]
  },
  {
   "cell_type": "code",
   "execution_count": null,
   "id": "c3ea2f9e-098c-44ec-8cfb-10a5e566e7f4",
   "metadata": {},
   "outputs": [],
   "source": []
  },
  {
   "cell_type": "code",
   "execution_count": null,
   "id": "613fdb77-403d-479c-bd7e-edccf8207e2c",
   "metadata": {},
   "outputs": [],
   "source": []
  },
  {
   "cell_type": "code",
   "execution_count": null,
   "id": "4209f6f5-d589-4c08-98a4-d337969334c9",
   "metadata": {},
   "outputs": [],
   "source": []
  }
 ],
 "metadata": {
  "kernelspec": {
   "display_name": "Python 3 (ipykernel)",
   "language": "python",
   "name": "python3"
  },
  "language_info": {
   "codemirror_mode": {
    "name": "ipython",
    "version": 3
   },
   "file_extension": ".py",
   "mimetype": "text/x-python",
   "name": "python",
   "nbconvert_exporter": "python",
   "pygments_lexer": "ipython3",
   "version": "3.9.13"
  }
 },
 "nbformat": 4,
 "nbformat_minor": 5
}
