{
 "cells": [
  {
   "cell_type": "code",
   "execution_count": 1,
   "id": "900c30fc-bd30-4890-bd77-5c2846ff4f5e",
   "metadata": {},
   "outputs": [],
   "source": [
    "from pythreejs import *\n",
    "from IPython.display import display\n",
    "from ipywidgets import VBox, HBox, Checkbox, jslink\n",
    "import numpy as np"
   ]
  },
  {
   "cell_type": "code",
   "execution_count": 28,
   "id": "44435e08-5a36-4526-83bb-ff3f09c7fb5b",
   "metadata": {},
   "outputs": [
    {
     "name": "stdout",
     "output_type": "stream",
     "text": [
      "{'_trait_values': {'dir': (1.0, 0.0, 0.0), 'origin': (0.0, 0.0, 0.0), 'length': 1.0, 'color': '#ff0000', 'headLength': 0.25, 'headWidth': 0.25, 'comm': <ipykernel.comm.comm.Comm object at 0x7fa3e3ee4d60>, 'keys': ['_model_module', '_model_module_version', '_model_name', '_view_count', '_view_module', '_view_module_version', '_view_name', 'castShadow', 'color', 'dir', 'frustumCulled', 'headLength', 'headWidth', 'length', 'matrix', 'matrixAutoUpdate', 'matrixWorld', 'matrixWorldNeedsUpdate', 'modelViewMatrix', 'name', 'normalMatrix', 'origin', 'position', 'quaternion', 'receiveShadow', 'renderOrder', 'rotation', 'scale', 'type', 'up', 'visible'], '_model_module': 'jupyter-threejs', '_model_module_version': '^2.1.0', '_model_name': 'ArrowHelperModel', '_view_count': None, '_view_module': None, '_view_module_version': '', '_view_name': None, 'castShadow': False, 'frustumCulled': True, 'matrix': (1.0, 0.0, 0.0, 0.0, 0.0, 1.0, 0.0, 0.0, 0.0, 0.0, 1.0, 0.0, 0.0, 0.0, 0.0, 1.0), 'matrixAutoUpdate': True, 'matrixWorld': (1.0, 0.0, 0.0, 0.0, 0.0, 1.0, 0.0, 0.0, 0.0, 0.0, 1.0, 0.0, 0.0, 0.0, 0.0, 1.0), 'matrixWorldNeedsUpdate': False, 'modelViewMatrix': (1.0, 0.0, 0.0, 0.0, 0.0, 1.0, 0.0, 0.0, 0.0, 0.0, 1.0, 0.0, 0.0, 0.0, 0.0, 1.0), 'name': '', 'normalMatrix': (1.0, 0.0, 0.0, 0.0, 1.0, 0.0, 0.0, 0.0, 1.0), 'position': (0.0, 0.0, 0.0), 'quaternion': (0.0, 0.0, 0.0, 1.0), 'receiveShadow': False, 'renderOrder': 0, 'rotation': (0.0, 0.0, 0.0, 'XYZ'), 'scale': (1.0, 1.0, 1.0), 'type': 'ArrowHelper', 'up': (0.0, 1.0, 0.0), 'visible': True, '_msg_callbacks': <ipywidgets.widgets.widget.CallbackDispatcher object at 0x7fa3e3ee4850>}, '_trait_notifiers': {'comm': {'change': [<traitlets.traitlets.ObserveHandler object at 0x7fa408715b20>]}}, '_trait_validators': {}, '_cross_validation_lock': False, '_model_id': 'a7415ef41f5a4ffebda02986c59d23d4'}\n"
     ]
    },
    {
     "data": {
      "application/vnd.jupyter.widget-view+json": {
       "model_id": "ab894cf710414993a76bbee18206ebdf",
       "version_major": 2,
       "version_minor": 0
      },
      "text/plain": [
       "Renderer(background_opacity=0.5, camera=PerspectiveCamera(position=(10.0, 10.0, 10.0), projectionMatrix=(1.0, …"
      ]
     },
     "metadata": {},
     "output_type": "display_data"
    }
   ],
   "source": [
    "arw = ArrowHelper(\n",
    "    [1.0,0.0,0.0],\n",
    "    [0.0,0.0,0.0],\n",
    "    1.0,\n",
    "    '#ff0000',\n",
    "    0.25,\n",
    "    0.25\n",
    ")\n",
    "\n",
    "print( vars( arw ) )\n",
    "\n",
    "scene = Scene(children=[\n",
    "    arw,\n",
    "#     DirectionalLight(color='#ccaabb', position=[0,10,0]),\n",
    "#     AmbientLight(color='#cccccc'),\n",
    "    ])\n",
    "c = PerspectiveCamera(position=[10, 10, 10])\n",
    "renderer = Renderer(camera=c, background='black', background_opacity=0.5, scene=scene, controls=[OrbitControls(controlling=c)],\n",
    "                    width=400, height=400)\n",
    "display(renderer)"
   ]
  },
  {
   "cell_type": "code",
   "execution_count": 46,
   "id": "06997855-7008-401f-a494-587e86a4714a",
   "metadata": {},
   "outputs": [
    {
     "name": "stdout",
     "output_type": "stream",
     "text": [
      "['__class__', '__del__', '__delattr__', '__dict__', '__dir__', '__doc__', '__eq__', '__format__', '__ge__', '__getattribute__', '__getstate__', '__gt__', '__hash__', '__init__', '__init_subclass__', '__le__', '__lt__', '__module__', '__ne__', '__new__', '__reduce__', '__reduce_ex__', '__repr__', '__setattr__', '__setstate__', '__signature__', '__sizeof__', '__str__', '__subclasshook__', '__weakref__', '_add_notifiers', '_call_widget_constructed', '_comm_changed', '_compare', '_cross_validation_lock', '_default_keys', '_display_callbacks', '_gen_repr_from_keys', '_geometry_metadata', '_get_embed_state', '_get_trait_default_generator', '_handle_custom_msg', '_handle_displayed', '_handle_msg', '_holding_sync', '_ipython_display_', '_is_numpy', '_lock_property', '_log_default', '_material_metadata', '_model_id', '_model_module', '_model_module_version', '_model_name', '_msg_callbacks', '_notify_observers', '_notify_trait', '_on_potential_ret_val', '_on_ret_val', '_previewable', '_property_lock', '_register_validator', '_remove_notifiers', '_repr_keys', '_send', '_should_send_property', '_states_to_send', '_trait_default_generators', '_trait_from_json', '_trait_notifiers', '_trait_to_json', '_trait_validators', '_trait_values', '_view_count', '_view_module', '_view_module_version', '_view_name', '_widget_construction_callback', 'add', 'add_traits', 'castShadow', 'children', 'class_own_trait_events', 'class_own_traits', 'class_trait_names', 'class_traits', 'close', 'close_all', 'comm', 'cross_validation_lock', 'drawMode', 'exec_three_obj_method', 'frustumCulled', 'geometry', 'get_manager_state', 'get_state', 'get_view_spec', 'handle_comm_opened', 'has_trait', 'hold_sync', 'hold_trait_notifications', 'keys', 'log', 'lookAt', 'material', 'matrix', 'matrixAutoUpdate', 'matrixWorld', 'matrixWorldNeedsUpdate', 'modelViewMatrix', 'model_id', 'morphTargetInfluences', 'name', 'normalMatrix', 'notify_change', 'observe', 'on_displayed', 'on_msg', 'on_trait_change', 'on_widget_constructed', 'open', 'position', 'quaternion', 'receiveShadow', 'remove', 'renderOrder', 'rotateX', 'rotateY', 'rotateZ', 'rotation', 'scale', 'send', 'send_state', 'setRotationFromMatrix', 'set_state', 'set_trait', 'setup_instance', 'trait_defaults', 'trait_events', 'trait_has_value', 'trait_metadata', 'trait_names', 'trait_values', 'traits', 'type', 'unobserve', 'unobserve_all', 'up', 'visible', 'widget_types', 'widgets']\n"
     ]
    },
    {
     "data": {
      "application/vnd.jupyter.widget-view+json": {
       "model_id": "7213a04742214021a3571141cd064dfc",
       "version_major": 2,
       "version_minor": 0
      },
      "text/plain": [
       "Preview(child=Mesh(geometry=CylinderGeometry(height=0.25, heightSegments=2, radialSegments=4, radiusBottom=0.1…"
      ]
     },
     "metadata": {},
     "output_type": "display_data"
    }
   ],
   "source": [
    "geo = CylinderGeometry(\n",
    "    radiusTop=0.0,\n",
    "    radiusBottom=0.25/2.0,\n",
    "    height=0.25,\n",
    "    radialSegments=4,\n",
    "    heightSegments=2,\n",
    "    openEnded=False,\n",
    "    thetaStart=0,\n",
    "    thetaLength=2.0*pi,\n",
    "    color='red'\n",
    ")\n",
    "\n",
    "# geo.position.set( -100, -100, 0 )\n",
    "\n",
    "\n",
    "\n",
    "clr = MeshBasicMaterial( color = '#ff0000' )\n",
    "\n",
    "mesh = Mesh(geo,clr)\n",
    "mesh.position = [-100, -100, 0]\n",
    "\n",
    "print( dir( mesh ) )\n",
    "\n",
    "mesh"
   ]
  },
  {
   "cell_type": "code",
   "execution_count": 49,
   "id": "90307f06-d14f-4c78-8734-3490849c83b6",
   "metadata": {},
   "outputs": [
    {
     "data": {
      "application/vnd.jupyter.widget-view+json": {
       "model_id": "0ae0e4fc0e6f48a595bdd12d50e0ab3f",
       "version_major": 2,
       "version_minor": 0
      },
      "text/plain": [
       "Preview(child=Group(children=(LineSegments2(geometry=LineSegmentsGeometry(colors=array([[[1., 0., 0.],\n",
       "       …"
      ]
     },
     "metadata": {},
     "output_type": "display_data"
    }
   ],
   "source": [
    "g3 = LineSegmentsGeometry(\n",
    "    positions=[\n",
    "        [[0, 0, 0], [1, 0, 0]],\n",
    "        [[0, 0, 0], [0, 1, 0]],\n",
    "        [[0, 0, 0], [0, 0, 1]],\n",
    "    ],\n",
    "    colors=[\n",
    "        [[1, 0, 0], [1, 0, 0]],\n",
    "        [[0, 1, 0], [0, 1, 0]],\n",
    "        [[0, 0, 1], [0, 0, 1]],\n",
    "    ],\n",
    ")\n",
    "m3 = LineMaterial(linewidth=5, vertexColors='VertexColors')\n",
    "line3 = LineSegments2(g3, m3)\n",
    "\n",
    "geo = CylinderGeometry(\n",
    "    radiusTop=0.0,\n",
    "    radiusBottom=0.25/2.0,\n",
    "    height=0.25,\n",
    "    radialSegments=4,\n",
    "    heightSegments=2,\n",
    "    openEnded=False,\n",
    "    thetaStart=0,\n",
    "    thetaLength=2.0*pi\n",
    ")\n",
    "\n",
    "clr = MeshBasicMaterial( color = 'red' )\n",
    "\n",
    "mesh = Mesh(geo,clr)\n",
    "mesh.position = [1.0, 0.0, 0.0]\n",
    "mesh.rotateZ( -pi/2.0 )\n",
    "\n",
    "grp = Group()\n",
    "\n",
    "grp.add( line3 )\n",
    "grp.add( mesh )\n",
    "\n",
    "grp"
   ]
  },
  {
   "cell_type": "code",
   "execution_count": 55,
   "id": "6057e829-a9ef-4ddc-ae49-f6523d146383",
   "metadata": {},
   "outputs": [
    {
     "data": {
      "application/vnd.jupyter.widget-view+json": {
       "model_id": "225913f3cce7409c8e87e47d6aed402e",
       "version_major": 2,
       "version_minor": 0
      },
      "text/plain": [
       "Preview(child=Group(children=(LineSegments2(geometry=LineSegmentsGeometry(colors=array([[[1., 0., 0.],\n",
       "       …"
      ]
     },
     "metadata": {},
     "output_type": "display_data"
    }
   ],
   "source": [
    "def thick_origin_frame( scale = 1.0, headFrac = 0.2, linWidth = 5.0 ):\n",
    "    \"\"\" Return a coordinate axes frame with nice, beefy arrows \"\"\"\n",
    "    \n",
    "    # 0. Draw group to return \n",
    "    rtnGrp = Group()\n",
    "    \n",
    "    # 1. Construct arrow tails\n",
    "    g3 = LineSegmentsGeometry(\n",
    "        positions=[\n",
    "            [[0, 0, 0], [scale, 0    , 0    ]],\n",
    "            [[0, 0, 0], [0    , scale, 0    ]],\n",
    "            [[0, 0, 0], [0    , 0    , scale]],\n",
    "        ],\n",
    "        colors=[\n",
    "            [[1, 0, 0], [1, 0, 0]],\n",
    "            [[0, 1, 0], [0, 1, 0]],\n",
    "            [[0, 0, 1], [0, 0, 1]],\n",
    "        ],\n",
    "    )\n",
    "    m3 = LineMaterial(linewidth=linWidth, vertexColors='VertexColors')\n",
    "    line3 = LineSegments2(g3, m3)\n",
    "    rtnGrp.add( line3 )\n",
    "\n",
    "    # 2. Construct arrow heads\n",
    "    for i, spec in enumerate( [ \n",
    "        ((1.0, 0.0, 0.0), '#ff0000', 'rotateZ' ), \n",
    "        ((0.0, 1.0, 0.0), '#00ff00', 'rotateY' ), \n",
    "        ((0.0, 0.0, 1.0), '#0000ff', 'rotateX' ), \n",
    "    ]):\n",
    "        geo = CylinderGeometry(\n",
    "            radiusTop=0.0,\n",
    "            radiusBottom=0.25/2.0,\n",
    "            height=0.25,\n",
    "            radialSegments=4,\n",
    "            heightSegments=2,\n",
    "            openEnded=False,\n",
    "            thetaStart=0,\n",
    "            thetaLength=2.0*pi\n",
    "        )\n",
    "\n",
    "        clr = MeshBasicMaterial( color = spec[1] )\n",
    "\n",
    "        mesh = Mesh(geo,clr)\n",
    "        mesh.position = spec[0]\n",
    "        if i < 2:\n",
    "            rot = -pi/2.0\n",
    "        else:\n",
    "            rot = +pi/2.0\n",
    "        getattr( mesh, spec[2] ).__call__( rot )\n",
    "        rtnGrp.add( mesh )\n",
    "        \n",
    "    # 3. Return the composite group\n",
    "    return rtnGrp\n",
    "\n",
    "thick_origin_frame()"
   ]
  },
  {
   "cell_type": "code",
   "execution_count": null,
   "id": "04e61375-e913-4f22-9c35-e72af5d071c6",
   "metadata": {},
   "outputs": [],
   "source": []
  }
 ],
 "metadata": {
  "kernelspec": {
   "display_name": "Python 3",
   "language": "python",
   "name": "python3"
  },
  "language_info": {
   "codemirror_mode": {
    "name": "ipython",
    "version": 3
   },
   "file_extension": ".py",
   "mimetype": "text/x-python",
   "name": "python",
   "nbconvert_exporter": "python",
   "pygments_lexer": "ipython3",
   "version": "3.8.10"
  }
 },
 "nbformat": 4,
 "nbformat_minor": 5
}
