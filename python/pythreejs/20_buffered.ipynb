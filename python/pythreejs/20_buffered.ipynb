{
 "cells": [
  {
   "cell_type": "code",
   "execution_count": 3,
   "id": "11901953-0554-4bf9-925d-cbdd132a7651",
   "metadata": {},
   "outputs": [],
   "source": [
    "from pythreejs import BufferGeometry\n",
    "from IPython.display import display\n",
    "import numpy as np"
   ]
  },
  {
   "cell_type": "markdown",
   "id": "a0cdcebb-b656-47de-92dc-3062b84b72b1",
   "metadata": {},
   "source": [
    "# Triangle"
   ]
  },
  {
   "cell_type": "code",
   "execution_count": 7,
   "id": "64fb351a-feb3-4948-acf0-3165585c0ad1",
   "metadata": {},
   "outputs": [],
   "source": [
    "geo      = BufferGeometry()\n",
    "indices  = [];\n",
    "vertices = [];\n",
    "normals  = [];\n",
    "colors   = [];"
   ]
  },
  {
   "cell_type": "code",
   "execution_count": 9,
   "id": "e69a1507-735b-4c1e-8a75-80ff510bfcb7",
   "metadata": {},
   "outputs": [],
   "source": [
    "size        = 20;\n",
    "segments    = 10;\n",
    "halfSize    = size / 2;\n",
    "segmentSize = size / segments;"
   ]
  },
  {
   "cell_type": "code",
   "execution_count": 11,
   "id": "32571980-502b-45b0-b9fa-c2d81d591452",
   "metadata": {},
   "outputs": [],
   "source": [
    "for i in range( segments ):\n",
    "\n",
    "    y = ( i * segmentSize ) - halfSize;\n",
    "\n",
    "    for j in range( segments ):\n",
    "\n",
    "        x = ( j * segmentSize ) - halfSize;\n",
    "\n",
    "        vertices.extend( [x, - y, 0] );\n",
    "        normals.extend( [0, 0, 1] );\n",
    "\n",
    "        r = ( x / size ) + 0.5;\n",
    "        g = ( y / size ) + 0.5;\n",
    "\n",
    "        colors.extend( [r, g, 1] );\n"
   ]
  },
  {
   "cell_type": "code",
   "execution_count": 14,
   "id": "ae0658b6-4e49-440a-bf66-fba85c8dd73b",
   "metadata": {},
   "outputs": [],
   "source": [
    "# generate indices (data for element array buffer)\n",
    "\n",
    "for i in range( segments ):\n",
    "\n",
    "    for j in range( segments ):\n",
    "\n",
    "        a = i * ( segments + 1 ) + ( j + 1 );\n",
    "        b = i * ( segments + 1 ) + j;\n",
    "        c = ( i + 1 ) * ( segments + 1 ) + j;\n",
    "        d = ( i + 1 ) * ( segments + 1 ) + ( j + 1 );\n",
    "\n",
    "        # generate two faces (triangles) per iteration\n",
    "\n",
    "        indices.extend( [a, b, d] ); # face one\n",
    "        indices.extend( [b, c, d] ); # face two\n"
   ]
  },
  {
   "cell_type": "code",
   "execution_count": 16,
   "id": "bcb3b7dc-0c5a-4a6b-9841-4e6b47dd333d",
   "metadata": {},
   "outputs": [],
   "source": [
    "geo.indices = indices \n",
    "# FIXME: START HERE\n",
    "geometry.setAttribute( 'position', new THREE.Float32BufferAttribute( vertices, 3 ) );\n",
    "geometry.setAttribute( 'normal',   new THREE.Float32BufferAttribute( normals , 3 ) );\n",
    "geometry.setAttribute( 'color',    new THREE.Float32BufferAttribute( colors  , 3 ) );"
   ]
  },
  {
   "cell_type": "markdown",
   "id": "1075380d-8875-4b50-ba67-c7ca9e24910f",
   "metadata": {},
   "source": [
    "# Starship"
   ]
  },
  {
   "cell_type": "code",
   "execution_count": 6,
   "id": "03698b78-82ce-4fb3-874f-8be729993f1d",
   "metadata": {},
   "outputs": [],
   "source": [
    "wingspan  = 10.0\n",
    "fusFrac   =    0.5\n",
    "sweptFrac =    0.75\n",
    "thickFrac =    0.25\n",
    "\n",
    "# Fusilage\n",
    "frnt = [ 0.0               , 0.0, 0.0                  ] \n",
    "back = [-wingspan*fusFrac  , 0.0, 0.0                  ] \n",
    "drsl = [-wingspan*fusFrac/2, 0.0, +wingspan*thickFrac/2] \n",
    "vntl = [-wingspan*fusFrac/2, 0.0, -wingspan*thickFrac/2] \n",
    "# Wings\n",
    "left = [0.0, -wingspan/2, 0.0] \n",
    "rght = [0.0, +wingspan/2, 0.0] "
   ]
  },
  {
   "cell_type": "code",
   "execution_count": null,
   "id": "6e8022e8-b65e-4740-94e8-7358f1c5f6d6",
   "metadata": {},
   "outputs": [],
   "source": []
  }
 ],
 "metadata": {
  "kernelspec": {
   "display_name": "Python 3 (ipykernel)",
   "language": "python",
   "name": "python3"
  },
  "language_info": {
   "codemirror_mode": {
    "name": "ipython",
    "version": 3
   },
   "file_extension": ".py",
   "mimetype": "text/x-python",
   "name": "python",
   "nbconvert_exporter": "python",
   "pygments_lexer": "ipython3",
   "version": "3.8.10"
  }
 },
 "nbformat": 4,
 "nbformat_minor": 5
}
