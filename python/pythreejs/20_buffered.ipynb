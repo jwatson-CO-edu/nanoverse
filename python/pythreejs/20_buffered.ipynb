{
 "cells": [
  {
   "cell_type": "code",
   "execution_count": 1,
   "id": "11901953-0554-4bf9-925d-cbdd132a7651",
   "metadata": {},
   "outputs": [],
   "source": [
    "from pythreejs import ( BufferGeometry, MeshPhongMaterial, Mesh, CombinedCamera, OrbitControls, \n",
    "                        Renderer, Scene, BufferAttribute )\n",
    "from IPython.display import display\n",
    "import numpy as np"
   ]
  },
  {
   "cell_type": "markdown",
   "id": "d03c5f59-4b0b-4551-9caf-a6ccaa670118",
   "metadata": {},
   "source": [
    "# Example 1\n",
    "https://github.com/jupyter-widgets/pythreejs/issues/152#issue-284900789 (2022-01-25, Functional!)"
   ]
  },
  {
   "cell_type": "code",
   "execution_count": 10,
   "id": "ec62a7fb-47b1-4a11-8426-c74203901c69",
   "metadata": {},
   "outputs": [
    {
     "data": {
      "application/vnd.jupyter.widget-view+json": {
       "model_id": "7251d92474cc40e7881546fb86821600",
       "version_major": 2,
       "version_minor": 0
      },
      "text/plain": [
       "HTML(value='not clicked')"
      ]
     },
     "metadata": {},
     "output_type": "display_data"
    },
    {
     "data": {
      "application/vnd.jupyter.widget-view+json": {
       "model_id": "3c087f4f70b845f1ac341bcb5b70a971",
       "version_major": 2,
       "version_minor": 0
      },
      "text/plain": [
       "Renderer(camera=PerspectiveCamera(position=(10.0, 10.0, 10.0), projectionMatrix=(1.0, 0.0, 0.0, 0.0, 0.0, 1.0,…"
      ]
     },
     "metadata": {},
     "output_type": "display_data"
    }
   ],
   "source": [
    "from pythreejs import *\n",
    "from IPython.display import display\n",
    "from ipywidgets import HTML\n",
    "\n",
    "import numpy\n",
    "\n",
    "cube_geo = BoxGeometry(\n",
    "    width = 2,\n",
    "    height = 2,\n",
    "    depth = 2\n",
    ")\n",
    "\n",
    "# comment ...\n",
    "\n",
    "np_vertices = numpy.array([\n",
    "    (0,0,0),\n",
    "    (2,0,0),\n",
    "    (0,2,0),\n",
    "    (2,2,0),\n",
    "], dtype=numpy.float32)\n",
    "\n",
    "np_faces = numpy.array([\n",
    "    0,1,2, 1,3,2\n",
    "], dtype=numpy.uint32)\n",
    "\n",
    "cube_geo = BufferGeometry(attributes={\n",
    "    'position': BufferAttribute(np_vertices),\n",
    "    'index'   : BufferAttribute(np_faces)\n",
    "})\n",
    "\n",
    "# ... till here to have working code\n",
    "\n",
    "cube_mat = MeshLambertMaterial(\n",
    "    color = '#feb74c',\n",
    "    shading = 'FlatShading'\n",
    ")\n",
    "\n",
    "cube = Mesh(\n",
    "    geometry = cube_geo,\n",
    "    material = cube_mat\n",
    ")\n",
    "\n",
    "html = HTML(\"not clicked\")\n",
    "\n",
    "def f(*args):\n",
    "    html.value = \"clicked!\"\n",
    "\n",
    "pickable_objects = Group()\n",
    "pickable_objects.add(cube)\n",
    "\n",
    "click_picker = Picker(\n",
    "    controlling = pickable_objects,\n",
    "    event = 'dblclick'\n",
    ")\n",
    "click_picker.observe(f, names=[\"point\"])\n",
    "\n",
    "camera = PerspectiveCamera(\n",
    "    position = [10,10,10],\n",
    "    lookAt = [1,1,1]\n",
    ")\n",
    "\n",
    "scene = Scene(\n",
    "    children = [\n",
    "        pickable_objects,\n",
    "        AmbientLight(\n",
    "            color = '#606060'\n",
    "        )\n",
    "    ]\n",
    ")\n",
    "\n",
    "renderer = Renderer(\n",
    "    camera = camera,\n",
    "    scene = scene,\n",
    "    controls = [\n",
    "        OrbitControls(\n",
    "            controlling = camera\n",
    "        ),\n",
    "        click_picker\n",
    "    ]\n",
    ")\n",
    "\n",
    "display(html, renderer)"
   ]
  },
  {
   "cell_type": "markdown",
   "id": "fd6d2c9d-e6ff-47fa-a01e-5e257a1b9ee1",
   "metadata": {},
   "source": [
    "# Adapt Example 1"
   ]
  },
  {
   "cell_type": "code",
   "execution_count": 11,
   "id": "ef25a324-9a4c-4db2-a379-5ba26f72a7ab",
   "metadata": {},
   "outputs": [],
   "source": [
    "from pythreejs import *\n",
    "from IPython.display import display\n",
    "from ipywidgets import HTML"
   ]
  },
  {
   "cell_type": "code",
   "execution_count": 12,
   "id": "d83d6487-65f5-4bc2-9e71-2a3239fcc8aa",
   "metadata": {},
   "outputs": [
    {
     "data": {
      "application/vnd.jupyter.widget-view+json": {
       "model_id": "0aedcc805a8f4e7b89fea1afcc566de7",
       "version_major": 2,
       "version_minor": 0
      },
      "text/plain": [
       "Renderer(camera=PerspectiveCamera(position=(10.0, 10.0, 10.0), projectionMatrix=(1.0, 0.0, 0.0, 0.0, 0.0, 1.0,…"
      ]
     },
     "metadata": {},
     "output_type": "display_data"
    }
   ],
   "source": [
    "np_vertices = numpy.array([\n",
    "    (0,0,0),\n",
    "    (2,0,0),\n",
    "    (0,2,0),\n",
    "    (2,2,0),\n",
    "], dtype=numpy.float32)\n",
    "\n",
    "np_faces = numpy.array([\n",
    "    0,1,2, 1,3,2\n",
    "], dtype=numpy.uint32)\n",
    "\n",
    "cube_geo = BufferGeometry(attributes={\n",
    "    'position': BufferAttribute(np_vertices),\n",
    "    'index'   : BufferAttribute(np_faces)\n",
    "})\n",
    "\n",
    "cube_mat = MeshLambertMaterial(\n",
    "    color = '#feb74c',\n",
    "    shading = 'FlatShading'\n",
    ")\n",
    "\n",
    "cube = Mesh(\n",
    "    geometry = cube_geo,\n",
    "    material = cube_mat\n",
    ")\n",
    "\n",
    "camera = PerspectiveCamera(\n",
    "    position = [10,10,10],\n",
    "    lookAt = [1,1,1]\n",
    ")\n",
    "\n",
    "pickable_objects = Group()\n",
    "pickable_objects.add(cube)\n",
    "\n",
    "scene = Scene(\n",
    "    children = [\n",
    "        pickable_objects,\n",
    "        AmbientLight(\n",
    "            color = '#606060'\n",
    "        )\n",
    "    ]\n",
    ")\n",
    "\n",
    "renderer = Renderer(\n",
    "    camera = camera,\n",
    "    scene = scene,\n",
    "    controls = [\n",
    "        OrbitControls(\n",
    "            controlling = camera\n",
    "        )\n",
    "    ]\n",
    ")\n",
    "\n",
    "display(renderer)"
   ]
  },
  {
   "cell_type": "markdown",
   "id": "168e1286-667c-4c89-a0a7-9b4755994a34",
   "metadata": {},
   "source": [
    "# Starship"
   ]
  },
  {
   "cell_type": "code",
   "execution_count": 9,
   "id": "03698b78-82ce-4fb3-874f-8be729993f1d",
   "metadata": {},
   "outputs": [],
   "source": [
    "wingspan  = 10.0\n",
    "fusFrac   =    0.5\n",
    "sweptFrac =    0.75\n",
    "thickFrac =    0.25\n",
    "\n",
    "# Fusilage\n",
    "frnt = [ 0.0               , 0.0, 0.0                  ] \n",
    "back = [-wingspan*fusFrac  , 0.0, 0.0                  ] \n",
    "drsl = [-wingspan*fusFrac/2, 0.0, +wingspan*thickFrac/2] \n",
    "vntl = [-wingspan*fusFrac/2, 0.0, -wingspan*thickFrac/2] \n",
    "# Wings\n",
    "left = [0.0, -wingspan/2, 0.0] \n",
    "rght = [0.0, +wingspan/2, 0.0] \n",
    "\n",
    "np_vertices = numpy.array([\n",
    "    frnt, # 0, Front\n",
    "    drsl, # 1, Top peak\n",
    "    vntl, # 2, Bottom peak\n",
    "    back, # 3, Back\n",
    "    left, # 4, Left wingtip\n",
    "    rght #- 5, Right wingtip \n",
    "], dtype=numpy.float32)\n",
    "\n",
    "np_faces = numpy.array([\n",
    "    0,4,1, # Left  Top    Front\n",
    "    1,4,3, # Left  Top    Back \n",
    "    5,0,1, # Right Top    Front\n",
    "    5,1,3, # Right Top    Back \n",
    "    0,2,4, # Left  Bottom Front\n",
    "    2,3,4, # Left  Bottom Back\n",
    "    0,5,2, # Right Bottom Front\n",
    "    2,5,3, # Right Bottom Back\n",
    "], dtype=numpy.uint32)\n",
    "\n",
    "ship_geo = BufferGeometry(attributes={\n",
    "    'position': BufferAttribute(np_vertices),\n",
    "    'index'   : BufferAttribute(np_faces)\n",
    "})"
   ]
  },
  {
   "cell_type": "code",
   "execution_count": null,
   "id": "7aeb52ca-14f2-4f90-ae67-cb391180c529",
   "metadata": {},
   "outputs": [],
   "source": []
  }
 ],
 "metadata": {
  "kernelspec": {
   "display_name": "Python 3 (ipykernel)",
   "language": "python",
   "name": "python3"
  },
  "language_info": {
   "codemirror_mode": {
    "name": "ipython",
    "version": 3
   },
   "file_extension": ".py",
   "mimetype": "text/x-python",
   "name": "python",
   "nbconvert_exporter": "python",
   "pygments_lexer": "ipython3",
   "version": "3.9.13"
  }
 },
 "nbformat": 4,
 "nbformat_minor": 5
}
