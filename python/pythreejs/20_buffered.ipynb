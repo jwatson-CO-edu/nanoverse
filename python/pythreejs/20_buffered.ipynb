{
 "cells": [
  {
   "cell_type": "code",
   "execution_count": 10,
   "id": "11901953-0554-4bf9-925d-cbdd132a7651",
   "metadata": {},
   "outputs": [],
   "source": [
    "from pythreejs import ( BufferGeometry, MeshPhongMaterial, Mesh, CombinedCamera, OrbitControls, \n",
    "                        Renderer, Scene, BufferAttribute )\n",
    "from IPython.display import display\n",
    "import numpy as np"
   ]
  },
  {
   "cell_type": "markdown",
   "id": "a0cdcebb-b656-47de-92dc-3062b84b72b1",
   "metadata": {},
   "source": [
    "# Triangle"
   ]
  },
  {
   "cell_type": "code",
   "execution_count": 11,
   "id": "64fb351a-feb3-4948-acf0-3165585c0ad1",
   "metadata": {},
   "outputs": [],
   "source": [
    "geo      = BufferGeometry()\n",
    "indices  = [];\n",
    "vertices = [];\n",
    "normals  = [];\n",
    "colors   = [];"
   ]
  },
  {
   "cell_type": "code",
   "execution_count": 12,
   "id": "e69a1507-735b-4c1e-8a75-80ff510bfcb7",
   "metadata": {},
   "outputs": [],
   "source": [
    "size        = 20;\n",
    "segments    = 10;\n",
    "halfSize    = size / 2;\n",
    "segmentSize = size / segments;\n",
    "dim         = size * 1.5 / 2.0 \n",
    "view_width  = view_height = 600\n",
    "target      = [0.0,0.0,0.0]"
   ]
  },
  {
   "cell_type": "code",
   "execution_count": 13,
   "id": "32571980-502b-45b0-b9fa-c2d81d591452",
   "metadata": {},
   "outputs": [],
   "source": [
    "for i in range( segments ):\n",
    "\n",
    "    y = ( i * segmentSize ) - halfSize;\n",
    "\n",
    "    for j in range( segments ):\n",
    "\n",
    "        x = ( j * segmentSize ) - halfSize;\n",
    "\n",
    "        if 0:\n",
    "            vertices.extend( [x, - y, 0] );\n",
    "            normals.extend( [0, 0, 1] );\n",
    "        else:\n",
    "            vertices.append( [x, - y, 0] );\n",
    "            normals.append( [0, 0, 1] );\n",
    "\n",
    "        r = ( x / size ) + 0.5;\n",
    "        g = ( y / size ) + 0.5;\n",
    "\n",
    "        if 0:\n",
    "            colors.extend( [r, g, 1] );\n",
    "        else:\n",
    "            colors.append( [r, g, 1] );\n",
    "            \n"
   ]
  },
  {
   "cell_type": "code",
   "execution_count": 22,
   "id": "ae0658b6-4e49-440a-bf66-fba85c8dd73b",
   "metadata": {},
   "outputs": [],
   "source": [
    "# generate indices (data for element array buffer)\n",
    "\n",
    "for i in range( segments ):\n",
    "\n",
    "    for j in range( segments ):\n",
    "\n",
    "        a = i * ( segments + 1 ) + ( j + 1 );\n",
    "        b = i * ( segments + 1 ) + j;\n",
    "        c = ( i + 1 ) * ( segments + 1 ) + j;\n",
    "        d = ( i + 1 ) * ( segments + 1 ) + ( j + 1 );\n",
    "\n",
    "        # generate two faces (triangles) per iteration\n",
    "\n",
    "        if 0:\n",
    "            indices.extend( [a, b, d] ); # face one\n",
    "            indices.extend( [b, c, d] ); # face two\n",
    "        else:\n",
    "            indices.append( [a, b, d] ); # face one\n",
    "            indices.append( [b, c, d] ); # face two\n"
   ]
  },
  {
   "cell_type": "code",
   "execution_count": 23,
   "id": "bcb3b7dc-0c5a-4a6b-9841-4e6b47dd333d",
   "metadata": {},
   "outputs": [],
   "source": [
    "geo.indices  = indices \n",
    "geo.position = BufferAttribute( array      = vertices ,\n",
    "                                normalized = False    )\n",
    "geo.normal   = BufferAttribute( array      = normals ,\n",
    "                                normalized = False    )\n",
    "geo.color    = BufferAttribute( array      = colors ,\n",
    "                                normalized = False    )\n",
    "\n",
    "matl = MeshPhongMaterial(\n",
    "    vertexColors = 'VertexColors',\n",
    "    side         = 'DoubleSide',\n",
    ")\n",
    "\n",
    "mesh = Mesh(\n",
    "    geo,\n",
    "    matl\n",
    ")\n",
    "mesh.position = [0,0,0]\n",
    "\n",
    "scene = Scene(\n",
    "#     children=[foo, vtx],\n",
    "    children=[mesh,],\n",
    "    background='#000000', background_opacity=1.0\n",
    ")\n",
    "\n",
    "# geometry.setAttribute( 'position', new THREE.Float32BufferAttribute( vertices, 3 ) );\n",
    "# geometry.setAttribute( 'normal',   new THREE.Float32BufferAttribute( normals , 3 ) );\n",
    "# geometry.setAttribute( 'color',    new THREE.Float32BufferAttribute( colors  , 3 ) );"
   ]
  },
  {
   "cell_type": "code",
   "execution_count": 24,
   "id": "573287e4-733b-4803-92f4-c85004ef7264",
   "metadata": {},
   "outputs": [],
   "source": [
    "camera = CombinedCamera(position=[dim/1, dim/1,dim/1], width=view_width, height=view_height)\n",
    "camera.lookAt(target)\n",
    "\n",
    "orbit = OrbitControls(controlling=camera, target=target)\n",
    "\n",
    "\n",
    "renderer = Renderer(scene=scene, camera=camera, controls=[orbit],\n",
    "                    width=view_width, height=view_height                   )"
   ]
  },
  {
   "cell_type": "code",
   "execution_count": 25,
   "id": "e802df1b-d06e-4d53-a461-9417a4db4d9b",
   "metadata": {},
   "outputs": [
    {
     "data": {
      "application/vnd.jupyter.widget-view+json": {
       "model_id": "209cb7aa5b7d4c2d8683d430b98d1eda",
       "version_major": 2,
       "version_minor": 0
      },
      "text/plain": [
       "Renderer(camera=CombinedCamera(height=600.0, position=(15.0, 15.0, 15.0), projectionMatrix=(2.1445069205095586…"
      ]
     },
     "metadata": {},
     "output_type": "display_data"
    }
   ],
   "source": [
    "display( renderer )"
   ]
  },
  {
   "cell_type": "markdown",
   "id": "1075380d-8875-4b50-ba67-c7ca9e24910f",
   "metadata": {},
   "source": [
    "# Starship"
   ]
  },
  {
   "cell_type": "code",
   "execution_count": 9,
   "id": "03698b78-82ce-4fb3-874f-8be729993f1d",
   "metadata": {},
   "outputs": [],
   "source": [
    "wingspan  = 10.0\n",
    "fusFrac   =    0.5\n",
    "sweptFrac =    0.75\n",
    "thickFrac =    0.25\n",
    "\n",
    "# Fusilage\n",
    "frnt = [ 0.0               , 0.0, 0.0                  ] \n",
    "back = [-wingspan*fusFrac  , 0.0, 0.0                  ] \n",
    "drsl = [-wingspan*fusFrac/2, 0.0, +wingspan*thickFrac/2] \n",
    "vntl = [-wingspan*fusFrac/2, 0.0, -wingspan*thickFrac/2] \n",
    "# Wings\n",
    "left = [0.0, -wingspan/2, 0.0] \n",
    "rght = [0.0, +wingspan/2, 0.0] "
   ]
  },
  {
   "cell_type": "code",
   "execution_count": null,
   "id": "6e8022e8-b65e-4740-94e8-7358f1c5f6d6",
   "metadata": {},
   "outputs": [],
   "source": []
  }
 ],
 "metadata": {
  "kernelspec": {
   "display_name": "Python 3 (ipykernel)",
   "language": "python",
   "name": "python3"
  },
  "language_info": {
   "codemirror_mode": {
    "name": "ipython",
    "version": 3
   },
   "file_extension": ".py",
   "mimetype": "text/x-python",
   "name": "python",
   "nbconvert_exporter": "python",
   "pygments_lexer": "ipython3",
   "version": "3.8.10"
  }
 },
 "nbformat": 4,
 "nbformat_minor": 5
}
