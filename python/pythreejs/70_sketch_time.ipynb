{
 "cells": [
  {
   "cell_type": "code",
   "execution_count": 1,
   "id": "d63019c2-b2b0-472a-834f-4c5625cff8db",
   "metadata": {},
   "outputs": [],
   "source": [
    "import numpy as np\n",
    "from numpy import sqrt\n",
    "from IPython.display import display\n",
    "\n",
    "from pythreejs import ( BufferGeometry, MeshPhongMaterial, Mesh, CombinedCamera, OrbitControls, \n",
    "                        Renderer, Scene, BufferAttribute, PerspectiveCamera, PointLight, AmbientLight, EdgesGeometry,\n",
    "                        LineBasicMaterial, LineSegments, Group )\n",
    "\n",
    "from dh_graphics import get_renderer_for_obj_list, _COL_BLACK, _MAT_BSC_WHITE"
   ]
  },
  {
   "cell_type": "code",
   "execution_count": 2,
   "id": "27a78069-9e67-4ca8-8227-0b33363cf117",
   "metadata": {},
   "outputs": [],
   "source": [
    "def color_int_to_web( tupIntCol ):\n",
    "    \"\"\" Given an iterable of ints (0-255), return the string of the web color \"\"\"\n",
    "    rtnStr = \"#\"\n",
    "    for elem in tupIntCol:\n",
    "        rtnStr += str( hex( elem ) ).split('x')[-1].rjust(2, '0') \n",
    "    return rtnStr\n",
    "\n",
    "\n",
    "def color_float_to_web( tupFloatCol ):\n",
    "    \"\"\" Given an iterable of floats (0.0-1.0), return the string of the web color \"\"\"\n",
    "    rtnStr = \"#\"\n",
    "    for elem in tupFloatCol:\n",
    "        rtnStr += str( hex( int(elem * 255) ) ).split('x')[-1].rjust(2, '0') \n",
    "    return rtnStr\n",
    "\n",
    "\n",
    "def get_regular_icosahedron_VF( rad ):\n",
    "    \"\"\" Get the vertices and faces of a regular icosahedron of the given radius \"\"\"\n",
    "    # http://paulbourke.net/geometry/platonic/icosahedron.vf\n",
    "    sqrt5 = sqrt( 5.0 ) # ----------------------------------- Needed for golden ratio\n",
    "    phi = ( 1.0  + sqrt5 ) * 0.5 # -------------------------- golden ratio\n",
    "    ratio = sqrt( 10.0 + ( 2.0  * sqrt5 ) ) / ( 4.0 * phi ) # ratio of edge length to radius\n",
    "    a = ( rad / ratio ) * 0.5 # ----------------------------- Construction parameter `a`\n",
    "    b = ( rad / ratio ) / ( 2.0 * phi ) # ------------------- Construction parameter `b`\n",
    "    \n",
    "    vertices =  np.array([\n",
    "         # X,    Y,    Z,\n",
    "        [ 0.0,  b  , -a  ],\n",
    "        [ b  ,  a  ,  0.0],\n",
    "        [-b  ,  a  ,  0.0],\n",
    "        [ 0.0,  b  ,  a  ],\n",
    "        [ 0.0, -b  ,  a  ],\n",
    "        [-a  ,  0.0,  b  ],\n",
    "        [ 0.0, -b  , -a  ],\n",
    "        [ a  ,  0.0, -b  ],\n",
    "        [ a  ,  0.0,  b  ],\n",
    "        [-a  ,  0.0, -b  ],\n",
    "        [ b  , -a  ,  0.0],\n",
    "        [-b  , -a  ,  0.0],\n",
    "    ], dtype=np.float32)\n",
    "    \n",
    "    faceDices =  np.array([ \n",
    "        # CCW (WebGL)  ||   CW (Atypical for any OpenGL-based API)\n",
    "        2,  1,  0, # ------ v0    v1    v2\n",
    "        1,  2,  3, # ------ v3    v2    v1\n",
    "        5,  4,  3, # ------ v3    v4    v5\n",
    "        4,  8,  3, # ------ v3    v8    v4\n",
    "        7,  6,  0, # ------ v0    v6    v7\n",
    "        6,  9,  0, # ------ v0    v9    v6\n",
    "       11, 10,  4, # ------ v4   v10   v11\n",
    "       10, 11,  6, # ------ v6   v11   v10\n",
    "        9,  5,  2, # ------ v2    v5    v9\n",
    "        5,  9, 11, # ----- v11    v9    v5\n",
    "        8,  7,  1, # ------ v1    v7    v8\n",
    "        7,  8, 10, # ----- v10    v8    v7\n",
    "        2,  5,  3, # ------ v3    v5    v2\n",
    "        8,  1,  3, # ------ v3    v1    v8\n",
    "        9,  2,  0, # ------ v0    v2    v9\n",
    "        1,  7,  0, # ------ v0    v7    v1\n",
    "       11,  9,  6, # ------ v6    v9   v11\n",
    "        7, 10,  6, # ------ v6   v10    v7\n",
    "        5, 11,  4, # ------ v4   v11    v5\n",
    "       10,  8,  4, # ------ v4    v8   v10\n",
    "    ], dtype = np.uintc)\n",
    "    \n",
    "    return vertices, faceDices\n",
    "        "
   ]
  },
  {
   "cell_type": "code",
   "execution_count": 3,
   "id": "ff9056ce-4830-4143-bc64-3586f61096ba",
   "metadata": {},
   "outputs": [
    {
     "name": "stdout",
     "output_type": "stream",
     "text": [
      "#0000ff\n",
      "#32a852\n"
     ]
    }
   ],
   "source": [
    "print( color_int_to_web(   (   0     ,   0    , 255    ) ) ) # '#0000ff', Correct\n",
    "print( color_float_to_web( (   50/255, 168/255, 82/255 ) ) ) # '#32a852', Correct"
   ]
  },
  {
   "cell_type": "code",
   "execution_count": 5,
   "id": "6d8addb1-6efd-41b3-9fe2-6c1384f9d63d",
   "metadata": {},
   "outputs": [
    {
     "data": {
      "application/vnd.jupyter.widget-view+json": {
       "model_id": "4bfa80d85a4a4b6dbae84be83aeb34c7",
       "version_major": 2,
       "version_minor": 0
      },
      "text/plain": [
       "Renderer(camera=PerspectiveCamera(position=(1.0, 1.0, 1.0), projectionMatrix=(1.0, 0.0, 0.0, 0.0, 0.0, 1.0, 0.…"
      ]
     },
     "metadata": {},
     "output_type": "display_data"
    }
   ],
   "source": [
    "verts, faces =  get_regular_icosahedron_VF( 1.0 )\n",
    "\n",
    "icos_geo = BufferGeometry(attributes={\n",
    "    'position': BufferAttribute( verts ),\n",
    "    'index'   : BufferAttribute( faces )\n",
    "})\n",
    "\n",
    "edge_geo = EdgesGeometry( icos_geo )\n",
    "edge_mat = LineBasicMaterial( color = \"#000000\", linewidth = 2 )\n",
    "\n",
    "icos_msh = Mesh(\n",
    "    geometry = icos_geo,\n",
    "    material = _MAT_BSC_WHITE\n",
    ")\n",
    "\n",
    "icos_lin = LineSegments(\n",
    "    geometry = edge_geo,\n",
    "    material = edge_mat\n",
    ")\n",
    "\n",
    "icos = Group()\n",
    "icos.add( icos_msh )\n",
    "icos.add( icos_lin )\n",
    "\n",
    "rndrr = get_renderer_for_obj_list( [icos], camPos = [1.0,1.0,1.0], lookPos = [0,0,0], bgColor = _COL_BLACK, width = 600, height = 600 )\n",
    "display( rndrr )"
   ]
  },
  {
   "cell_type": "code",
   "execution_count": 11,
   "id": "7b06984e-0e18-4a73-8ab5-bc946a296541",
   "metadata": {},
   "outputs": [
    {
     "data": {
      "application/vnd.jupyter.widget-view+json": {
       "model_id": "4bfa80d85a4a4b6dbae84be83aeb34c7",
       "version_major": 2,
       "version_minor": 0
      },
      "text/plain": [
       "Renderer(camera=PerspectiveCamera(position=(-0.7296446026259457, -1.0837559815644053, -3.1108556379384376), pr…"
      ]
     },
     "metadata": {},
     "output_type": "display_data"
    },
    {
     "data": {
      "application/vnd.jupyter.widget-view+json": {
       "model_id": "4bfa80d85a4a4b6dbae84be83aeb34c7",
       "version_major": 2,
       "version_minor": 0
      },
      "text/plain": [
       "Renderer(camera=PerspectiveCamera(position=(-0.7296446026259457, -1.0837559815644053, -3.1108556379384376), pr…"
      ]
     },
     "metadata": {},
     "output_type": "display_data"
    },
    {
     "data": {
      "application/vnd.jupyter.widget-view+json": {
       "model_id": "4bfa80d85a4a4b6dbae84be83aeb34c7",
       "version_major": 2,
       "version_minor": 0
      },
      "text/plain": [
       "Renderer(camera=PerspectiveCamera(position=(-0.7296446026259457, -1.0837559815644053, -3.1108556379384376), pr…"
      ]
     },
     "metadata": {},
     "output_type": "display_data"
    },
    {
     "data": {
      "application/vnd.jupyter.widget-view+json": {
       "model_id": "4bfa80d85a4a4b6dbae84be83aeb34c7",
       "version_major": 2,
       "version_minor": 0
      },
      "text/plain": [
       "Renderer(camera=PerspectiveCamera(position=(-0.7296446026259457, -1.0837559815644053, -3.1108556379384376), pr…"
      ]
     },
     "metadata": {},
     "output_type": "display_data"
    },
    {
     "data": {
      "application/vnd.jupyter.widget-view+json": {
       "model_id": "4bfa80d85a4a4b6dbae84be83aeb34c7",
       "version_major": 2,
       "version_minor": 0
      },
      "text/plain": [
       "Renderer(camera=PerspectiveCamera(position=(-0.7296446026259457, -1.0837559815644053, -3.1108556379384376), pr…"
      ]
     },
     "metadata": {},
     "output_type": "display_data"
    },
    {
     "data": {
      "application/vnd.jupyter.widget-view+json": {
       "model_id": "4bfa80d85a4a4b6dbae84be83aeb34c7",
       "version_major": 2,
       "version_minor": 0
      },
      "text/plain": [
       "Renderer(camera=PerspectiveCamera(position=(-0.7296446026259457, -1.0837559815644053, -3.1108556379384376), pr…"
      ]
     },
     "metadata": {},
     "output_type": "display_data"
    },
    {
     "data": {
      "application/vnd.jupyter.widget-view+json": {
       "model_id": "4bfa80d85a4a4b6dbae84be83aeb34c7",
       "version_major": 2,
       "version_minor": 0
      },
      "text/plain": [
       "Renderer(camera=PerspectiveCamera(position=(-0.7296446026259457, -1.0837559815644053, -3.1108556379384376), pr…"
      ]
     },
     "metadata": {},
     "output_type": "display_data"
    },
    {
     "data": {
      "application/vnd.jupyter.widget-view+json": {
       "model_id": "4bfa80d85a4a4b6dbae84be83aeb34c7",
       "version_major": 2,
       "version_minor": 0
      },
      "text/plain": [
       "Renderer(camera=PerspectiveCamera(position=(-0.7296446026259457, -1.0837559815644053, -3.1108556379384376), pr…"
      ]
     },
     "metadata": {},
     "output_type": "display_data"
    },
    {
     "data": {
      "application/vnd.jupyter.widget-view+json": {
       "model_id": "4bfa80d85a4a4b6dbae84be83aeb34c7",
       "version_major": 2,
       "version_minor": 0
      },
      "text/plain": [
       "Renderer(camera=PerspectiveCamera(position=(-0.7296446026259457, -1.0837559815644053, -3.1108556379384376), pr…"
      ]
     },
     "metadata": {},
     "output_type": "display_data"
    },
    {
     "data": {
      "application/vnd.jupyter.widget-view+json": {
       "model_id": "4bfa80d85a4a4b6dbae84be83aeb34c7",
       "version_major": 2,
       "version_minor": 0
      },
      "text/plain": [
       "Renderer(camera=PerspectiveCamera(position=(-0.7296446026259457, -1.0837559815644053, -3.1108556379384376), pr…"
      ]
     },
     "metadata": {},
     "output_type": "display_data"
    },
    {
     "data": {
      "application/vnd.jupyter.widget-view+json": {
       "model_id": "4bfa80d85a4a4b6dbae84be83aeb34c7",
       "version_major": 2,
       "version_minor": 0
      },
      "text/plain": [
       "Renderer(camera=PerspectiveCamera(position=(-0.7296446026259457, -1.0837559815644053, -3.1108556379384376), pr…"
      ]
     },
     "metadata": {},
     "output_type": "display_data"
    },
    {
     "data": {
      "application/vnd.jupyter.widget-view+json": {
       "model_id": "4bfa80d85a4a4b6dbae84be83aeb34c7",
       "version_major": 2,
       "version_minor": 0
      },
      "text/plain": [
       "Renderer(camera=PerspectiveCamera(position=(-0.7296446026259457, -1.0837559815644053, -3.1108556379384376), pr…"
      ]
     },
     "metadata": {},
     "output_type": "display_data"
    },
    {
     "data": {
      "application/vnd.jupyter.widget-view+json": {
       "model_id": "4bfa80d85a4a4b6dbae84be83aeb34c7",
       "version_major": 2,
       "version_minor": 0
      },
      "text/plain": [
       "Renderer(camera=PerspectiveCamera(position=(-0.7296446026259457, -1.0837559815644053, -3.1108556379384376), pr…"
      ]
     },
     "metadata": {},
     "output_type": "display_data"
    },
    {
     "data": {
      "application/vnd.jupyter.widget-view+json": {
       "model_id": "4bfa80d85a4a4b6dbae84be83aeb34c7",
       "version_major": 2,
       "version_minor": 0
      },
      "text/plain": [
       "Renderer(camera=PerspectiveCamera(position=(-0.7296446026259457, -1.0837559815644053, -3.1108556379384376), pr…"
      ]
     },
     "metadata": {},
     "output_type": "display_data"
    },
    {
     "data": {
      "application/vnd.jupyter.widget-view+json": {
       "model_id": "4bfa80d85a4a4b6dbae84be83aeb34c7",
       "version_major": 2,
       "version_minor": 0
      },
      "text/plain": [
       "Renderer(camera=PerspectiveCamera(position=(-0.7296446026259457, -1.0837559815644053, -3.1108556379384376), pr…"
      ]
     },
     "metadata": {},
     "output_type": "display_data"
    },
    {
     "data": {
      "application/vnd.jupyter.widget-view+json": {
       "model_id": "4bfa80d85a4a4b6dbae84be83aeb34c7",
       "version_major": 2,
       "version_minor": 0
      },
      "text/plain": [
       "Renderer(camera=PerspectiveCamera(position=(-0.7296446026259457, -1.0837559815644053, -3.1108556379384376), pr…"
      ]
     },
     "metadata": {},
     "output_type": "display_data"
    },
    {
     "data": {
      "application/vnd.jupyter.widget-view+json": {
       "model_id": "4bfa80d85a4a4b6dbae84be83aeb34c7",
       "version_major": 2,
       "version_minor": 0
      },
      "text/plain": [
       "Renderer(camera=PerspectiveCamera(position=(-0.7296446026259457, -1.0837559815644053, -3.1108556379384376), pr…"
      ]
     },
     "metadata": {},
     "output_type": "display_data"
    },
    {
     "data": {
      "application/vnd.jupyter.widget-view+json": {
       "model_id": "4bfa80d85a4a4b6dbae84be83aeb34c7",
       "version_major": 2,
       "version_minor": 0
      },
      "text/plain": [
       "Renderer(camera=PerspectiveCamera(position=(-0.7296446026259457, -1.0837559815644053, -3.1108556379384376), pr…"
      ]
     },
     "metadata": {},
     "output_type": "display_data"
    },
    {
     "data": {
      "application/vnd.jupyter.widget-view+json": {
       "model_id": "4bfa80d85a4a4b6dbae84be83aeb34c7",
       "version_major": 2,
       "version_minor": 0
      },
      "text/plain": [
       "Renderer(camera=PerspectiveCamera(position=(-0.7296446026259457, -1.0837559815644053, -3.1108556379384376), pr…"
      ]
     },
     "metadata": {},
     "output_type": "display_data"
    },
    {
     "data": {
      "application/vnd.jupyter.widget-view+json": {
       "model_id": "4bfa80d85a4a4b6dbae84be83aeb34c7",
       "version_major": 2,
       "version_minor": 0
      },
      "text/plain": [
       "Renderer(camera=PerspectiveCamera(position=(-0.7296446026259457, -1.0837559815644053, -3.1108556379384376), pr…"
      ]
     },
     "metadata": {},
     "output_type": "display_data"
    },
    {
     "data": {
      "application/vnd.jupyter.widget-view+json": {
       "model_id": "4bfa80d85a4a4b6dbae84be83aeb34c7",
       "version_major": 2,
       "version_minor": 0
      },
      "text/plain": [
       "Renderer(camera=PerspectiveCamera(position=(-0.7296446026259457, -1.0837559815644053, -3.1108556379384376), pr…"
      ]
     },
     "metadata": {},
     "output_type": "display_data"
    },
    {
     "data": {
      "application/vnd.jupyter.widget-view+json": {
       "model_id": "4bfa80d85a4a4b6dbae84be83aeb34c7",
       "version_major": 2,
       "version_minor": 0
      },
      "text/plain": [
       "Renderer(camera=PerspectiveCamera(position=(-0.7296446026259457, -1.0837559815644053, -3.1108556379384376), pr…"
      ]
     },
     "metadata": {},
     "output_type": "display_data"
    },
    {
     "data": {
      "application/vnd.jupyter.widget-view+json": {
       "model_id": "4bfa80d85a4a4b6dbae84be83aeb34c7",
       "version_major": 2,
       "version_minor": 0
      },
      "text/plain": [
       "Renderer(camera=PerspectiveCamera(position=(-0.7296446026259457, -1.0837559815644053, -3.1108556379384376), pr…"
      ]
     },
     "metadata": {},
     "output_type": "display_data"
    },
    {
     "data": {
      "application/vnd.jupyter.widget-view+json": {
       "model_id": "4bfa80d85a4a4b6dbae84be83aeb34c7",
       "version_major": 2,
       "version_minor": 0
      },
      "text/plain": [
       "Renderer(camera=PerspectiveCamera(position=(-0.7296446026259457, -1.0837559815644053, -3.1108556379384376), pr…"
      ]
     },
     "metadata": {},
     "output_type": "display_data"
    },
    {
     "data": {
      "application/vnd.jupyter.widget-view+json": {
       "model_id": "4bfa80d85a4a4b6dbae84be83aeb34c7",
       "version_major": 2,
       "version_minor": 0
      },
      "text/plain": [
       "Renderer(camera=PerspectiveCamera(position=(-0.7296446026259457, -1.0837559815644053, -3.1108556379384376), pr…"
      ]
     },
     "metadata": {},
     "output_type": "display_data"
    },
    {
     "data": {
      "application/vnd.jupyter.widget-view+json": {
       "model_id": "4bfa80d85a4a4b6dbae84be83aeb34c7",
       "version_major": 2,
       "version_minor": 0
      },
      "text/plain": [
       "Renderer(camera=PerspectiveCamera(position=(-0.7296446026259457, -1.0837559815644053, -3.1108556379384376), pr…"
      ]
     },
     "metadata": {},
     "output_type": "display_data"
    },
    {
     "data": {
      "application/vnd.jupyter.widget-view+json": {
       "model_id": "4bfa80d85a4a4b6dbae84be83aeb34c7",
       "version_major": 2,
       "version_minor": 0
      },
      "text/plain": [
       "Renderer(camera=PerspectiveCamera(position=(-0.7296446026259457, -1.0837559815644053, -3.1108556379384376), pr…"
      ]
     },
     "metadata": {},
     "output_type": "display_data"
    },
    {
     "data": {
      "application/vnd.jupyter.widget-view+json": {
       "model_id": "4bfa80d85a4a4b6dbae84be83aeb34c7",
       "version_major": 2,
       "version_minor": 0
      },
      "text/plain": [
       "Renderer(camera=PerspectiveCamera(position=(-0.7296446026259457, -1.0837559815644053, -3.1108556379384376), pr…"
      ]
     },
     "metadata": {},
     "output_type": "display_data"
    },
    {
     "data": {
      "application/vnd.jupyter.widget-view+json": {
       "model_id": "4bfa80d85a4a4b6dbae84be83aeb34c7",
       "version_major": 2,
       "version_minor": 0
      },
      "text/plain": [
       "Renderer(camera=PerspectiveCamera(position=(-0.7296446026259457, -1.0837559815644053, -3.1108556379384376), pr…"
      ]
     },
     "metadata": {},
     "output_type": "display_data"
    },
    {
     "data": {
      "application/vnd.jupyter.widget-view+json": {
       "model_id": "4bfa80d85a4a4b6dbae84be83aeb34c7",
       "version_major": 2,
       "version_minor": 0
      },
      "text/plain": [
       "Renderer(camera=PerspectiveCamera(position=(-0.7296446026259457, -1.0837559815644053, -3.1108556379384376), pr…"
      ]
     },
     "metadata": {},
     "output_type": "display_data"
    },
    {
     "data": {
      "application/vnd.jupyter.widget-view+json": {
       "model_id": "4bfa80d85a4a4b6dbae84be83aeb34c7",
       "version_major": 2,
       "version_minor": 0
      },
      "text/plain": [
       "Renderer(camera=PerspectiveCamera(position=(-0.7296446026259457, -1.0837559815644053, -3.1108556379384376), pr…"
      ]
     },
     "metadata": {},
     "output_type": "display_data"
    },
    {
     "data": {
      "application/vnd.jupyter.widget-view+json": {
       "model_id": "4bfa80d85a4a4b6dbae84be83aeb34c7",
       "version_major": 2,
       "version_minor": 0
      },
      "text/plain": [
       "Renderer(camera=PerspectiveCamera(position=(-0.7296446026259457, -1.0837559815644053, -3.1108556379384376), pr…"
      ]
     },
     "metadata": {},
     "output_type": "display_data"
    },
    {
     "data": {
      "application/vnd.jupyter.widget-view+json": {
       "model_id": "4bfa80d85a4a4b6dbae84be83aeb34c7",
       "version_major": 2,
       "version_minor": 0
      },
      "text/plain": [
       "Renderer(camera=PerspectiveCamera(position=(-0.7296446026259457, -1.0837559815644053, -3.1108556379384376), pr…"
      ]
     },
     "metadata": {},
     "output_type": "display_data"
    },
    {
     "data": {
      "application/vnd.jupyter.widget-view+json": {
       "model_id": "4bfa80d85a4a4b6dbae84be83aeb34c7",
       "version_major": 2,
       "version_minor": 0
      },
      "text/plain": [
       "Renderer(camera=PerspectiveCamera(position=(-0.7296446026259457, -1.0837559815644053, -3.1108556379384376), pr…"
      ]
     },
     "metadata": {},
     "output_type": "display_data"
    },
    {
     "data": {
      "application/vnd.jupyter.widget-view+json": {
       "model_id": "4bfa80d85a4a4b6dbae84be83aeb34c7",
       "version_major": 2,
       "version_minor": 0
      },
      "text/plain": [
       "Renderer(camera=PerspectiveCamera(position=(-0.7296446026259457, -1.0837559815644053, -3.1108556379384376), pr…"
      ]
     },
     "metadata": {},
     "output_type": "display_data"
    },
    {
     "data": {
      "application/vnd.jupyter.widget-view+json": {
       "model_id": "4bfa80d85a4a4b6dbae84be83aeb34c7",
       "version_major": 2,
       "version_minor": 0
      },
      "text/plain": [
       "Renderer(camera=PerspectiveCamera(position=(-0.7296446026259457, -1.0837559815644053, -3.1108556379384376), pr…"
      ]
     },
     "metadata": {},
     "output_type": "display_data"
    },
    {
     "data": {
      "application/vnd.jupyter.widget-view+json": {
       "model_id": "4bfa80d85a4a4b6dbae84be83aeb34c7",
       "version_major": 2,
       "version_minor": 0
      },
      "text/plain": [
       "Renderer(camera=PerspectiveCamera(position=(-0.7296446026259457, -1.0837559815644053, -3.1108556379384376), pr…"
      ]
     },
     "metadata": {},
     "output_type": "display_data"
    },
    {
     "data": {
      "application/vnd.jupyter.widget-view+json": {
       "model_id": "4bfa80d85a4a4b6dbae84be83aeb34c7",
       "version_major": 2,
       "version_minor": 0
      },
      "text/plain": [
       "Renderer(camera=PerspectiveCamera(position=(-0.7296446026259457, -1.0837559815644053, -3.1108556379384376), pr…"
      ]
     },
     "metadata": {},
     "output_type": "display_data"
    },
    {
     "data": {
      "application/vnd.jupyter.widget-view+json": {
       "model_id": "4bfa80d85a4a4b6dbae84be83aeb34c7",
       "version_major": 2,
       "version_minor": 0
      },
      "text/plain": [
       "Renderer(camera=PerspectiveCamera(position=(-0.7296446026259457, -1.0837559815644053, -3.1108556379384376), pr…"
      ]
     },
     "metadata": {},
     "output_type": "display_data"
    },
    {
     "data": {
      "application/vnd.jupyter.widget-view+json": {
       "model_id": "4bfa80d85a4a4b6dbae84be83aeb34c7",
       "version_major": 2,
       "version_minor": 0
      },
      "text/plain": [
       "Renderer(camera=PerspectiveCamera(position=(-0.7296446026259457, -1.0837559815644053, -3.1108556379384376), pr…"
      ]
     },
     "metadata": {},
     "output_type": "display_data"
    },
    {
     "data": {
      "application/vnd.jupyter.widget-view+json": {
       "model_id": "4bfa80d85a4a4b6dbae84be83aeb34c7",
       "version_major": 2,
       "version_minor": 0
      },
      "text/plain": [
       "Renderer(camera=PerspectiveCamera(position=(-0.7296446026259457, -1.0837559815644053, -3.1108556379384376), pr…"
      ]
     },
     "metadata": {},
     "output_type": "display_data"
    },
    {
     "data": {
      "application/vnd.jupyter.widget-view+json": {
       "model_id": "4bfa80d85a4a4b6dbae84be83aeb34c7",
       "version_major": 2,
       "version_minor": 0
      },
      "text/plain": [
       "Renderer(camera=PerspectiveCamera(position=(-0.7296446026259457, -1.0837559815644053, -3.1108556379384376), pr…"
      ]
     },
     "metadata": {},
     "output_type": "display_data"
    },
    {
     "data": {
      "application/vnd.jupyter.widget-view+json": {
       "model_id": "4bfa80d85a4a4b6dbae84be83aeb34c7",
       "version_major": 2,
       "version_minor": 0
      },
      "text/plain": [
       "Renderer(camera=PerspectiveCamera(position=(-0.7296446026259457, -1.0837559815644053, -3.1108556379384376), pr…"
      ]
     },
     "metadata": {},
     "output_type": "display_data"
    },
    {
     "data": {
      "application/vnd.jupyter.widget-view+json": {
       "model_id": "4bfa80d85a4a4b6dbae84be83aeb34c7",
       "version_major": 2,
       "version_minor": 0
      },
      "text/plain": [
       "Renderer(camera=PerspectiveCamera(position=(-0.7296446026259457, -1.0837559815644053, -3.1108556379384376), pr…"
      ]
     },
     "metadata": {},
     "output_type": "display_data"
    },
    {
     "data": {
      "application/vnd.jupyter.widget-view+json": {
       "model_id": "4bfa80d85a4a4b6dbae84be83aeb34c7",
       "version_major": 2,
       "version_minor": 0
      },
      "text/plain": [
       "Renderer(camera=PerspectiveCamera(position=(-0.7296446026259457, -1.0837559815644053, -3.1108556379384376), pr…"
      ]
     },
     "metadata": {},
     "output_type": "display_data"
    },
    {
     "data": {
      "application/vnd.jupyter.widget-view+json": {
       "model_id": "4bfa80d85a4a4b6dbae84be83aeb34c7",
       "version_major": 2,
       "version_minor": 0
      },
      "text/plain": [
       "Renderer(camera=PerspectiveCamera(position=(-0.7296446026259457, -1.0837559815644053, -3.1108556379384376), pr…"
      ]
     },
     "metadata": {},
     "output_type": "display_data"
    },
    {
     "data": {
      "application/vnd.jupyter.widget-view+json": {
       "model_id": "4bfa80d85a4a4b6dbae84be83aeb34c7",
       "version_major": 2,
       "version_minor": 0
      },
      "text/plain": [
       "Renderer(camera=PerspectiveCamera(position=(-0.7296446026259457, -1.0837559815644053, -3.1108556379384376), pr…"
      ]
     },
     "metadata": {},
     "output_type": "display_data"
    },
    {
     "data": {
      "application/vnd.jupyter.widget-view+json": {
       "model_id": "4bfa80d85a4a4b6dbae84be83aeb34c7",
       "version_major": 2,
       "version_minor": 0
      },
      "text/plain": [
       "Renderer(camera=PerspectiveCamera(position=(-0.7296446026259457, -1.0837559815644053, -3.1108556379384376), pr…"
      ]
     },
     "metadata": {},
     "output_type": "display_data"
    },
    {
     "data": {
      "application/vnd.jupyter.widget-view+json": {
       "model_id": "4bfa80d85a4a4b6dbae84be83aeb34c7",
       "version_major": 2,
       "version_minor": 0
      },
      "text/plain": [
       "Renderer(camera=PerspectiveCamera(position=(-0.7296446026259457, -1.0837559815644053, -3.1108556379384376), pr…"
      ]
     },
     "metadata": {},
     "output_type": "display_data"
    },
    {
     "data": {
      "application/vnd.jupyter.widget-view+json": {
       "model_id": "4bfa80d85a4a4b6dbae84be83aeb34c7",
       "version_major": 2,
       "version_minor": 0
      },
      "text/plain": [
       "Renderer(camera=PerspectiveCamera(position=(-0.7296446026259457, -1.0837559815644053, -3.1108556379384376), pr…"
      ]
     },
     "metadata": {},
     "output_type": "display_data"
    },
    {
     "data": {
      "application/vnd.jupyter.widget-view+json": {
       "model_id": "4bfa80d85a4a4b6dbae84be83aeb34c7",
       "version_major": 2,
       "version_minor": 0
      },
      "text/plain": [
       "Renderer(camera=PerspectiveCamera(position=(-0.7296446026259457, -1.0837559815644053, -3.1108556379384376), pr…"
      ]
     },
     "metadata": {},
     "output_type": "display_data"
    },
    {
     "data": {
      "application/vnd.jupyter.widget-view+json": {
       "model_id": "4bfa80d85a4a4b6dbae84be83aeb34c7",
       "version_major": 2,
       "version_minor": 0
      },
      "text/plain": [
       "Renderer(camera=PerspectiveCamera(position=(-0.7296446026259457, -1.0837559815644053, -3.1108556379384376), pr…"
      ]
     },
     "metadata": {},
     "output_type": "display_data"
    },
    {
     "data": {
      "application/vnd.jupyter.widget-view+json": {
       "model_id": "4bfa80d85a4a4b6dbae84be83aeb34c7",
       "version_major": 2,
       "version_minor": 0
      },
      "text/plain": [
       "Renderer(camera=PerspectiveCamera(position=(-0.7296446026259457, -1.0837559815644053, -3.1108556379384376), pr…"
      ]
     },
     "metadata": {},
     "output_type": "display_data"
    },
    {
     "data": {
      "application/vnd.jupyter.widget-view+json": {
       "model_id": "4bfa80d85a4a4b6dbae84be83aeb34c7",
       "version_major": 2,
       "version_minor": 0
      },
      "text/plain": [
       "Renderer(camera=PerspectiveCamera(position=(-0.7296446026259457, -1.0837559815644053, -3.1108556379384376), pr…"
      ]
     },
     "metadata": {},
     "output_type": "display_data"
    },
    {
     "data": {
      "application/vnd.jupyter.widget-view+json": {
       "model_id": "4bfa80d85a4a4b6dbae84be83aeb34c7",
       "version_major": 2,
       "version_minor": 0
      },
      "text/plain": [
       "Renderer(camera=PerspectiveCamera(position=(-0.7296446026259457, -1.0837559815644053, -3.1108556379384376), pr…"
      ]
     },
     "metadata": {},
     "output_type": "display_data"
    },
    {
     "data": {
      "application/vnd.jupyter.widget-view+json": {
       "model_id": "4bfa80d85a4a4b6dbae84be83aeb34c7",
       "version_major": 2,
       "version_minor": 0
      },
      "text/plain": [
       "Renderer(camera=PerspectiveCamera(position=(-0.7296446026259457, -1.0837559815644053, -3.1108556379384376), pr…"
      ]
     },
     "metadata": {},
     "output_type": "display_data"
    },
    {
     "data": {
      "application/vnd.jupyter.widget-view+json": {
       "model_id": "4bfa80d85a4a4b6dbae84be83aeb34c7",
       "version_major": 2,
       "version_minor": 0
      },
      "text/plain": [
       "Renderer(camera=PerspectiveCamera(position=(-0.7296446026259457, -1.0837559815644053, -3.1108556379384376), pr…"
      ]
     },
     "metadata": {},
     "output_type": "display_data"
    },
    {
     "data": {
      "application/vnd.jupyter.widget-view+json": {
       "model_id": "4bfa80d85a4a4b6dbae84be83aeb34c7",
       "version_major": 2,
       "version_minor": 0
      },
      "text/plain": [
       "Renderer(camera=PerspectiveCamera(position=(-0.7296446026259457, -1.0837559815644053, -3.1108556379384376), pr…"
      ]
     },
     "metadata": {},
     "output_type": "display_data"
    },
    {
     "data": {
      "application/vnd.jupyter.widget-view+json": {
       "model_id": "4bfa80d85a4a4b6dbae84be83aeb34c7",
       "version_major": 2,
       "version_minor": 0
      },
      "text/plain": [
       "Renderer(camera=PerspectiveCamera(position=(-0.7296446026259457, -1.0837559815644053, -3.1108556379384376), pr…"
      ]
     },
     "metadata": {},
     "output_type": "display_data"
    },
    {
     "data": {
      "application/vnd.jupyter.widget-view+json": {
       "model_id": "4bfa80d85a4a4b6dbae84be83aeb34c7",
       "version_major": 2,
       "version_minor": 0
      },
      "text/plain": [
       "Renderer(camera=PerspectiveCamera(position=(-0.7296446026259457, -1.0837559815644053, -3.1108556379384376), pr…"
      ]
     },
     "metadata": {},
     "output_type": "display_data"
    }
   ],
   "source": [
    "from time import sleep\n",
    "\n",
    "for i in range( 60 ):\n",
    "    icos.rotation = ( icos.rotation[0]+0.005, icos.rotation[1]+0.005, icos.rotation[2], icos.rotation[3] )\n",
    "    display( rndrr )\n",
    "    sleep( 1/60.0 )"
   ]
  },
  {
   "cell_type": "code",
   "execution_count": null,
   "id": "1a92873f-d089-4d8a-8971-6256042c5f3c",
   "metadata": {},
   "outputs": [],
   "source": []
  }
 ],
 "metadata": {
  "kernelspec": {
   "display_name": "Python 3 (ipykernel)",
   "language": "python",
   "name": "python3"
  },
  "language_info": {
   "codemirror_mode": {
    "name": "ipython",
    "version": 3
   },
   "file_extension": ".py",
   "mimetype": "text/x-python",
   "name": "python",
   "nbconvert_exporter": "python",
   "pygments_lexer": "ipython3",
   "version": "3.9.13"
  }
 },
 "nbformat": 4,
 "nbformat_minor": 5
}
