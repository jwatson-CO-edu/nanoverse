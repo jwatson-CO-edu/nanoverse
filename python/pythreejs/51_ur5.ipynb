{
 "cells": [
  {
   "cell_type": "code",
   "execution_count": 1,
   "id": "11901953-0554-4bf9-925d-cbdd132a7651",
   "metadata": {},
   "outputs": [],
   "source": [
    "from pythreejs import ( BufferGeometry, MeshPhongMaterial, Mesh, CombinedCamera, OrbitControls, \n",
    "                        Renderer, Scene, BufferAttribute, PerspectiveCamera, PointLight, AmbientLight,\n",
    "                        MeshBasicMaterial, CylinderGeometry )\n",
    "from IPython.display import display\n",
    "import numpy as np"
   ]
  },
  {
   "cell_type": "markdown",
   "id": "d03c5f59-4b0b-4551-9caf-a6ccaa670118",
   "metadata": {},
   "source": [
    "# Primitive UR5"
   ]
  },
  {
   "cell_type": "markdown",
   "id": "8ca71743-56c0-49e2-af74-7594880d603b",
   "metadata": {},
   "source": [
    "## Draw a cylinder"
   ]
  },
  {
   "cell_type": "code",
   "execution_count": 2,
   "id": "c667fafd-3de8-4109-a47e-74c9baf5728a",
   "metadata": {},
   "outputs": [
    {
     "name": "stdout",
     "output_type": "stream",
     "text": [
      "['__annotations__', '__class__', '__del__', '__delattr__', '__dict__', '__dir__', '__doc__', '__eq__', '__format__', '__ge__', '__getattribute__', '__getstate__', '__gt__', '__hash__', '__init__', '__init_subclass__', '__le__', '__lt__', '__module__', '__ne__', '__new__', '__reduce__', '__reduce_ex__', '__repr__', '__setattr__', '__setstate__', '__signature__', '__sizeof__', '__str__', '__subclasshook__', '__weakref__', '_add_notifiers', '_call_widget_constructed', '_comm_changed', '_compare', '_control_comm', '_cross_validation_lock', '_default_keys', '_display_callbacks', '_gen_repr_from_keys', '_geometry_metadata', '_get_embed_state', '_get_trait_default_generator', '_handle_control_comm_msg', '_handle_custom_msg', '_handle_displayed', '_handle_msg', '_holding_sync', '_ipython_display_', '_is_numpy', '_lock_property', '_log_default', '_material_metadata', '_model_id', '_model_module', '_model_module_version', '_model_name', '_msg_callbacks', '_notify_observers', '_notify_trait', '_on_potential_ret_val', '_on_ret_val', '_previewable', '_property_lock', '_register_validator', '_remove_notifiers', '_repr_keys', '_send', '_should_send_property', '_states_to_send', '_trait_default_generators', '_trait_from_json', '_trait_notifiers', '_trait_to_json', '_trait_validators', '_trait_values', '_view_count', '_view_module', '_view_module_version', '_view_name', '_widget_construction_callback', 'add', 'add_traits', 'castShadow', 'children', 'class_own_trait_events', 'class_own_traits', 'class_trait_names', 'class_traits', 'close', 'close_all', 'comm', 'cross_validation_lock', 'drawMode', 'exec_three_obj_method', 'frustumCulled', 'geometry', 'get_manager_state', 'get_state', 'get_view_spec', 'handle_comm_opened', 'handle_control_comm_opened', 'has_trait', 'hold_sync', 'hold_trait_notifications', 'keys', 'log', 'lookAt', 'material', 'matrix', 'matrixAutoUpdate', 'matrixWorld', 'matrixWorldNeedsUpdate', 'modelViewMatrix', 'model_id', 'morphTargetInfluences', 'name', 'normalMatrix', 'notify_change', 'observe', 'on_displayed', 'on_msg', 'on_trait_change', 'on_widget_constructed', 'open', 'position', 'quaternion', 'receiveShadow', 'remove', 'renderOrder', 'rotateX', 'rotateY', 'rotateZ', 'rotation', 'scale', 'send', 'send_state', 'setRotationFromMatrix', 'set_state', 'set_trait', 'setup_instance', 'trait_defaults', 'trait_events', 'trait_has_value', 'trait_metadata', 'trait_names', 'trait_values', 'traits', 'type', 'unobserve', 'unobserve_all', 'up', 'visible', 'widget_types', 'widgets']\n",
      "(0.0, 0.0, 0.0)\n",
      "(0.0, 0.0, 0.0, 'XYZ')\n"
     ]
    }
   ],
   "source": [
    "_CYL_RES        = 10\n",
    "_COL_WHITE      = '#ffffff'\n",
    "_COL_BLACK      = '#000000'\n",
    "_COL_URGREY     = '#757d82'\n",
    "_MAT_BSC_URGREY = MeshBasicMaterial( color = _COL_URGREY )\n",
    "_MAT_BSC_WHITE  = MeshBasicMaterial( color = _COL_WHITE  )\n",
    "_MAT_BSC_BLACK  = MeshBasicMaterial( color = _COL_BLACK  )\n",
    "\n",
    "\n",
    "length   = 0.140\n",
    "diameter = 0.120\n",
    "zOffset  = 0.015\n",
    "\n",
    "link_geo = CylinderGeometry(\n",
    "    radiusTop      = diameter / 2.0,\n",
    "    radiusBottom   = diameter / 2.0,\n",
    "    height         = length,\n",
    "    radialSegments = _CYL_RES,\n",
    "    heightSegments = _CYL_RES,\n",
    "    openEnded      = False,\n",
    "    thetaStart     = 0.0,\n",
    "    thetaLength    = 2.0*np.pi\n",
    ")\n",
    "\n",
    "link_msh = Mesh(\n",
    "    geometry = link_geo,\n",
    "    material = _MAT_BSC_URGREY\n",
    ")\n",
    "\n",
    "print( dir( link_msh ) )\n",
    "\n",
    "print( link_msh.position )\n",
    "print( link_msh.rotation )\n"
   ]
  },
  {
   "cell_type": "code",
   "execution_count": 3,
   "id": "be0214eb-61a3-4906-b4f7-6660cf70bf26",
   "metadata": {},
   "outputs": [
    {
     "name": "stderr",
     "output_type": "stream",
     "text": [
      "/home/james/.local/lib/python3.9/site-packages/jupyter_client/session.py:718: UserWarning: Message serialization failed with:\n",
      "Out of range float values are not JSON compliant\n",
      "Supporting this message is deprecated in jupyter-client 7, please make sure your message is JSON-compliant\n",
      "  content = self.pack(content)\n"
     ]
    },
    {
     "data": {
      "application/vnd.jupyter.widget-view+json": {
       "model_id": "51ba636a0dad47a49481a4e1b22ad92b",
       "version_major": 2,
       "version_minor": 0
      },
      "text/plain": [
       "Renderer(camera=PerspectiveCamera(position=(1.0, 1.0, 1.0), projectionMatrix=(1.0, 0.0, 0.0, 0.0, 0.0, 1.0, 0.…"
      ]
     },
     "metadata": {},
     "output_type": "display_data"
    }
   ],
   "source": [
    "camera = PerspectiveCamera(\n",
    "    position = [1,1,1],\n",
    "    lookAt = [0,0,0]\n",
    ")\n",
    "\n",
    "# objects = Group()\n",
    "# objects.add(ship_msh)\n",
    "\n",
    "# pntLgt = PointLight(color=\"#ffffff\", intensity=1, distance=0, decay=1)\n",
    "# pntLgt.position = ( -1.0, 0.0, 5.0 )\n",
    "\n",
    "scene = Scene(\n",
    "    background=\"#000000\", \n",
    "    background_opacity=1.0,\n",
    "    children = [\n",
    "        link_msh,\n",
    "        AmbientLight(\n",
    "            color = \"#ffffff\"\n",
    "        ),\n",
    "        # pntLgt\n",
    "    ]\n",
    ")\n",
    "\n",
    "renderer = Renderer(\n",
    "    camera = camera,\n",
    "    scene = scene,\n",
    "    controls = [\n",
    "        OrbitControls(\n",
    "            controlling = camera\n",
    "        )\n",
    "    ],\n",
    "    width=600, height=600\n",
    ")\n",
    "\n",
    "display( renderer )"
   ]
  },
  {
   "cell_type": "markdown",
   "id": "3a26f6fb-623a-4004-b5eb-1b3c5482b2b6",
   "metadata": {},
   "source": [
    "## Link 1"
   ]
  },
  {
   "cell_type": "code",
   "execution_count": 4,
   "id": "9c9182d1-5027-47c2-bfa8-965eb97be8d6",
   "metadata": {},
   "outputs": [
    {
     "name": "stdout",
     "output_type": "stream",
     "text": [
      "3.9.13 (main, May 23 2022, 22:01:06) \n",
      "[GCC 9.4.0]\n"
     ]
    },
    {
     "data": {
      "application/vnd.jupyter.widget-view+json": {
       "model_id": "ece09187c33846fa865c8cec6d60531c",
       "version_major": 2,
       "version_minor": 0
      },
      "text/plain": [
       "Renderer(camera=PerspectiveCamera(position=(1.0, 1.0, 1.0), projectionMatrix=(1.0, 0.0, 0.0, 0.0, 0.0, 1.0, 0.…"
      ]
     },
     "metadata": {},
     "output_type": "display_data"
    }
   ],
   "source": [
    "import sys\n",
    "print( sys.version )\n",
    "\n",
    "from pythreejs import EdgesGeometry, LineBasicMaterial, LineSegments, Group\n",
    "\n",
    "from dh_mp import UR5_DH\n",
    "\n",
    "length   = 0.140\n",
    "diameter = 0.120\n",
    "zOffset  = 0.015\n",
    "\n",
    "link_geo = CylinderGeometry(\n",
    "    radiusTop      = diameter / 2.0,\n",
    "    radiusBottom   = diameter / 2.0,\n",
    "    height         = length,\n",
    "    radialSegments = _CYL_RES,\n",
    "    heightSegments = _CYL_RES,\n",
    "    openEnded      = False,\n",
    "    thetaStart     = 0.0,\n",
    "    thetaLength    = 2.0*np.pi\n",
    ")\n",
    "\n",
    "link_edg = EdgesGeometry( link_geo )\n",
    "\n",
    "edge_mat = LineBasicMaterial( color = \"#ffffff\", linewidth = 2 )\n",
    "\n",
    "link_msh = Mesh(\n",
    "    geometry = link_geo,\n",
    "    material = _MAT_BSC_URGREY\n",
    ")\n",
    "\n",
    "link_lin = LineSegments(\n",
    "    geometry = link_edg,\n",
    "    material = edge_mat\n",
    ")\n",
    "\n",
    "link = Group()\n",
    "link.add(link_msh)\n",
    "link.add(link_lin)\n",
    "\n",
    "link.position = (0.0, 0.0, length/2.0 + zOffset)\n",
    "link.rotation = (0.25*np.pi, 0.0, 0.0, 'XYZ')\n",
    "\n",
    "\n",
    "camera = PerspectiveCamera(\n",
    "    position = [1,1,1],\n",
    "    lookAt = [0,0,0]\n",
    ")\n",
    "\n",
    "scene = Scene(\n",
    "    background='#000000', \n",
    "    background_opacity=1.0,\n",
    "    children = [\n",
    "        # link_msh,\n",
    "        link,\n",
    "        AmbientLight(\n",
    "            color = '#FFFFFF'\n",
    "        ),\n",
    "        # pntLgt\n",
    "    ]\n",
    ")\n",
    "\n",
    "renderer = Renderer(\n",
    "    camera = camera,\n",
    "    scene = scene,\n",
    "    controls = [\n",
    "        OrbitControls(\n",
    "            controlling = camera\n",
    "        )\n",
    "    ],\n",
    "    width=600, height=600\n",
    ")\n",
    "\n",
    "display( renderer )"
   ]
  },
  {
   "cell_type": "code",
   "execution_count": 5,
   "id": "c3ea2f9e-098c-44ec-8cfb-10a5e566e7f4",
   "metadata": {},
   "outputs": [],
   "source": [
    "def cylinder_w_edges( diameter, length, faceColor = _COL_WHITE, edgeColor = _COL_BLACK, edgeThick = 2, Nsegments = 10 ):\n",
    "    cyl_geo = CylinderGeometry(\n",
    "        radiusTop      = diameter / 2.0,\n",
    "        radiusBottom   = diameter / 2.0,\n",
    "        height         = length,\n",
    "        radialSegments = _CYL_RES,\n",
    "        heightSegments = _CYL_RES,\n",
    "        openEnded      = False,\n",
    "        thetaStart     = 0.0,\n",
    "        thetaLength    = 2.0*np.pi\n",
    "    )\n",
    "    cyl_edg = EdgesGeometry( cyl_geo )\n",
    "    cyl_mat = MeshBasicMaterial( color = faceColor )\n",
    "    edg_mat = LineBasicMaterial( color = edgeColor, linewidth = edgeThick )\n",
    "    cyl_msh = Mesh(\n",
    "        geometry = cyl_geo,\n",
    "        material = cyl_mat\n",
    "    )\n",
    "    cyl_lin = LineSegments(\n",
    "        geometry = cyl_edg,\n",
    "        material = edg_mat\n",
    "    )\n",
    "    rtnGrp = Group()\n",
    "    rtnGrp.add( cyl_msh )\n",
    "    rtnGrp.add( cyl_lin )\n",
    "    return rtnGrp"
   ]
  },
  {
   "cell_type": "code",
   "execution_count": 6,
   "id": "613fdb77-403d-479c-bd7e-edccf8207e2c",
   "metadata": {},
   "outputs": [],
   "source": [
    "def get_link1_geo():\n",
    "    \"\"\" Base link of UR5 (original flavor) \"\"\"\n",
    "    length   =  0.140\n",
    "    diameter =  0.120\n",
    "    zOffset  = -0.015\n",
    "    # Base link\n",
    "    base = cylinder_w_edges( diameter, length, faceColor = _COL_URGREY, edgeColor = _COL_BLACK, edgeThick = 2, Nsegments = 10 )\n",
    "    \n",
    "    # Shoulder joint\n",
    "    shld = cylinder_w_edges( diameter, length/2.0, faceColor = _COL_URGREY, edgeColor = _COL_BLACK, edgeThick = 2, Nsegments = 10 )\n",
    "    shld.position = (0.0, 0.0, length/2.0 + zOffset)\n",
    "    shld.rotation = (0.5*np.pi, 0.0, 0.0, 'XYZ')\n",
    "    # Group and return\n",
    "    rtnGrp = Group()\n",
    "    rtnGrp.add( base )\n",
    "    rtnGrp.add( shld )\n",
    "    return rtnGrp"
   ]
  },
  {
   "cell_type": "code",
   "execution_count": 7,
   "id": "4209f6f5-d589-4c08-98a4-d337969334c9",
   "metadata": {},
   "outputs": [
    {
     "data": {
      "application/vnd.jupyter.widget-view+json": {
       "model_id": "b80d7972c5be4eb4a80bf9cb0a0f48c2",
       "version_major": 2,
       "version_minor": 0
      },
      "text/plain": [
       "Renderer(camera=PerspectiveCamera(position=(1.0, 1.0, 1.0), projectionMatrix=(1.0, 0.0, 0.0, 0.0, 0.0, 1.0, 0.…"
      ]
     },
     "metadata": {},
     "output_type": "display_data"
    }
   ],
   "source": [
    "link1 = get_link1_geo()\n",
    "\n",
    "camera = PerspectiveCamera(\n",
    "    position = [1,1,1],\n",
    "    lookAt = [0,0,0]\n",
    ")\n",
    "\n",
    "scene = Scene(\n",
    "    background='#000000', \n",
    "    background_opacity=1.0,\n",
    "    children = [\n",
    "        # link_msh,\n",
    "        link1,\n",
    "        AmbientLight(\n",
    "            color = '#FFFFFF'\n",
    "        ),\n",
    "        # pntLgt\n",
    "    ]\n",
    ")\n",
    "\n",
    "renderer = Renderer(\n",
    "    camera = camera,\n",
    "    scene = scene,\n",
    "    controls = [\n",
    "        OrbitControls(\n",
    "            controlling = camera\n",
    "        )\n",
    "    ],\n",
    "    width=600, height=600\n",
    ")\n",
    "\n",
    "display( renderer )"
   ]
  },
  {
   "cell_type": "code",
   "execution_count": 8,
   "id": "8f1a19e4-0e01-4186-a826-43596fd18100",
   "metadata": {},
   "outputs": [],
   "source": [
    "def render_obj_list( objLst, camPos = [1.0,1.0,1.0], lookPos = [0,0,0], bgColor = _COL_BLACK, width = 600, height = 600 ):\n",
    "    camera = PerspectiveCamera(\n",
    "        position = camPos,\n",
    "        lookAt   = lookPos\n",
    "    )\n",
    "    \n",
    "    renderList = [\n",
    "        AmbientLight(\n",
    "            color = '#FFFFFF'\n",
    "        ),\n",
    "    ]\n",
    "    renderList.extend( objLst )\n",
    "\n",
    "    scene = Scene(\n",
    "        background         = bgColor, \n",
    "        background_opacity = 1.0,\n",
    "        children           = renderList\n",
    "    )\n",
    "\n",
    "    renderer = Renderer(\n",
    "        camera = camera,\n",
    "        scene = scene,\n",
    "        controls = [\n",
    "            OrbitControls(\n",
    "                controlling = camera\n",
    "            )\n",
    "        ],\n",
    "        width  = width, \n",
    "        height = height\n",
    "    )\n",
    "\n",
    "    display( renderer )"
   ]
  },
  {
   "cell_type": "code",
   "execution_count": 9,
   "id": "edc1b235-37a4-4da0-9dfc-af65070e4a63",
   "metadata": {},
   "outputs": [
    {
     "data": {
      "application/vnd.jupyter.widget-view+json": {
       "model_id": "554a865b324d47e7a94554e36b44e4b1",
       "version_major": 2,
       "version_minor": 0
      },
      "text/plain": [
       "Renderer(camera=PerspectiveCamera(position=(1.0, 1.0, 1.0), projectionMatrix=(1.0, 0.0, 0.0, 0.0, 0.0, 1.0, 0.…"
      ]
     },
     "metadata": {},
     "output_type": "display_data"
    }
   ],
   "source": [
    "render_obj_list( [get_link1_geo()], camPos = [1.0,1.0,1.0], lookPos = [0,0,0], bgColor = _COL_BLACK, width = 600, height = 600 )"
   ]
  },
  {
   "cell_type": "code",
   "execution_count": 10,
   "id": "5b01f6df-3898-4650-8c0f-fa665e6970bf",
   "metadata": {},
   "outputs": [],
   "source": [
    "def get_link2_geo():\n",
    "    \"\"\" Upper arm link of UR5 (original flavor) \"\"\"\n",
    "    length   = 0.140\n",
    "    length2  = 0.295\n",
    "    diameter = 0.120\n",
    "    armDia   = 0.085\n",
    "    \n",
    "    # Main link\n",
    "    prt3 = cylinder_w_edges( armDia    , length2     , faceColor = _COL_URGREY, edgeColor = _COL_BLACK, edgeThick = 2, Nsegments = 10 )\n",
    "    prt3.position = (0.0, 0.0, length2/2.0+length/2.0)\n",
    "    prt3.rotation = (-0.5*np.pi, 0.0, 0.0, 'XYZ')\n",
    "    \n",
    "    # Proximal joint\n",
    "    prt1 = cylinder_w_edges( diameter, length, faceColor = _COL_URGREY, edgeColor = _COL_BLACK, edgeThick = 2, Nsegments = 10 )\n",
    "    prt1.position = (0.0, 0.0, 0.0)\n",
    "    \n",
    "    # Proximal thick\n",
    "    prt2 = cylinder_w_edges( diameter, length/2.0, faceColor = _COL_URGREY, edgeColor = _COL_BLACK, edgeThick = 2, Nsegments = 10 )\n",
    "    prt2.position = (0.0, 0.0, length/2.0)\n",
    "    prt2.rotation = (0.5*np.pi, 0.0, 0.0, 'XYZ')\n",
    "    \n",
    "    # Distal thick\n",
    "    prt4 = cylinder_w_edges( diameter, length/2.0, faceColor = _COL_URGREY, edgeColor = _COL_BLACK, edgeThick = 2, Nsegments = 10 )\n",
    "    prt4.position = (0.0, 0.0, -UR5_DH[1][1]-length/2.0)\n",
    "    prt4.rotation = (0.5*np.pi, 0.0, 0.0, 'XYZ')\n",
    "    \n",
    "    # Distal joint\n",
    "    prt5 = cylinder_w_edges( diameter, length, faceColor = _COL_URGREY, edgeColor = _COL_BLACK, edgeThick = 2, Nsegments = 10 )\n",
    "    prt5.position = (0.0, 0.0, -UR5_DH[1][1])\n",
    "    \n",
    "    # Group and return\n",
    "    rtnGrp = Group()\n",
    "    rtnGrp.add( prt1 )\n",
    "    rtnGrp.add( prt2 )\n",
    "    rtnGrp.add( prt3 )\n",
    "    rtnGrp.add( prt4 )\n",
    "    rtnGrp.add( prt5 )\n",
    "    return rtnGrp\n",
    "    "
   ]
  },
  {
   "cell_type": "code",
   "execution_count": 11,
   "id": "c1f2b2a6-9dfd-4b55-bda2-72019f546f60",
   "metadata": {},
   "outputs": [
    {
     "data": {
      "application/vnd.jupyter.widget-view+json": {
       "model_id": "424ba6650ab14546a40002e5397b0d7c",
       "version_major": 2,
       "version_minor": 0
      },
      "text/plain": [
       "Renderer(camera=PerspectiveCamera(position=(1.0, 1.0, 1.0), projectionMatrix=(1.0, 0.0, 0.0, 0.0, 0.0, 1.0, 0.…"
      ]
     },
     "metadata": {},
     "output_type": "display_data"
    }
   ],
   "source": [
    "render_obj_list( [get_link2_geo()], camPos = [1.0,1.0,1.0], lookPos = [0,0,0], bgColor = _COL_BLACK, width = 600, height = 600 )"
   ]
  },
  {
   "cell_type": "code",
   "execution_count": 12,
   "id": "96180d61-d36a-4c59-bdd7-cd2e9c61d12f",
   "metadata": {},
   "outputs": [],
   "source": [
    "def get_link3_geo():\n",
    "    \"\"\" Fore arm link of UR5 (original flavor) \"\"\"\n",
    "    length   = 0.090\n",
    "    # length2  = 0.295\n",
    "    diameter = 0.072\n",
    "    armDia   = diameter\n",
    "    \n",
    "    # Main link\n",
    "    prt3 = cylinder_w_edges( armDia    , -UR5_DH[2][1]-length*1.5, faceColor = _COL_URGREY, edgeColor = _COL_BLACK, edgeThick = 2, Nsegments = 10 )\n",
    "    prt3.position = (0.0, 0.0, -UR5_DH[2][1]/2.0)\n",
    "    prt3.rotation = (-0.5*np.pi, 0.0, 0.0, 'XYZ')\n",
    "    \n",
    "    # Proximal joint\n",
    "    prt1 = cylinder_w_edges( diameter, length, faceColor = _COL_URGREY, edgeColor = _COL_BLACK, edgeThick = 2, Nsegments = 10 )\n",
    "    prt1.position = (0.0, 0.0, 0.0)\n",
    "    \n",
    "    # Proximal thick\n",
    "    prt2 = cylinder_w_edges( diameter, length/2.0, faceColor = _COL_URGREY, edgeColor = _COL_BLACK, edgeThick = 2, Nsegments = 10 )\n",
    "    prt2.position = (0.0, 0.0, length/2.0)\n",
    "    prt2.rotation = (0.5*np.pi, 0.0, 0.0, 'XYZ')\n",
    "    \n",
    "    # Distal thick\n",
    "    prt4 = cylinder_w_edges( diameter, length/2.0, faceColor = _COL_URGREY, edgeColor = _COL_BLACK, edgeThick = 2, Nsegments = 10 )\n",
    "    prt4.position = (0.0, 0.0, -UR5_DH[2][1]-length/2.0)\n",
    "    prt4.rotation = (0.5*np.pi, 0.0, 0.0, 'XYZ')\n",
    "    \n",
    "    # Distal joint\n",
    "    prt5 = cylinder_w_edges( diameter, length, faceColor = _COL_URGREY, edgeColor = _COL_BLACK, edgeThick = 2, Nsegments = 10 )\n",
    "    prt5.position = (0.0, 0.0, -UR5_DH[2][1])\n",
    "    \n",
    "    # Group and return\n",
    "    rtnGrp = Group()\n",
    "    rtnGrp.add( prt1 )\n",
    "    rtnGrp.add( prt2 )\n",
    "    rtnGrp.add( prt3 )\n",
    "    rtnGrp.add( prt4 )\n",
    "    rtnGrp.add( prt5 )\n",
    "    return rtnGrp"
   ]
  },
  {
   "cell_type": "code",
   "execution_count": 13,
   "id": "9fe68153-4e49-4533-8c6f-d8700dc1f671",
   "metadata": {},
   "outputs": [
    {
     "data": {
      "application/vnd.jupyter.widget-view+json": {
       "model_id": "af8148cfc8304044a8b7b630b1e97824",
       "version_major": 2,
       "version_minor": 0
      },
      "text/plain": [
       "Renderer(camera=PerspectiveCamera(position=(1.0, 1.0, 1.0), projectionMatrix=(1.0, 0.0, 0.0, 0.0, 0.0, 1.0, 0.…"
      ]
     },
     "metadata": {},
     "output_type": "display_data"
    }
   ],
   "source": [
    "render_obj_list( [get_link3_geo()], camPos = [1.0,1.0,1.0], lookPos = [0,0,0], bgColor = _COL_BLACK, width = 600, height = 600 )"
   ]
  },
  {
   "cell_type": "code",
   "execution_count": 14,
   "id": "d28a0076-8370-4d78-bbfa-412d6f4ea11e",
   "metadata": {},
   "outputs": [],
   "source": [
    "def get_link4_geo():\n",
    "    \"\"\" Base link of UR5 (original flavor) \"\"\"\n",
    "    length   = 0.090\n",
    "    diameter = 0.072\n",
    "    # Base link\n",
    "    base = cylinder_w_edges( \n",
    "        diameter, \n",
    "        length, #-UR5_DH[3][2], #+length/2, \n",
    "        faceColor = _COL_URGREY, edgeColor = _COL_BLACK, edgeThick = 2, Nsegments = 10 \n",
    "    )\n",
    "    \n",
    "    # Shoulder joint\n",
    "    shld = cylinder_w_edges( diameter, length/2.0, faceColor = _COL_URGREY, edgeColor = _COL_BLACK, edgeThick = 2, Nsegments = 10 )\n",
    "    shld.position = (0.0, 0.0, -length/2.0)\n",
    "    shld.rotation = (0.5*np.pi, 0.0, 0.0, 'XYZ')\n",
    "    # Group and return\n",
    "    rtnGrp = Group()\n",
    "    rtnGrp.add( base )\n",
    "    rtnGrp.add( shld )\n",
    "    return rtnGrp"
   ]
  },
  {
   "cell_type": "code",
   "execution_count": 15,
   "id": "8a022ca3-d6a3-4167-81da-7cc17a2721e1",
   "metadata": {},
   "outputs": [
    {
     "data": {
      "application/vnd.jupyter.widget-view+json": {
       "model_id": "aa07a534b18246d9a38167df74a93617",
       "version_major": 2,
       "version_minor": 0
      },
      "text/plain": [
       "Renderer(camera=PerspectiveCamera(position=(1.0, 1.0, 1.0), projectionMatrix=(1.0, 0.0, 0.0, 0.0, 0.0, 1.0, 0.…"
      ]
     },
     "metadata": {},
     "output_type": "display_data"
    }
   ],
   "source": [
    "render_obj_list( [get_link4_geo()], camPos = [1.0,1.0,1.0], lookPos = [0,0,0], bgColor = _COL_BLACK, width = 600, height = 600 )"
   ]
  },
  {
   "cell_type": "code",
   "execution_count": 16,
   "id": "3681ed33-3255-4bbe-89af-d9d88c5af6c2",
   "metadata": {},
   "outputs": [],
   "source": [
    "def get_link5_geo():\n",
    "    \"\"\" Base link of UR5 (original flavor) \"\"\"\n",
    "    length   = 0.090\n",
    "    diameter = 0.072\n",
    "    # Base link\n",
    "    base = cylinder_w_edges( \n",
    "        diameter, \n",
    "        length, #-UR5_DH[3][2], #+length/2, \n",
    "        faceColor = _COL_URGREY, edgeColor = _COL_BLACK, edgeThick = 2, Nsegments = 10 \n",
    "    )\n",
    "    \n",
    "    # Shoulder joint\n",
    "    shld = cylinder_w_edges( diameter, length/2.0, faceColor = _COL_URGREY, edgeColor = _COL_BLACK, edgeThick = 2, Nsegments = 10 )\n",
    "    shld.position = (0.0, 0.0, -length/2.0)\n",
    "    shld.rotation = (0.5*np.pi, 0.0, 0.0, 'XYZ')\n",
    "    # Group and return\n",
    "    rtnGrp = Group()\n",
    "    rtnGrp.add( base )\n",
    "    rtnGrp.add( shld )\n",
    "    return rtnGrp"
   ]
  },
  {
   "cell_type": "code",
   "execution_count": 17,
   "id": "060f5b01-159c-4db6-8842-8001c763c398",
   "metadata": {},
   "outputs": [
    {
     "data": {
      "application/vnd.jupyter.widget-view+json": {
       "model_id": "c0b0cce2878a46cfa661b7d7ff9bdb11",
       "version_major": 2,
       "version_minor": 0
      },
      "text/plain": [
       "Renderer(camera=PerspectiveCamera(position=(1.0, 1.0, 1.0), projectionMatrix=(1.0, 0.0, 0.0, 0.0, 0.0, 1.0, 0.…"
      ]
     },
     "metadata": {},
     "output_type": "display_data"
    }
   ],
   "source": [
    "render_obj_list( [get_link5_geo()], camPos = [1.0,1.0,1.0], lookPos = [0,0,0], bgColor = _COL_BLACK, width = 600, height = 600 )"
   ]
  },
  {
   "cell_type": "code",
   "execution_count": 18,
   "id": "862d04a2-aa76-46cf-9f3d-01096e6f8bba",
   "metadata": {},
   "outputs": [],
   "source": [
    "def get_link6_geo():\n",
    "    \"\"\" Base link of UR5 (original flavor) \"\"\"\n",
    "    length   = 0.090\n",
    "    diameter = 0.072\n",
    "    # Base link\n",
    "    shld = cylinder_w_edges( diameter, length/2.0, faceColor = _COL_URGREY, edgeColor = _COL_BLACK, edgeThick = 2, Nsegments = 10 )\n",
    "    shld.position = (0.0, 0.0, -length/2.0)\n",
    "    shld.rotation = (0.5*np.pi, 0.0, 0.0, 'XYZ')\n",
    "    return shld"
   ]
  },
  {
   "cell_type": "code",
   "execution_count": 19,
   "id": "7426df40-4add-4ebd-891c-bfea8730aacb",
   "metadata": {},
   "outputs": [
    {
     "data": {
      "application/vnd.jupyter.widget-view+json": {
       "model_id": "2a902cd6b1c449e09922249e16a6a511",
       "version_major": 2,
       "version_minor": 0
      },
      "text/plain": [
       "Renderer(camera=PerspectiveCamera(position=(1.0, 1.0, 1.0), projectionMatrix=(1.0, 0.0, 0.0, 0.0, 0.0, 1.0, 0.…"
      ]
     },
     "metadata": {},
     "output_type": "display_data"
    }
   ],
   "source": [
    "render_obj_list( [get_link6_geo()], camPos = [1.0,1.0,1.0], lookPos = [0,0,0], bgColor = _COL_BLACK, width = 600, height = 600 )"
   ]
  },
  {
   "cell_type": "code",
   "execution_count": null,
   "id": "2e30d46f-c630-442c-92f3-935dacd4a811",
   "metadata": {},
   "outputs": [],
   "source": []
  }
 ],
 "metadata": {
  "kernelspec": {
   "display_name": "Python 3 (ipykernel)",
   "language": "python",
   "name": "python3"
  },
  "language_info": {
   "codemirror_mode": {
    "name": "ipython",
    "version": 3
   },
   "file_extension": ".py",
   "mimetype": "text/x-python",
   "name": "python",
   "nbconvert_exporter": "python",
   "pygments_lexer": "ipython3",
   "version": "3.9.13"
  }
 },
 "nbformat": 4,
 "nbformat_minor": 5
}
