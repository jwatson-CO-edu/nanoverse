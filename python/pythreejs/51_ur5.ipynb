{
 "cells": [
  {
   "cell_type": "code",
   "execution_count": 1,
   "id": "11901953-0554-4bf9-925d-cbdd132a7651",
   "metadata": {},
   "outputs": [],
   "source": [
    "from pythreejs import ( BufferGeometry, MeshPhongMaterial, Mesh, CombinedCamera, OrbitControls, \n",
    "                        Renderer, Scene, BufferAttribute, PerspectiveCamera, PointLight, AmbientLight,\n",
    "                        MeshBasicMaterial, CylinderGeometry )\n",
    "from IPython.display import display\n",
    "import numpy as np"
   ]
  },
  {
   "cell_type": "markdown",
   "id": "d03c5f59-4b0b-4551-9caf-a6ccaa670118",
   "metadata": {},
   "source": [
    "# Primitive UR5"
   ]
  },
  {
   "cell_type": "markdown",
   "id": "8ca71743-56c0-49e2-af74-7594880d603b",
   "metadata": {},
   "source": [
    "## Draw a cylinder"
   ]
  },
  {
   "cell_type": "code",
   "execution_count": 2,
   "id": "c667fafd-3de8-4109-a47e-74c9baf5728a",
   "metadata": {},
   "outputs": [
    {
     "name": "stdout",
     "output_type": "stream",
     "text": [
      "['__annotations__', '__class__', '__del__', '__delattr__', '__dict__', '__dir__', '__doc__', '__eq__', '__format__', '__ge__', '__getattribute__', '__getstate__', '__gt__', '__hash__', '__init__', '__init_subclass__', '__le__', '__lt__', '__module__', '__ne__', '__new__', '__reduce__', '__reduce_ex__', '__repr__', '__setattr__', '__setstate__', '__signature__', '__sizeof__', '__str__', '__subclasshook__', '__weakref__', '_add_notifiers', '_call_widget_constructed', '_comm_changed', '_compare', '_control_comm', '_cross_validation_lock', '_default_keys', '_display_callbacks', '_gen_repr_from_keys', '_geometry_metadata', '_get_embed_state', '_get_trait_default_generator', '_handle_control_comm_msg', '_handle_custom_msg', '_handle_displayed', '_handle_msg', '_holding_sync', '_ipython_display_', '_is_numpy', '_lock_property', '_log_default', '_material_metadata', '_model_id', '_model_module', '_model_module_version', '_model_name', '_msg_callbacks', '_notify_observers', '_notify_trait', '_on_potential_ret_val', '_on_ret_val', '_previewable', '_property_lock', '_register_validator', '_remove_notifiers', '_repr_keys', '_send', '_should_send_property', '_states_to_send', '_trait_default_generators', '_trait_from_json', '_trait_notifiers', '_trait_to_json', '_trait_validators', '_trait_values', '_view_count', '_view_module', '_view_module_version', '_view_name', '_widget_construction_callback', 'add', 'add_traits', 'castShadow', 'children', 'class_own_trait_events', 'class_own_traits', 'class_trait_names', 'class_traits', 'close', 'close_all', 'comm', 'cross_validation_lock', 'drawMode', 'exec_three_obj_method', 'frustumCulled', 'geometry', 'get_manager_state', 'get_state', 'get_view_spec', 'handle_comm_opened', 'handle_control_comm_opened', 'has_trait', 'hold_sync', 'hold_trait_notifications', 'keys', 'log', 'lookAt', 'material', 'matrix', 'matrixAutoUpdate', 'matrixWorld', 'matrixWorldNeedsUpdate', 'modelViewMatrix', 'model_id', 'morphTargetInfluences', 'name', 'normalMatrix', 'notify_change', 'observe', 'on_displayed', 'on_msg', 'on_trait_change', 'on_widget_constructed', 'open', 'position', 'quaternion', 'receiveShadow', 'remove', 'renderOrder', 'rotateX', 'rotateY', 'rotateZ', 'rotation', 'scale', 'send', 'send_state', 'setRotationFromMatrix', 'set_state', 'set_trait', 'setup_instance', 'trait_defaults', 'trait_events', 'trait_has_value', 'trait_metadata', 'trait_names', 'trait_values', 'traits', 'type', 'unobserve', 'unobserve_all', 'up', 'visible', 'widget_types', 'widgets']\n",
      "(0.0, 0.0, 0.0)\n",
      "(0.0, 0.0, 0.0, 'XYZ')\n"
     ]
    }
   ],
   "source": [
    "_CYL_RES    = 10\n",
    "_MAT_URGREY = MeshBasicMaterial( color = '#757d82' )\n",
    "\n",
    "\n",
    "length   = 0.140\n",
    "diameter = 0.120\n",
    "zOffset  = 0.015\n",
    "\n",
    "link_geo = CylinderGeometry(\n",
    "    radiusTop      = diameter / 2.0,\n",
    "    radiusBottom   = diameter / 2.0,\n",
    "    height         = length,\n",
    "    radialSegments = _CYL_RES,\n",
    "    heightSegments = _CYL_RES,\n",
    "    openEnded      = False,\n",
    "    thetaStart     = 0.0,\n",
    "    thetaLength    = 2.0*np.pi\n",
    ")\n",
    "\n",
    "link_msh = Mesh(\n",
    "    geometry = link_geo,\n",
    "    material = _MAT_URGREY\n",
    ")\n",
    "\n",
    "print( dir( link_msh ) )\n",
    "\n",
    "print( link_msh.position )\n",
    "print( link_msh.rotation )\n"
   ]
  },
  {
   "cell_type": "code",
   "execution_count": 3,
   "id": "be0214eb-61a3-4906-b4f7-6660cf70bf26",
   "metadata": {},
   "outputs": [
    {
     "name": "stderr",
     "output_type": "stream",
     "text": [
      "/home/james/.local/lib/python3.9/site-packages/jupyter_client/session.py:718: UserWarning: Message serialization failed with:\n",
      "Out of range float values are not JSON compliant\n",
      "Supporting this message is deprecated in jupyter-client 7, please make sure your message is JSON-compliant\n",
      "  content = self.pack(content)\n"
     ]
    },
    {
     "data": {
      "application/vnd.jupyter.widget-view+json": {
       "model_id": "1b1031db6afb4df388234fd3b5fc157d",
       "version_major": 2,
       "version_minor": 0
      },
      "text/plain": [
       "Renderer(camera=PerspectiveCamera(position=(1.0, 1.0, 1.0), projectionMatrix=(1.0, 0.0, 0.0, 0.0, 0.0, 1.0, 0.…"
      ]
     },
     "metadata": {},
     "output_type": "display_data"
    }
   ],
   "source": [
    "camera = PerspectiveCamera(\n",
    "    position = [1,1,1],\n",
    "    lookAt = [0,0,0]\n",
    ")\n",
    "\n",
    "# objects = Group()\n",
    "# objects.add(ship_msh)\n",
    "\n",
    "# pntLgt = PointLight(color=\"#ffffff\", intensity=1, distance=0, decay=1)\n",
    "# pntLgt.position = ( -1.0, 0.0, 5.0 )\n",
    "\n",
    "scene = Scene(\n",
    "    background='#000000', \n",
    "    background_opacity=1.0,\n",
    "    children = [\n",
    "        link_msh,\n",
    "        AmbientLight(\n",
    "            color = '#FFFFFF'\n",
    "        ),\n",
    "        # pntLgt\n",
    "    ]\n",
    ")\n",
    "\n",
    "renderer = Renderer(\n",
    "    camera = camera,\n",
    "    scene = scene,\n",
    "    controls = [\n",
    "        OrbitControls(\n",
    "            controlling = camera\n",
    "        )\n",
    "    ],\n",
    "    width=600, height=600\n",
    ")\n",
    "\n",
    "display( renderer )"
   ]
  },
  {
   "cell_type": "markdown",
   "id": "3a26f6fb-623a-4004-b5eb-1b3c5482b2b6",
   "metadata": {},
   "source": [
    "## Link 1"
   ]
  },
  {
   "cell_type": "code",
   "execution_count": 4,
   "id": "9c9182d1-5027-47c2-bfa8-965eb97be8d6",
   "metadata": {},
   "outputs": [],
   "source": [
    "from dh_mp import UR5_DH\n",
    "\n",
    "length   = 0.140\n",
    "diameter = 0.120\n",
    "zOffset  = 0.015\n",
    "\n",
    "link_geo = CylinderGeometry(\n",
    "    radiusTop      = diameter / 2.0,\n",
    "    radiusBottom   = diameter / 2.0,\n",
    "    height         = length,\n",
    "    radialSegments = _CYL_RES,\n",
    "    heightSegments = _CYL_RES,\n",
    "    openEnded      = False,\n",
    "    thetaStart     = 0.0,\n",
    "    thetaLength    = 2.0*np.pi\n",
    ")\n",
    "\n",
    "link_msh = Mesh(\n",
    "    geometry = link_geo,\n",
    "    material = _MAT_URGREY\n",
    ")\n",
    "\n",
    "link_msh.position = (0.0, 0.0, UR5_DH[0][2] - length/2.0)\n",
    "\n",
    "# FIXME: START HERE - ROTATE CYLINDER - glRotated( 90 , 1 , 0 , 0 );"
   ]
  },
  {
   "cell_type": "code",
   "execution_count": null,
   "id": "c3ea2f9e-098c-44ec-8cfb-10a5e566e7f4",
   "metadata": {},
   "outputs": [],
   "source": []
  },
  {
   "cell_type": "code",
   "execution_count": null,
   "id": "613fdb77-403d-479c-bd7e-edccf8207e2c",
   "metadata": {},
   "outputs": [],
   "source": []
  },
  {
   "cell_type": "code",
   "execution_count": null,
   "id": "4209f6f5-d589-4c08-98a4-d337969334c9",
   "metadata": {},
   "outputs": [],
   "source": []
  }
 ],
 "metadata": {
  "kernelspec": {
   "display_name": "Python 3 (ipykernel)",
   "language": "python",
   "name": "python3"
  },
  "language_info": {
   "codemirror_mode": {
    "name": "ipython",
    "version": 3
   },
   "file_extension": ".py",
   "mimetype": "text/x-python",
   "name": "python",
   "nbconvert_exporter": "python",
   "pygments_lexer": "ipython3",
   "version": "3.9.13"
  }
 },
 "nbformat": 4,
 "nbformat_minor": 5
}
