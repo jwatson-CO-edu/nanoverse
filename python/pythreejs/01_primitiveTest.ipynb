{
 "cells": [
  {
   "cell_type": "markdown",
   "id": "ed9d2073-7cd7-4aac-ad62-4c3261efae73",
   "metadata": {},
   "source": [
    "# Installation\n",
    "## Node\n",
    "1. `sudo apt install nodejs npm`\n",
    "1. `sudo npm cache clean -f && sudo npm install -g n && sudo n stable`  \n",
    "## pythreejs\n",
    "1. `python -m pip install pythreejs --user`\n",
    "1. `jupyter labextension install jupyter-threejs`  \n",
    "## Cleanup\n",
    "1. `jupyter lab clean`\n",
    "1. `jupyter lab build`"
   ]
  },
  {
   "cell_type": "code",
   "execution_count": 1,
   "id": "1668bc4f-b5af-4d0d-a4c4-b4e0950a3cf9",
   "metadata": {},
   "outputs": [],
   "source": [
    "from pythreejs import *\n",
    "from IPython.display import display\n",
    "from math import pi"
   ]
  },
  {
   "cell_type": "code",
   "execution_count": 2,
   "id": "3d2a22d0-1187-4ac6-9966-70a0038d77f5",
   "metadata": {},
   "outputs": [],
   "source": [
    "# Reduce repo churn for examples with embedded state:\n",
    "from pythreejs._example_helper import use_example_model_ids\n",
    "use_example_model_ids()"
   ]
  },
  {
   "cell_type": "code",
   "execution_count": 3,
   "id": "f141bfd8-8f31-4d70-864d-be7d5a45191e",
   "metadata": {},
   "outputs": [
    {
     "data": {
      "application/vnd.jupyter.widget-view+json": {
       "model_id": "pythree_example_model_002",
       "version_major": 2,
       "version_minor": 0
      },
      "text/plain": [
       "Preview(child=BoxGeometry(depth=15.0, depthSegments=15, height=10.0, heightSegments=10, width=5.0, widthSegmen…"
      ]
     },
     "metadata": {},
     "output_type": "display_data"
    }
   ],
   "source": [
    "BoxGeometry(\n",
    "    width=5,\n",
    "    height=10,\n",
    "    depth=15,\n",
    "    widthSegments=5,\n",
    "    heightSegments=10,\n",
    "    depthSegments=15)"
   ]
  },
  {
   "cell_type": "code",
   "execution_count": 4,
   "id": "ed3bbf12-3ef8-4ac6-aab8-d023863404b3",
   "metadata": {},
   "outputs": [
    {
     "data": {
      "application/vnd.jupyter.widget-view+json": {
       "model_id": "pythree_example_model_006",
       "version_major": 2,
       "version_minor": 0
      },
      "text/plain": [
       "Preview(child=CylinderGeometry(height=15.0, heightSegments=10, radialSegments=6, radiusBottom=10.0, radiusTop=…"
      ]
     },
     "metadata": {},
     "output_type": "display_data"
    }
   ],
   "source": [
    "CylinderGeometry(\n",
    "    radiusTop=5,\n",
    "    radiusBottom=10,\n",
    "    height=15,\n",
    "    radialSegments=6,\n",
    "    heightSegments=10,\n",
    "    openEnded=False,\n",
    "    thetaStart=0,\n",
    "    thetaLength=2.0*pi)"
   ]
  },
  {
   "cell_type": "code",
   "execution_count": 5,
   "id": "7cc8fdd4-5d29-47c9-9103-819a3d43ed50",
   "metadata": {},
   "outputs": [
    {
     "data": {
      "application/vnd.jupyter.widget-view+json": {
       "model_id": "pythree_example_model_010",
       "version_major": 2,
       "version_minor": 0
      },
      "text/plain": [
       "Preview(child=DodecahedronGeometry(radius=10.0), shadowMap=WebGLShadowMap())"
      ]
     },
     "metadata": {},
     "output_type": "display_data"
    }
   ],
   "source": [
    "DodecahedronGeometry(radius=10, detail=0, _flat=True)"
   ]
  },
  {
   "cell_type": "code",
   "execution_count": 6,
   "id": "32809469-780f-4920-ab45-d8b772bc3e24",
   "metadata": {},
   "outputs": [
    {
     "data": {
      "application/vnd.jupyter.widget-view+json": {
       "model_id": "pythree_example_model_014",
       "version_major": 2,
       "version_minor": 0
      },
      "text/plain": [
       "Preview(child=IcosahedronGeometry(radius=10.0), shadowMap=WebGLShadowMap())"
      ]
     },
     "metadata": {},
     "output_type": "display_data"
    }
   ],
   "source": [
    "IcosahedronGeometry(radius=10, _flat=True)"
   ]
  },
  {
   "cell_type": "code",
   "execution_count": 7,
   "id": "6d79f9ff-ca15-4431-a26a-e7956080de05",
   "metadata": {},
   "outputs": [
    {
     "data": {
      "application/vnd.jupyter.widget-view+json": {
       "model_id": "pythree_example_model_018",
       "version_major": 2,
       "version_minor": 0
      },
      "text/plain": [
       "Preview(child=OctahedronGeometry(radius=10.0), shadowMap=WebGLShadowMap())"
      ]
     },
     "metadata": {},
     "output_type": "display_data"
    }
   ],
   "source": [
    "OctahedronGeometry(radius=10, detail=0, _flat=True)"
   ]
  },
  {
   "cell_type": "code",
   "execution_count": 8,
   "id": "b10ae394-be43-4ecc-873b-29ea6cbba668",
   "metadata": {},
   "outputs": [
    {
     "data": {
      "application/vnd.jupyter.widget-view+json": {
       "model_id": "pythree_example_model_022",
       "version_major": 2,
       "version_minor": 0
      },
      "text/plain": [
       "Preview(child=ParametricGeometry(func='function(u,v,out) {\\n        var x = 5 * (0.5 - u);\\n        var y = 5 …"
      ]
     },
     "metadata": {},
     "output_type": "display_data"
    }
   ],
   "source": [
    "ParametricGeometry(\n",
    "    func=\"\"\"function(u,v,out) {\n",
    "        var x = 5 * (0.5 - u);\n",
    "        var y = 5 * (0.5 - v);\n",
    "        out.set(10 * x, 10 * y, x*x - y*y);\n",
    "    }\"\"\",\n",
    "    slices=5,\n",
    "    stacks=10, _flat=True)"
   ]
  },
  {
   "cell_type": "code",
   "execution_count": 9,
   "id": "92394706-a337-49e4-9095-77b5ad5f2227",
   "metadata": {},
   "outputs": [
    {
     "data": {
      "application/vnd.jupyter.widget-view+json": {
       "model_id": "pythree_example_model_026",
       "version_major": 2,
       "version_minor": 0
      },
      "text/plain": [
       "Preview(child=PlaneGeometry(height=15.0, heightSegments=10, width=10.0, widthSegments=5), shadowMap=WebGLShado…"
      ]
     },
     "metadata": {},
     "output_type": "display_data"
    }
   ],
   "source": [
    "PlaneGeometry(\n",
    "    width=10,\n",
    "    height=15,\n",
    "    widthSegments=5,\n",
    "    heightSegments=10)"
   ]
  },
  {
   "cell_type": "code",
   "execution_count": 10,
   "id": "581ba3d1-5a6d-40a1-af3b-2346f57d5419",
   "metadata": {},
   "outputs": [
    {
     "data": {
      "application/vnd.jupyter.widget-view+json": {
       "model_id": "pythree_example_model_030",
       "version_major": 2,
       "version_minor": 0
      },
      "text/plain": [
       "Preview(child=SphereGeometry(phiLength=4.71238898038469, radius=20.0, thetaLength=2.0943951023931953), shadowM…"
      ]
     },
     "metadata": {},
     "output_type": "display_data"
    }
   ],
   "source": [
    "SphereGeometry(\n",
    "    radius=20,\n",
    "    widthSegments=8,\n",
    "    heightSegments=6,\n",
    "    phiStart=0,\n",
    "    phiLength=1.5*pi,\n",
    "    thetaStart=0,\n",
    "    thetaLength=2.0*pi/3.0)"
   ]
  },
  {
   "cell_type": "code",
   "execution_count": 11,
   "id": "6a355647-3814-452b-b94d-c4e16307cc22",
   "metadata": {},
   "outputs": [
    {
     "data": {
      "application/vnd.jupyter.widget-view+json": {
       "model_id": "pythree_example_model_034",
       "version_major": 2,
       "version_minor": 0
      },
      "text/plain": [
       "Preview(child=TorusGeometry(arc=4.71238898038469, radialSegments=20, radius=20.0, tube=5.0), shadowMap=WebGLSh…"
      ]
     },
     "metadata": {},
     "output_type": "display_data"
    }
   ],
   "source": [
    "TorusGeometry(\n",
    "    radius=20,\n",
    "    tube=5,\n",
    "    radialSegments=20,\n",
    "    tubularSegments=6,\n",
    "    arc=1.5*pi)"
   ]
  },
  {
   "cell_type": "code",
   "execution_count": 12,
   "id": "d18e0735-d46b-4768-8ce1-70ec325c301e",
   "metadata": {},
   "outputs": [
    {
     "data": {
      "application/vnd.jupyter.widget-view+json": {
       "model_id": "pythree_example_model_039",
       "version_major": 2,
       "version_minor": 0
      },
      "text/plain": [
       "Preview(child=WireframeGeometry(geometry=TorusBufferGeometry(radialSegments=6, radius=20.0, tube=5.0, tubularS…"
      ]
     },
     "metadata": {},
     "output_type": "display_data"
    }
   ],
   "source": [
    "WireframeGeometry(geometry=TorusBufferGeometry(\n",
    "    radius=20,\n",
    "    tube=5,\n",
    "    radialSegments=6,\n",
    "    tubularSegments=20,\n",
    "    arc=2.0*pi\n",
    "))"
   ]
  },
  {
   "cell_type": "code",
   "execution_count": null,
   "id": "88a2b983-84a6-4dc2-9b22-0de2dfbe411d",
   "metadata": {},
   "outputs": [],
   "source": []
  }
 ],
 "metadata": {
  "kernelspec": {
   "display_name": "Python 3",
   "language": "python",
   "name": "python3"
  },
  "language_info": {
   "codemirror_mode": {
    "name": "ipython",
    "version": 3
   },
   "file_extension": ".py",
   "mimetype": "text/x-python",
   "name": "python",
   "nbconvert_exporter": "python",
   "pygments_lexer": "ipython3",
   "version": "3.8.10"
  }
 },
 "nbformat": 4,
 "nbformat_minor": 5
}
