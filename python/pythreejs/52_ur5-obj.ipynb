{
 "cells": [
  {
   "cell_type": "code",
   "execution_count": 1,
   "id": "11901953-0554-4bf9-925d-cbdd132a7651",
   "metadata": {},
   "outputs": [],
   "source": [
    "from pythreejs import ( BufferGeometry, MeshPhongMaterial, Mesh, CombinedCamera, OrbitControls, \n",
    "                        Renderer, Scene, BufferAttribute, PerspectiveCamera, PointLight, AmbientLight,\n",
    "                        MeshBasicMaterial, CylinderGeometry )\n",
    "from IPython.display import display\n",
    "import numpy as np"
   ]
  },
  {
   "cell_type": "markdown",
   "id": "d03c5f59-4b0b-4551-9caf-a6ccaa670118",
   "metadata": {},
   "source": [
    "# Primitive UR5"
   ]
  },
  {
   "cell_type": "markdown",
   "id": "3a26f6fb-623a-4004-b5eb-1b3c5482b2b6",
   "metadata": {},
   "source": [
    "## Link 1"
   ]
  },
  {
   "cell_type": "code",
   "execution_count": 6,
   "id": "613fdb77-403d-479c-bd7e-edccf8207e2c",
   "metadata": {},
   "outputs": [],
   "source": [
    "def get_link1_geo():\n",
    "    \"\"\" Base link of UR5 (original flavor) \"\"\"\n",
    "    length   =  0.140\n",
    "    diameter =  0.120\n",
    "    zOffset  = -0.015\n",
    "    # Base link\n",
    "    base = cylinder_w_edges( diameter, length, faceColor = _COL_URGREY, edgeColor = _COL_BLACK, edgeThick = 2, Nsegments = 10 )\n",
    "    \n",
    "    # Shoulder joint\n",
    "    shld = cylinder_w_edges( diameter, length/2.0, faceColor = _COL_URGREY, edgeColor = _COL_BLACK, edgeThick = 2, Nsegments = 10 )\n",
    "    shld.position = (0.0, 0.0, length/2.0 + zOffset)\n",
    "    shld.rotation = (0.5*np.pi, 0.0, 0.0, 'XYZ')\n",
    "    # Group and return\n",
    "    rtnGrp = Group()\n",
    "    rtnGrp.add( base )\n",
    "    rtnGrp.add( shld )\n",
    "    return rtnGrp"
   ]
  },
  {
   "cell_type": "markdown",
   "id": "d15b5b62-0891-4616-b2a4-1c81afec3bf6",
   "metadata": {},
   "source": [
    "## Link 1"
   ]
  },
  {
   "cell_type": "code",
   "execution_count": 10,
   "id": "5b01f6df-3898-4650-8c0f-fa665e6970bf",
   "metadata": {},
   "outputs": [],
   "source": [
    "def get_link2_geo():\n",
    "    \"\"\" Upper arm link of UR5 (original flavor) \"\"\"\n",
    "    length   = 0.140\n",
    "    length2  = 0.295\n",
    "    diameter = 0.120\n",
    "    armDia   = 0.085\n",
    "    \n",
    "    # Main link\n",
    "    prt3 = cylinder_w_edges( armDia    , length2     , faceColor = _COL_URGREY, edgeColor = _COL_BLACK, edgeThick = 2, Nsegments = 10 )\n",
    "    prt3.position = (0.0, 0.0, length2/2.0+length/2.0)\n",
    "    prt3.rotation = (-0.5*np.pi, 0.0, 0.0, 'XYZ')\n",
    "    \n",
    "    # Proximal joint\n",
    "    prt1 = cylinder_w_edges( diameter, length, faceColor = _COL_URGREY, edgeColor = _COL_BLACK, edgeThick = 2, Nsegments = 10 )\n",
    "    prt1.position = (0.0, 0.0, 0.0)\n",
    "    \n",
    "    # Proximal thick\n",
    "    prt2 = cylinder_w_edges( diameter, length/2.0, faceColor = _COL_URGREY, edgeColor = _COL_BLACK, edgeThick = 2, Nsegments = 10 )\n",
    "    prt2.position = (0.0, 0.0, length/2.0)\n",
    "    prt2.rotation = (0.5*np.pi, 0.0, 0.0, 'XYZ')\n",
    "    \n",
    "    # Distal thick\n",
    "    prt4 = cylinder_w_edges( diameter, length/2.0, faceColor = _COL_URGREY, edgeColor = _COL_BLACK, edgeThick = 2, Nsegments = 10 )\n",
    "    prt4.position = (0.0, 0.0, -UR5_DH[1][1]-length/2.0)\n",
    "    prt4.rotation = (0.5*np.pi, 0.0, 0.0, 'XYZ')\n",
    "    \n",
    "    # Distal joint\n",
    "    prt5 = cylinder_w_edges( diameter, length, faceColor = _COL_URGREY, edgeColor = _COL_BLACK, edgeThick = 2, Nsegments = 10 )\n",
    "    prt5.position = (0.0, 0.0, -UR5_DH[1][1])\n",
    "    \n",
    "    # Group and return\n",
    "    rtnGrp = Group()\n",
    "    rtnGrp.add( prt1 )\n",
    "    rtnGrp.add( prt2 )\n",
    "    rtnGrp.add( prt3 )\n",
    "    rtnGrp.add( prt4 )\n",
    "    rtnGrp.add( prt5 )\n",
    "    return rtnGrp\n",
    "    "
   ]
  },
  {
   "cell_type": "markdown",
   "id": "99fa6a0d-8190-4bc7-a694-8dbf0da7a3f3",
   "metadata": {},
   "source": [
    "## Link 3"
   ]
  },
  {
   "cell_type": "code",
   "execution_count": 12,
   "id": "96180d61-d36a-4c59-bdd7-cd2e9c61d12f",
   "metadata": {},
   "outputs": [],
   "source": [
    "def get_link3_geo():\n",
    "    \"\"\" Fore arm link of UR5 (original flavor) \"\"\"\n",
    "    length   = 0.090\n",
    "    # length2  = 0.295\n",
    "    diameter = 0.072\n",
    "    armDia   = diameter\n",
    "    \n",
    "    # Main link\n",
    "    prt3 = cylinder_w_edges( armDia    , -UR5_DH[2][1]-length*1.5, faceColor = _COL_URGREY, edgeColor = _COL_BLACK, edgeThick = 2, Nsegments = 10 )\n",
    "    prt3.position = (0.0, 0.0, -UR5_DH[2][1]/2.0)\n",
    "    prt3.rotation = (-0.5*np.pi, 0.0, 0.0, 'XYZ')\n",
    "    \n",
    "    # Proximal joint\n",
    "    prt1 = cylinder_w_edges( diameter, length, faceColor = _COL_URGREY, edgeColor = _COL_BLACK, edgeThick = 2, Nsegments = 10 )\n",
    "    prt1.position = (0.0, 0.0, 0.0)\n",
    "    \n",
    "    # Proximal thick\n",
    "    prt2 = cylinder_w_edges( diameter, length/2.0, faceColor = _COL_URGREY, edgeColor = _COL_BLACK, edgeThick = 2, Nsegments = 10 )\n",
    "    prt2.position = (0.0, 0.0, length/2.0)\n",
    "    prt2.rotation = (0.5*np.pi, 0.0, 0.0, 'XYZ')\n",
    "    \n",
    "    # Distal thick\n",
    "    prt4 = cylinder_w_edges( diameter, length/2.0, faceColor = _COL_URGREY, edgeColor = _COL_BLACK, edgeThick = 2, Nsegments = 10 )\n",
    "    prt4.position = (0.0, 0.0, -UR5_DH[2][1]-length/2.0)\n",
    "    prt4.rotation = (0.5*np.pi, 0.0, 0.0, 'XYZ')\n",
    "    \n",
    "    # Distal joint\n",
    "    prt5 = cylinder_w_edges( diameter, length, faceColor = _COL_URGREY, edgeColor = _COL_BLACK, edgeThick = 2, Nsegments = 10 )\n",
    "    prt5.position = (0.0, 0.0, -UR5_DH[2][1])\n",
    "    \n",
    "    # Group and return\n",
    "    rtnGrp = Group()\n",
    "    rtnGrp.add( prt1 )\n",
    "    rtnGrp.add( prt2 )\n",
    "    rtnGrp.add( prt3 )\n",
    "    rtnGrp.add( prt4 )\n",
    "    rtnGrp.add( prt5 )\n",
    "    return rtnGrp"
   ]
  },
  {
   "cell_type": "markdown",
   "id": "88fa7639-6c2a-4948-8802-c6802a7eca47",
   "metadata": {},
   "source": [
    "## Link 4"
   ]
  },
  {
   "cell_type": "code",
   "execution_count": 14,
   "id": "d28a0076-8370-4d78-bbfa-412d6f4ea11e",
   "metadata": {},
   "outputs": [],
   "source": [
    "def get_link4_geo():\n",
    "    \"\"\" Base link of UR5 (original flavor) \"\"\"\n",
    "    length   = 0.090\n",
    "    diameter = 0.072\n",
    "    # Base link\n",
    "    base = cylinder_w_edges( \n",
    "        diameter, \n",
    "        length, #-UR5_DH[3][2], #+length/2, \n",
    "        faceColor = _COL_URGREY, edgeColor = _COL_BLACK, edgeThick = 2, Nsegments = 10 \n",
    "    )\n",
    "    \n",
    "    # Shoulder joint\n",
    "    shld = cylinder_w_edges( diameter, length/2.0, faceColor = _COL_URGREY, edgeColor = _COL_BLACK, edgeThick = 2, Nsegments = 10 )\n",
    "    shld.position = (0.0, 0.0, -length/2.0)\n",
    "    shld.rotation = (0.5*np.pi, 0.0, 0.0, 'XYZ')\n",
    "    # Group and return\n",
    "    rtnGrp = Group()\n",
    "    rtnGrp.add( base )\n",
    "    rtnGrp.add( shld )\n",
    "    return rtnGrp"
   ]
  },
  {
   "cell_type": "markdown",
   "id": "ec2c5046-3a84-4f9b-a6ce-01d36c3de689",
   "metadata": {},
   "source": [
    "## Link 5"
   ]
  },
  {
   "cell_type": "code",
   "execution_count": 16,
   "id": "3681ed33-3255-4bbe-89af-d9d88c5af6c2",
   "metadata": {},
   "outputs": [],
   "source": [
    "def get_link5_geo():\n",
    "    \"\"\" Base link of UR5 (original flavor) \"\"\"\n",
    "    length   = 0.090\n",
    "    diameter = 0.072\n",
    "    # Base link\n",
    "    base = cylinder_w_edges( \n",
    "        diameter, \n",
    "        length, #-UR5_DH[3][2], #+length/2, \n",
    "        faceColor = _COL_URGREY, edgeColor = _COL_BLACK, edgeThick = 2, Nsegments = 10 \n",
    "    )\n",
    "    \n",
    "    # Shoulder joint\n",
    "    shld = cylinder_w_edges( diameter, length/2.0, faceColor = _COL_URGREY, edgeColor = _COL_BLACK, edgeThick = 2, Nsegments = 10 )\n",
    "    shld.position = (0.0, 0.0, -length/2.0)\n",
    "    shld.rotation = (0.5*np.pi, 0.0, 0.0, 'XYZ')\n",
    "    # Group and return\n",
    "    rtnGrp = Group()\n",
    "    rtnGrp.add( base )\n",
    "    rtnGrp.add( shld )\n",
    "    return rtnGrp"
   ]
  },
  {
   "cell_type": "markdown",
   "id": "a7a63c21-44cc-4c2f-b82e-96d2f0d00581",
   "metadata": {},
   "source": [
    "## Link 6"
   ]
  },
  {
   "cell_type": "code",
   "execution_count": 18,
   "id": "862d04a2-aa76-46cf-9f3d-01096e6f8bba",
   "metadata": {},
   "outputs": [],
   "source": [
    "def get_link6_geo():\n",
    "    \"\"\" Base link of UR5 (original flavor) \"\"\"\n",
    "    length   = 0.090\n",
    "    diameter = 0.072\n",
    "    # Base link\n",
    "    shld = cylinder_w_edges( diameter, length/2.0, faceColor = _COL_URGREY, edgeColor = _COL_BLACK, edgeThick = 2, Nsegments = 10 )\n",
    "    shld.position = (0.0, 0.0, -length/2.0)\n",
    "    shld.rotation = (0.5*np.pi, 0.0, 0.0, 'XYZ')\n",
    "    return shld"
   ]
  },
  {
   "cell_type": "markdown",
   "id": "63ccef62-b86a-4f80-8167-28532e9e0ab4",
   "metadata": {},
   "source": [
    "## Graphical Robot Class"
   ]
  },
  {
   "cell_type": "code",
   "execution_count": null,
   "id": "4c86267b-d4e6-4583-916b-8bf51b0b08ee",
   "metadata": {},
   "outputs": [],
   "source": [
    "class GraphicKinChain:\n",
    "    \"\"\" For rendering a non-branching, non-looping kinematic chain with PyThreeJS in Jupyter Lab \"\"\"\n",
    "    \n",
    "    \n",
    "    def __init__( self, DHparamsMatx, linkDrawFuncs, qConfig = None ):\n",
    "        \"\"\" Set up rendering for a kinematic chain with `DHparamsMatx` and `linkDrawFuncs` functions to draw each link \"\"\"\n",
    "        self.DH        = DHparamsMatx.copy()\n",
    "        self.N         = len( DHparamsMatx )\n",
    "        self.drawFuncs = linkDrawFuncs\n",
    "        self.xformHmg  = []\n",
    "        if qConfig is None:\n",
    "            self.qCurr = np.array([0.0 for _ in range( self.N )])\n",
    "        else:\n",
    "            self.qCurr = qConfig.copy()\n",
    "            \n",
    "            \n",
    "    def get_chain_graphic_objects( self, qConfig = None ):\n",
    "        \"\"\" Get the drawable objects for this chain \"\"\"\n",
    "        if qConfig is None:\n",
    "            chain = FK_DH_chain( self.DH, self.qCurr )\n",
    "        else:\n",
    "            chain = FK_DH_chain( self.DH, qConfig    )\n",
    "            \n",
    "        for i, frm in enumerate( chain ):\n",
    "            # Get position\n",
    "            # Get orientation"
   ]
  }
 ],
 "metadata": {
  "kernelspec": {
   "display_name": "Python 3 (ipykernel)",
   "language": "python",
   "name": "python3"
  },
  "language_info": {
   "codemirror_mode": {
    "name": "ipython",
    "version": 3
   },
   "file_extension": ".py",
   "mimetype": "text/x-python",
   "name": "python",
   "nbconvert_exporter": "python",
   "pygments_lexer": "ipython3",
   "version": "3.9.13"
  }
 },
 "nbformat": 4,
 "nbformat_minor": 5
}
