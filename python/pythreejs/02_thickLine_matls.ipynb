{
 "cells": [
  {
   "cell_type": "code",
   "execution_count": 1,
   "id": "21fd4cc4-dd54-4445-a19f-f281f1cb52ad",
   "metadata": {},
   "outputs": [],
   "source": [
    "from pythreejs import *\n",
    "from IPython.display import display\n",
    "from ipywidgets import VBox, HBox, Checkbox, jslink\n",
    "import numpy as np"
   ]
  },
  {
   "cell_type": "code",
   "execution_count": 2,
   "id": "6221f6e7-360e-49ce-9f98-79d9de791d26",
   "metadata": {},
   "outputs": [],
   "source": [
    "# Reduce repo churn for examples with embedded state:\n",
    "from pythreejs._example_helper import use_example_model_ids\n",
    "use_example_model_ids()"
   ]
  },
  {
   "cell_type": "code",
   "execution_count": 3,
   "id": "1473a7df-e0e6-459f-bf67-8b06f49c751e",
   "metadata": {},
   "outputs": [
    {
     "data": {
      "application/vnd.jupyter.widget-view+json": {
       "model_id": "pythree_example_model_004",
       "version_major": 2,
       "version_minor": 0
      },
      "text/plain": [
       "Preview(child=LineSegments2(geometry=LineSegmentsGeometry(positions=array([[[0., 0., 0.],\n",
       "        [1., 1., 1.]…"
      ]
     },
     "metadata": {},
     "output_type": "display_data"
    }
   ],
   "source": [
    "g2 = LineSegmentsGeometry(\n",
    "    positions=[\n",
    "        [[0, 0, 0], [1, 1, 1]],\n",
    "        [[2, 2, 2], [4, 4, 4]]\n",
    "    ],\n",
    ")\n",
    "m2 = LineMaterial(linewidth=10, color='cyan')\n",
    "line2 = LineSegments2(g2, m2)\n",
    "line2"
   ]
  },
  {
   "cell_type": "code",
   "execution_count": null,
   "id": "5e17b21e-d106-4681-87df-d6c20a3cb6c3",
   "metadata": {},
   "outputs": [],
   "source": []
  }
 ],
 "metadata": {
  "kernelspec": {
   "display_name": "Python 3",
   "language": "python",
   "name": "python3"
  },
  "language_info": {
   "codemirror_mode": {
    "name": "ipython",
    "version": 3
   },
   "file_extension": ".py",
   "mimetype": "text/x-python",
   "name": "python",
   "nbconvert_exporter": "python",
   "pygments_lexer": "ipython3",
   "version": "3.8.10"
  }
 },
 "nbformat": 4,
 "nbformat_minor": 5
}
