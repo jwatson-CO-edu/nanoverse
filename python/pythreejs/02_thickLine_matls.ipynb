{
 "cells": [
  {
   "cell_type": "code",
   "execution_count": 1,
   "id": "3232369f",
   "metadata": {},
   "outputs": [],
   "source": [
    "from pythreejs import *\n",
    "from IPython.display import display\n",
    "from ipywidgets import VBox, HBox, Checkbox, jslink\n",
    "import numpy as np"
   ]
  },
  {
   "cell_type": "code",
   "execution_count": 2,
   "id": "f27d2a58",
   "metadata": {},
   "outputs": [],
   "source": [
    "# Reduce repo churn for examples with embedded state:\n",
    "from pythreejs._example_helper import use_example_model_ids\n",
    "use_example_model_ids()"
   ]
  },
  {
   "cell_type": "code",
   "execution_count": 3,
   "id": "2f93def6",
   "metadata": {},
   "outputs": [
    {
     "data": {
      "application/vnd.jupyter.widget-view+json": {
       "model_id": "pythree_example_model_004",
       "version_major": 2,
       "version_minor": 0
      },
      "text/plain": [
       "Preview(child=LineSegments2(geometry=LineSegmentsGeometry(positions=array([[[0., 0., 0.],\n",
       "        [1., 1., 1.]…"
      ]
     },
     "metadata": {},
     "output_type": "display_data"
    }
   ],
   "source": [
    "g2 = LineSegmentsGeometry(\n",
    "    positions=[\n",
    "        [[0, 0, 0], [1, 1, 1]],\n",
    "        [[2, 2, 2], [4, 4, 4]]\n",
    "    ],\n",
    ")\n",
    "m2 = LineMaterial(linewidth=10, color='cyan')\n",
    "line2 = LineSegments2(g2, m2)\n",
    "line2"
   ]
  },
  {
   "cell_type": "code",
   "execution_count": 4,
   "id": "0a86c5ea",
   "metadata": {},
   "outputs": [
    {
     "data": {
      "application/vnd.jupyter.widget-view+json": {
       "model_id": "pythree_example_model_010",
       "version_major": 2,
       "version_minor": 0
      },
      "text/plain": [
       "Preview(child=LineSegments2(geometry=LineSegmentsGeometry(colors=array([[[1., 0., 0.],\n",
       "        [1., 0., 0.]],\n",
       "…"
      ]
     },
     "metadata": {},
     "output_type": "display_data"
    }
   ],
   "source": [
    "\n",
    "\n",
    "g3 = LineSegmentsGeometry(\n",
    "    positions=[\n",
    "        [[0, 0, 0], [1, 1, 1]],\n",
    "        [[2, 2, 2], [4, 4, 4]]\n",
    "    ],\n",
    "    colors=[\n",
    "        [[1, 0, 0], [1, 0, 0]],\n",
    "        [[0, 1, 0], [0, 0, 1]]\n",
    "    ],\n",
    ")\n",
    "m3 = LineMaterial(linewidth=10, vertexColors='VertexColors')\n",
    "line3 = LineSegments2(g3, m3)\n",
    "line3\n",
    "\n"
   ]
  },
  {
   "cell_type": "code",
   "execution_count": 5,
   "id": "e00c2b87",
   "metadata": {},
   "outputs": [
    {
     "data": {
      "application/vnd.jupyter.widget-view+json": {
       "model_id": "pythree_example_model_016",
       "version_major": 2,
       "version_minor": 0
      },
      "text/plain": [
       "Preview(child=LineSegments2(geometry=LineSegmentsGeometry(colors=array([[[1., 0., 0.],\n",
       "        [1., 0., 0.]],\n",
       "…"
      ]
     },
     "metadata": {},
     "output_type": "display_data"
    }
   ],
   "source": [
    "g3 = LineSegmentsGeometry(\n",
    "    positions=[\n",
    "        [[0, 0, 0], [1, 0, 0]],\n",
    "        [[0, 0, 0], [0, 1, 0]],\n",
    "        [[0, 0, 0], [0, 0, 1]],\n",
    "    ],\n",
    "    colors=[\n",
    "        [[1, 0, 0], [1, 0, 0]],\n",
    "        [[0, 1, 0], [0, 1, 0]],\n",
    "        [[0, 0, 1], [0, 0, 1]],\n",
    "    ],\n",
    ")\n",
    "m3 = LineMaterial(linewidth=5, vertexColors='VertexColors')\n",
    "line3 = LineSegments2(g3, m3)\n",
    "line3"
   ]
  },
  {
   "cell_type": "code",
   "execution_count": null,
   "id": "d7387b8e",
   "metadata": {},
   "outputs": [],
   "source": []
  },
  {
   "cell_type": "code",
   "execution_count": null,
   "id": "ebed8bb7",
   "metadata": {},
   "outputs": [],
   "source": []
  },
  {
   "cell_type": "code",
   "execution_count": null,
   "id": "4c405e8e",
   "metadata": {},
   "outputs": [],
   "source": []
  }
 ],
 "metadata": {
  "kernelspec": {
   "display_name": "Python 3 (ipykernel)",
   "language": "python",
   "name": "python3"
  },
  "language_info": {
   "codemirror_mode": {
    "name": "ipython",
    "version": 3
   },
   "file_extension": ".py",
   "mimetype": "text/x-python",
   "name": "python",
   "nbconvert_exporter": "python",
   "pygments_lexer": "ipython3",
   "version": "3.8.10"
  }
 },
 "nbformat": 4,
 "nbformat_minor": 5
}
