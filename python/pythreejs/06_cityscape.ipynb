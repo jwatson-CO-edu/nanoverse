{
 "cells": [
  {
   "cell_type": "code",
   "execution_count": 22,
   "id": "4f6d7a63-fb80-4680-a36f-51ad7395beb4",
   "metadata": {},
   "outputs": [],
   "source": [
    "from pythreejs import ( PolyhedronGeometry, PerspectiveCamera, DirectionalLight, Scene, Renderer, \n",
    "                        AmbientLight, OrbitControls, CombinedCamera, MeshLambertMaterial, MeshBasicMaterial,\n",
    "                        VertexNormalsHelper, Object3D )\n",
    "from pythreejs.traits import Vector3\n",
    "import numpy as np\n",
    "\n",
    "class DeltaShip( PolyhedronGeometry ):\n",
    "    \"\"\" Mini mesh for a mini ship \"\"\"\n",
    "    \n",
    "    def __init__( self, wingspan = 1.0, fusFrac = 0.5, sweptFrac = 0.75, thickFrac = 0.25 ):\n",
    "        \"\"\" Create a mini ship with specified `wingspan` \"\"\"\n",
    "        \n",
    "        ## Create Points ##\n",
    "        \n",
    "        if 0:\n",
    "            # Fusilage\n",
    "            frnt = Vector3( [ 0.0               , 0.0, 0.0                  ] )\n",
    "            back = Vector3( [-wingspan*fusFrac  , 0.0, 0.0                  ] )\n",
    "            drsl = Vector3( [-wingspan*fusFrac/2, 0.0, +wingspan*thickFrac/2] )\n",
    "            vntl = Vector3( [-wingspan*fusFrac/2, 0.0, -wingspan*thickFrac/2] )\n",
    "            # Wings\n",
    "            left = Vector3( [0.0, -wingspan/2, 0.0] )\n",
    "            rght = Vector3( [0.0, +wingspan/2, 0.0] )\n",
    "        else:\n",
    "            # Fusilage\n",
    "            frnt = [ 0.0               , 0.0, 0.0                  ] \n",
    "            back = [-wingspan*fusFrac  , 0.0, 0.0                  ] \n",
    "            drsl = [-wingspan*fusFrac/2, 0.0, +wingspan*thickFrac/2] \n",
    "            vntl = [-wingspan*fusFrac/2, 0.0, -wingspan*thickFrac/2] \n",
    "            # Wings\n",
    "            left = [0.0, -wingspan/2, 0.0] \n",
    "            rght = [0.0, +wingspan/2, 0.0] \n",
    "        \n",
    "        ## Build Mesh ##\n",
    "        super().__init__(\n",
    "            vertices = [ \n",
    "                frnt, # 0, Front\n",
    "                drsl, # 1, Top peak\n",
    "                vntl, # 2, Bottom peak\n",
    "                back, # 3, Back\n",
    "                left, # 4, Left wingtip\n",
    "                rght #- 5, Right wingtip \n",
    "             ], \n",
    "            indices = [ \n",
    "                [0,4,1], # Left  top    leading  edge\n",
    "                [1,4,3], # Left  top    trailing edge\n",
    "                [5,0,1], # Right top    leading  edge\n",
    "                [5,1,3], # Right top    trailing edge\n",
    "                [0,2,4], # Left  bottom leading  edge\n",
    "                [2,3,4], # Left  bottom trailing edge\n",
    "                [0,5,2], # Right bottom leading  edge\n",
    "                [2,5,3], # Right bottom trailing edge\n",
    "            ],\n",
    "            radius = wingspan*1.2,\n",
    "            detail = 2,\n",
    "            material=MeshBasicMaterial(color='green')\n",
    "        )\n",
    "        \n",
    "        self.position = [0.0,0.0,0.0]\n",
    "#         self.computeVertexNormals()\n",
    "        \n",
    "        "
   ]
  },
  {
   "cell_type": "code",
   "execution_count": 23,
   "id": "fcfdf702-80e9-4c6e-9e40-e2c4606987f1",
   "metadata": {},
   "outputs": [
    {
     "name": "stdout",
     "output_type": "stream",
     "text": [
      "[0.0, 0.0, 0.0]\n"
     ]
    }
   ],
   "source": [
    "shp = DeltaShip( 10 )\n",
    "print( shp.position )\n",
    "\n",
    "foo = Object3D( children = [shp] )\n",
    "vtx = VertexNormalsHelper( foo, 2, \"#00ff00\", 1 )"
   ]
  },
  {
   "cell_type": "code",
   "execution_count": 24,
   "id": "60f90bef-4982-4820-8826-05f373283b08",
   "metadata": {},
   "outputs": [],
   "source": [
    "depth       = 15\n",
    "target      = (0, 0, 0)\n",
    "view_width  = view_height = 600\n",
    "linLen      = 3.0\n",
    "dim         = depth*linLen\n",
    "\n",
    "scene = Scene(\n",
    "#     children=[foo, vtx],\n",
    "    children=[foo,],\n",
    "    background='#000000', background_opacity=1.0\n",
    ")\n",
    "\n",
    "\n",
    "\n",
    "camera = CombinedCamera(position=[dim/1, dim/1,dim/1], width=view_width, height=view_height)\n",
    "camera.lookAt(target)\n",
    "\n",
    "orbit = OrbitControls(controlling=camera, target=target)\n",
    "\n",
    "\n",
    "renderer = Renderer(scene=scene, camera=camera, controls=[orbit],\n",
    "                    width=view_width, height=view_height                   )"
   ]
  },
  {
   "cell_type": "code",
   "execution_count": 25,
   "id": "4d255926-8208-4b8f-83a5-ba6c70e05f52",
   "metadata": {},
   "outputs": [
    {
     "data": {
      "application/vnd.jupyter.widget-view+json": {
       "model_id": "b8a51ba2311643018d0d413c952d31a2",
       "version_major": 2,
       "version_minor": 0
      },
      "text/plain": [
       "Renderer(camera=CombinedCamera(height=600.0, position=(45.0, 45.0, 45.0), projectionMatrix=(2.1445069205095586…"
      ]
     },
     "metadata": {},
     "output_type": "display_data"
    }
   ],
   "source": [
    "display( renderer )"
   ]
  },
  {
   "cell_type": "code",
   "execution_count": null,
   "id": "eb00affd-b2a1-415e-b24a-792c82d4f201",
   "metadata": {},
   "outputs": [],
   "source": []
  }
 ],
 "metadata": {
  "kernelspec": {
   "display_name": "Python 3 (ipykernel)",
   "language": "python",
   "name": "python3"
  },
  "language_info": {
   "codemirror_mode": {
    "name": "ipython",
    "version": 3
   },
   "file_extension": ".py",
   "mimetype": "text/x-python",
   "name": "python",
   "nbconvert_exporter": "python",
   "pygments_lexer": "ipython3",
   "version": "3.8.10"
  }
 },
 "nbformat": 4,
 "nbformat_minor": 5
}
