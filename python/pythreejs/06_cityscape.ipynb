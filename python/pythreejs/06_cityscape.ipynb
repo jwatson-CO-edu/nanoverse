{
 "cells": [
  {
   "cell_type": "code",
   "execution_count": 5,
   "id": "4f6d7a63-fb80-4680-a36f-51ad7395beb4",
   "metadata": {},
   "outputs": [],
   "source": [
    "from pythreejs import Geometry\n",
    "from pythreejs.traits import Vector3\n",
    "\n",
    "class DeltaShip( Geometry ):\n",
    "    \"\"\" Mini mesh for a mini ship \"\"\"\n",
    "    \n",
    "    def __init__( self, wingspan = 1.0, fusFrac = 0.5, sweptFrac = 0.75, thickFrac = 0.25 ):\n",
    "        \"\"\" Create a mini ship with specified `wingspan` \"\"\"\n",
    "        \n",
    "        ## Create Points ##\n",
    "        \n",
    "        # Fusilage\n",
    "        frnt = Vector3( [ 0.0               , 0.0, 0.0                  ] )\n",
    "        back = Vector3( [-wingspan*fusFrac  , 0.0, 0.0                  ] )\n",
    "        drsl = Vector3( [-wingspan*fusFrac/2, 0.0, +wingspan*thickFrac/2] )\n",
    "        vntl = Vector3( [-wingspan*fusFrac/2, 0.0, -wingspan*thickFrac/2] )\n",
    "        # Wings\n",
    "        left = Vector3( [0.0, -wingspan/2, 0.0] )\n",
    "        rght = Vector3( [0.0, +wingspan/2, 0.0] )\n",
    "        \n",
    "        ## Build Mesh ##\n",
    "        \n",
    "        \n",
    "        "
   ]
  },
  {
   "cell_type": "code",
   "execution_count": 6,
   "id": "fcfdf702-80e9-4c6e-9e40-e2c4606987f1",
   "metadata": {},
   "outputs": [],
   "source": [
    "foo = DeltaShip()"
   ]
  },
  {
   "cell_type": "code",
   "execution_count": null,
   "id": "60f90bef-4982-4820-8826-05f373283b08",
   "metadata": {},
   "outputs": [],
   "source": []
  }
 ],
 "metadata": {
  "kernelspec": {
   "display_name": "Python 3 (ipykernel)",
   "language": "python",
   "name": "python3"
  },
  "language_info": {
   "codemirror_mode": {
    "name": "ipython",
    "version": 3
   },
   "file_extension": ".py",
   "mimetype": "text/x-python",
   "name": "python",
   "nbconvert_exporter": "python",
   "pygments_lexer": "ipython3",
   "version": "3.8.10"
  }
 },
 "nbformat": 4,
 "nbformat_minor": 5
}
