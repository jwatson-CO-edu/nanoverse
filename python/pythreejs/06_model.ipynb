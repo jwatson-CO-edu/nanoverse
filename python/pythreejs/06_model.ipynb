{
 "cells": [
  {
   "cell_type": "markdown",
   "id": "9db4d829-3ced-4795-a8cc-1add2ebeabfc",
   "metadata": {},
   "source": [
    "# `DeltaShip` Model\n",
    "```\n",
    "[Y] Create BufferGeometry - 2022-02-02, Successfully created Delta design\n",
    "[ ] Place model at a pose\n",
    "[ ] Create multiple models\n",
    "[ ] Grid plane\n",
    "[ ] Animated flying\n",
    "```"
   ]
  },
  {
   "cell_type": "code",
   "execution_count": 1,
   "id": "4f6d7a63-fb80-4680-a36f-51ad7395beb4",
   "metadata": {},
   "outputs": [],
   "source": [
    "import numpy as np\n",
    "from pythreejs import ( BufferGeometry, BufferAttribute, MeshLambertMaterial, Mesh, \n",
    "                        PerspectiveCamera, Group, Scene, Renderer, AmbientLight, OrbitControls )\n",
    "from IPython.display import display\n",
    "\n",
    "\n",
    "class DeltaShip( Mesh ):\n",
    "    \"\"\" Mini mesh for a mini ship \"\"\"\n",
    "    \n",
    "    def __init__( self, wingspan = 1.0, fusFrac = 0.5, sweptFrac = 0.75, thickFrac = 0.25, color = '#feb74c' ):\n",
    "        \"\"\" Create a mini ship with specified `wingspan` \"\"\"\n",
    "        \n",
    "        ## Create Points ##\n",
    "        # Fusilage\n",
    "        frnt = [ 0.0               , 0.0, 0.0                  ] \n",
    "        back = [-wingspan*fusFrac  , 0.0, 0.0                  ] \n",
    "        drsl = [-wingspan*fusFrac/2, 0.0, +wingspan*thickFrac/2] \n",
    "        vntl = [-wingspan*fusFrac/2, 0.0, -wingspan*thickFrac/2] \n",
    "        # Wings\n",
    "        left = [-wingspan*fusFrac*(1+sweptFrac), -wingspan/2, 0.0] \n",
    "        rght = [-wingspan*fusFrac*(1+sweptFrac), +wingspan/2, 0.0] \n",
    "        \n",
    "        ## Create Faces ##\n",
    "        vertices = np.array([ \n",
    "            frnt, # 0, Front\n",
    "            drsl, # 1, Top peak\n",
    "            vntl, # 2, Bottom peak\n",
    "            back, # 3, Back\n",
    "            left, # 4, Left wingtip\n",
    "            rght #- 5, Right wingtip \n",
    "        ])\n",
    "        indices = np.array([ \n",
    "            0,4,1, # Left  top    leading  edge\n",
    "            1,4,3, # Left  top    trailing edge\n",
    "            5,0,1, # Right top    leading  edge\n",
    "            5,1,3, # Right top    trailing edge\n",
    "            0,2,4, # Left  bottom leading  edge\n",
    "            2,3,4, # Left  bottom trailing edge\n",
    "            0,5,2, # Right bottom leading  edge\n",
    "            2,5,3, # Right bottom trailing edge\n",
    "        ], dtype=np.uint32)\n",
    "        \n",
    "        ## Build Geometry ##\n",
    "        self.geo = BufferGeometry( attributes={\n",
    "            'position': BufferAttribute( vertices ),\n",
    "            'index'   : BufferAttribute( indices  )\n",
    "        } )\n",
    "        self.mtl = MeshLambertMaterial(\n",
    "            color   = color,\n",
    "            shading = 'FlatShading'\n",
    "        )\n",
    "        super().__init__(\n",
    "            geometry = self.geo,\n",
    "            material = self.mtl\n",
    "        )\n",
    "\n"
   ]
  },
  {
   "cell_type": "code",
   "execution_count": 2,
   "id": "fcfdf702-80e9-4c6e-9e40-e2c4606987f1",
   "metadata": {},
   "outputs": [
    {
     "name": "stdout",
     "output_type": "stream",
     "text": [
      "Object Relative (to parent) Transform:\n",
      " (1.0, 0.0, 0.0, 0.0, 0.0, 1.0, 0.0, 0.0, 0.0, 0.0, 1.0, 0.0, 0.0, 0.0, 0.0, 1.0)\n",
      "Object Absolute Transform:\n",
      " (1.0, 0.0, 0.0, 0.0, 0.0, 1.0, 0.0, 0.0, 0.0, 0.0, 1.0, 0.0, 0.0, 0.0, 0.0, 1.0)\n"
     ]
    },
    {
     "name": "stderr",
     "output_type": "stream",
     "text": [
      "/home/james/.local/lib/python3.9/site-packages/pythreejs/traits.py:203: UserWarning: 64-bit data types not supported for WebGL data, casting to 32-bit.\n",
      "  warnings.warn('64-bit data types not supported for WebGL '\n",
      "/home/james/.local/lib/python3.9/site-packages/jupyter_client/session.py:718: UserWarning: Message serialization failed with:\n",
      "Out of range float values are not JSON compliant\n",
      "Supporting this message is deprecated in jupyter-client 7, please make sure your message is JSON-compliant\n",
      "  content = self.pack(content)\n"
     ]
    },
    {
     "data": {
      "application/vnd.jupyter.widget-view+json": {
       "model_id": "27e4c5f6640248969c45e460b3a136bd",
       "version_major": 2,
       "version_minor": 0
      },
      "text/plain": [
       "Renderer(camera=PerspectiveCamera(position=(15.0, 15.0, 15.0), projectionMatrix=(1.0, 0.0, 0.0, 0.0, 0.0, 1.0,…"
      ]
     },
     "metadata": {},
     "output_type": "display_data"
    }
   ],
   "source": [
    "def get_renderer_objects( objLst, ambLightColor = '#606060' ):\n",
    "    \"\"\" Return a renderer with easy default and settable options \"\"\"\n",
    "    camera = PerspectiveCamera(\n",
    "        position = [15,15,15],\n",
    "        lookAt = [0,0,0]\n",
    "    )\n",
    "    drawGroup = Group()\n",
    "    for obj in objLst:\n",
    "        drawGroup.add( obj )\n",
    "    scene = Scene( children = [\n",
    "        drawGroup,\n",
    "        AmbientLight( color = ambLightColor )\n",
    "    ] )\n",
    "    renderer = Renderer(\n",
    "        camera   = camera,\n",
    "        scene    = scene,\n",
    "        controls = [ OrbitControls( controlling = camera ) ]\n",
    "    )\n",
    "    return camera, drawGroup, scene, renderer\n",
    "    \n",
    "\n",
    "shp = DeltaShip( wingspan = 10.0 )\n",
    "if 0:\n",
    "    print( dir( shp ) )\n",
    "\n",
    "camera, drawGroup, scene, renderer = get_renderer_objects( [shp,] )\n",
    "\n",
    "print( \"Object Relative (to parent) Transform:\\n\", shp.matrix       )\n",
    "print( \"Object Absolute Transform:\\n\",             shp.matrixWorld  )\n",
    "\n",
    "display( renderer )\n"
   ]
  },
  {
   "cell_type": "code",
   "execution_count": 3,
   "id": "60f90bef-4982-4820-8826-05f373283b08",
   "metadata": {},
   "outputs": [
    {
     "ename": "NameError",
     "evalue": "name 'foo' is not defined",
     "output_type": "error",
     "traceback": [
      "\u001b[0;31m---------------------------------------------------------------------------\u001b[0m",
      "\u001b[0;31mNameError\u001b[0m                                 Traceback (most recent call last)",
      "Input \u001b[0;32mIn [3]\u001b[0m, in \u001b[0;36m<cell line: 7>\u001b[0;34m()\u001b[0m\n\u001b[1;32m      4\u001b[0m linLen      \u001b[38;5;241m=\u001b[39m \u001b[38;5;241m3.0\u001b[39m\n\u001b[1;32m      5\u001b[0m dim         \u001b[38;5;241m=\u001b[39m depth\u001b[38;5;241m*\u001b[39mlinLen\n\u001b[1;32m      7\u001b[0m scene \u001b[38;5;241m=\u001b[39m Scene(\n\u001b[1;32m      8\u001b[0m \u001b[38;5;66;03m#     children=[foo, vtx],\u001b[39;00m\n\u001b[0;32m----> 9\u001b[0m     children\u001b[38;5;241m=\u001b[39m[\u001b[43mfoo\u001b[49m,],\n\u001b[1;32m     10\u001b[0m     background\u001b[38;5;241m=\u001b[39m\u001b[38;5;124m'\u001b[39m\u001b[38;5;124m#000000\u001b[39m\u001b[38;5;124m'\u001b[39m, background_opacity\u001b[38;5;241m=\u001b[39m\u001b[38;5;241m1.0\u001b[39m\n\u001b[1;32m     11\u001b[0m )\n\u001b[1;32m     15\u001b[0m camera \u001b[38;5;241m=\u001b[39m CombinedCamera(position\u001b[38;5;241m=\u001b[39m[dim\u001b[38;5;241m/\u001b[39m\u001b[38;5;241m1\u001b[39m, dim\u001b[38;5;241m/\u001b[39m\u001b[38;5;241m1\u001b[39m,dim\u001b[38;5;241m/\u001b[39m\u001b[38;5;241m1\u001b[39m], width\u001b[38;5;241m=\u001b[39mview_width, height\u001b[38;5;241m=\u001b[39mview_height)\n\u001b[1;32m     16\u001b[0m camera\u001b[38;5;241m.\u001b[39mlookAt(target)\n",
      "\u001b[0;31mNameError\u001b[0m: name 'foo' is not defined"
     ]
    }
   ],
   "source": [
    "depth       = 15\n",
    "target      = (0, 0, 0)\n",
    "view_width  = view_height = 600\n",
    "linLen      = 3.0\n",
    "dim         = depth*linLen\n",
    "\n",
    "scene = Scene(\n",
    "#     children=[foo, vtx],\n",
    "    children=[foo,],\n",
    "    background='#000000', background_opacity=1.0\n",
    ")\n",
    "\n",
    "\n",
    "\n",
    "camera = CombinedCamera(position=[dim/1, dim/1,dim/1], width=view_width, height=view_height)\n",
    "camera.lookAt(target)\n",
    "\n",
    "orbit = OrbitControls(controlling=camera, target=target)\n",
    "\n",
    "\n",
    "renderer = Renderer(scene=scene, camera=camera, controls=[orbit],\n",
    "                    width=view_width, height=view_height                   )"
   ]
  },
  {
   "cell_type": "code",
   "execution_count": null,
   "id": "4d255926-8208-4b8f-83a5-ba6c70e05f52",
   "metadata": {},
   "outputs": [],
   "source": [
    "display( renderer )"
   ]
  },
  {
   "cell_type": "code",
   "execution_count": null,
   "id": "eb00affd-b2a1-415e-b24a-792c82d4f201",
   "metadata": {},
   "outputs": [],
   "source": []
  }
 ],
 "metadata": {
  "kernelspec": {
   "display_name": "Python 3 (ipykernel)",
   "language": "python",
   "name": "python3"
  },
  "language_info": {
   "codemirror_mode": {
    "name": "ipython",
    "version": 3
   },
   "file_extension": ".py",
   "mimetype": "text/x-python",
   "name": "python",
   "nbconvert_exporter": "python",
   "pygments_lexer": "ipython3",
   "version": "3.9.13"
  }
 },
 "nbformat": 4,
 "nbformat_minor": 5
}
