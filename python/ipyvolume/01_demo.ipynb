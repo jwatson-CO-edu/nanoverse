{
 "cells": [
  {
   "cell_type": "code",
   "execution_count": 1,
   "id": "541c5690",
   "metadata": {},
   "outputs": [
    {
     "data": {
      "application/vnd.jupyter.widget-view+json": {
       "model_id": "dd61797c5bad46adbd46141e4187803a",
       "version_major": 2,
       "version_minor": 0
      },
      "text/plain": [
       "VBox(children=(Figure(camera=PerspectiveCamera(fov=46.0, position=(0.0, 0.0, 2.0), projectionMatrix=(1.0, 0.0,…"
      ]
     },
     "metadata": {},
     "output_type": "display_data"
    }
   ],
   "source": [
    "from numpy import pi, cos, sin, linspace, meshgrid\n",
    "import ipyvolume.pylab as p3\n",
    "\n",
    "def möbius(draw=True, show=True, num=40, endpoint=True,\n",
    "           uv=True, wireframe=False, texture=None):\n",
    "    # http://paulbourke.net/geometry/toroidal\n",
    "    u = linspace(0, 2 * pi, num=num, endpoint=endpoint)\n",
    "    v = linspace(-0.4, 0.4, num=num, endpoint=endpoint)\n",
    "    u, v = meshgrid(u, v)\n",
    "    x = cos(u) + v * cos(u / 2) * cos(u)\n",
    "    y = sin(u) + v * cos(u / 2) * sin(u)\n",
    "    z = v * sin(u / 2)\n",
    "    if draw:\n",
    "        if texture:\n",
    "            uv = True\n",
    "        kwargs = dict(wrapx=not endpoint, wrapy=not endpoint,\n",
    "                      wireframe=wireframe, texture=texture)\n",
    "        if uv:\n",
    "            kwargs.update(dict(u=u/(2*pi), v=v/(2*pi)))\n",
    "        mesh = p3.plot_mesh(x, y, z, **kwargs)\n",
    "        if show:\n",
    "            p3.squarelim()\n",
    "            p3.show()\n",
    "        return mesh\n",
    "    else:\n",
    "        return x, y, z, u, v\n",
    "\n",
    "mesh = möbius()\n",
    "\n"
   ]
  },
  {
   "cell_type": "code",
   "execution_count": 2,
   "id": "c27e1fe2",
   "metadata": {},
   "outputs": [
    {
     "data": {
      "application/vnd.jupyter.widget-view+json": {
       "model_id": "de5ae743863742689f71b178b8794de9",
       "version_major": 2,
       "version_minor": 0
      },
      "text/plain": [
       "FloatSlider(value=0.0)"
      ]
     },
     "metadata": {},
     "output_type": "display_data"
    }
   ],
   "source": [
    "import ipywidgets\n",
    "ipywidgets.FloatSlider()"
   ]
  },
  {
   "cell_type": "code",
   "execution_count": null,
   "id": "60e749d0",
   "metadata": {},
   "outputs": [],
   "source": []
  }
 ],
 "metadata": {
  "kernelspec": {
   "display_name": "Python 3",
   "language": "python",
   "name": "python3"
  },
  "language_info": {
   "codemirror_mode": {
    "name": "ipython",
    "version": 3
   },
   "file_extension": ".py",
   "mimetype": "text/x-python",
   "name": "python",
   "nbconvert_exporter": "python",
   "pygments_lexer": "ipython3",
   "version": "3.8.10"
  }
 },
 "nbformat": 4,
 "nbformat_minor": 5
}
