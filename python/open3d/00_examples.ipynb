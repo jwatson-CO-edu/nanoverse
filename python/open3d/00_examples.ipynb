{
 "cells": [
  {
   "cell_type": "code",
   "execution_count": 2,
   "id": "51228266-9a7e-44a3-93a5-69d4a81bfbdc",
   "metadata": {},
   "outputs": [
    {
     "name": "stdout",
     "output_type": "stream",
     "text": [
      "3.9.13 (main, May 23 2022, 22:01:06) \n",
      "[GCC 9.4.0]\n"
     ]
    },
    {
     "ename": "ModuleNotFoundError",
     "evalue": "No module named 'open3d'",
     "output_type": "error",
     "traceback": [
      "\u001b[0;31m---------------------------------------------------------------------------\u001b[0m",
      "\u001b[0;31mModuleNotFoundError\u001b[0m                       Traceback (most recent call last)",
      "Input \u001b[0;32mIn [2]\u001b[0m, in \u001b[0;36m<cell line: 3>\u001b[0;34m()\u001b[0m\n\u001b[1;32m      1\u001b[0m \u001b[38;5;28;01mimport\u001b[39;00m \u001b[38;5;21;01msys\u001b[39;00m\n\u001b[1;32m      2\u001b[0m \u001b[38;5;28mprint\u001b[39m( sys\u001b[38;5;241m.\u001b[39mversion )\n\u001b[0;32m----> 3\u001b[0m \u001b[38;5;28;01mimport\u001b[39;00m \u001b[38;5;21;01mopen3d\u001b[39;00m \u001b[38;5;28;01mas\u001b[39;00m \u001b[38;5;21;01mo3d\u001b[39;00m\n",
      "\u001b[0;31mModuleNotFoundError\u001b[0m: No module named 'open3d'"
     ]
    }
   ],
   "source": [
    "import sys\n",
    "print( sys.version )\n",
    "import open3d as o3d"
   ]
  },
  {
   "cell_type": "code",
   "execution_count": null,
   "id": "5d2a9b1d-2767-4545-9a6b-3b74c91bca7b",
   "metadata": {},
   "outputs": [],
   "source": [
    "pcd = o3d.io.read_point_cloud(\"data/bunny.pcd\")"
   ]
  },
  {
   "cell_type": "code",
   "execution_count": null,
   "id": "cde90086-e3a3-4684-9222-567065e1df6f",
   "metadata": {},
   "outputs": [],
   "source": [
    "print(pcd)"
   ]
  },
  {
   "cell_type": "code",
   "execution_count": null,
   "id": "0f60bb25-5456-43a2-8935-e39b5f5d9bc8",
   "metadata": {},
   "outputs": [],
   "source": [
    "import numpy as np\n",
    "import open3d as o3d\n",
    "from open3d.visualization import Visualizer\n",
    "# from open3d.visualization import JVisualizer\n",
    "# from open3d import JVisualizer\n",
    "\n",
    "\n",
    "points = (np.random.rand(1000, 3) - 0.5) / 4\n",
    "colors = np.random.rand(1000, 3)\n",
    "\n",
    "pcd = o3d.geometry.PointCloud()\n",
    "pcd.points = o3d.utility.Vector3dVector(points)\n",
    "pcd.colors = o3d.utility.Vector3dVector(colors)\n",
    "\n",
    "o3d.visualization.draw_geometries([pcd])\n"
   ]
  },
  {
   "cell_type": "code",
   "execution_count": null,
   "id": "8847d066-25d8-4396-ad3f-19101e6d37d2",
   "metadata": {},
   "outputs": [],
   "source": [
    "import numpy as np\n",
    "import open3d as o3d\n",
    "\n",
    "o3d.visualization.RenderOption.line_width=16.0\n",
    "\n",
    "N = 100\n",
    "n = N-1\n",
    "\n",
    "vertex = o3d.utility.Vector3dVector( (np.random.rand(N, 3) - 0.5)/4 )\n",
    "endPnt = []\n",
    "for i in range(n):\n",
    "    endPnt.append( [i, i+1] )\n",
    "endPnt  = o3d.utility.Vector2iVector( endPnt )\n",
    "segment = o3d.geometry.LineSet( vertex, endPnt )\n",
    "\n",
    "o3d.visualization.draw_geometries( [ segment ] )\n"
   ]
  },
  {
   "cell_type": "code",
   "execution_count": null,
   "id": "2ec92a4a-8bb8-42d9-b309-1ac8e72eff40",
   "metadata": {},
   "outputs": [],
   "source": [
    "# http://www.open3d.org/docs/0.6.0/python_api/open3d.geometry.Geometry3D.html?highlight=transform#open3d.geometry.Geometry3D.transform\n",
    "cyl = o3d.geometry.TriangleMesh.create_cylinder(radius=1.0, height=2.0, resolution=20, split=4)\n",
    "# dir(cyl)"
   ]
  },
  {
   "cell_type": "code",
   "execution_count": null,
   "id": "80b85c94-f348-4a0d-8fd6-4bf504c720a0",
   "metadata": {},
   "outputs": [],
   "source": [
    "o3d.visualization.draw_geometries([cyl])"
   ]
  },
  {
   "cell_type": "code",
   "execution_count": null,
   "id": "04ace688-4006-4084-91cf-98d53f775aed",
   "metadata": {},
   "outputs": [],
   "source": [
    "# examples/python/visualization/non_blocking_visualization.py\n",
    "\n",
    "import open3d as o3d\n",
    "import numpy as np\n",
    "import copy\n",
    "\n",
    "if __name__ == \"__main__\":\n",
    "    # 1. Load data and set model poses\n",
    "    o3d.utility.set_verbosity_level(o3d.utility.VerbosityLevel.Debug)\n",
    "    source_raw = o3d.io.read_point_cloud( \"data/cloud_bin_0.pcd\" )\n",
    "    target_raw = o3d.io.read_point_cloud( \"data/cloud_bin_1.pcd\" )\n",
    "    source = source_raw.voxel_down_sample(voxel_size=0.02)\n",
    "    target = target_raw.voxel_down_sample(voxel_size=0.02)\n",
    "    trans = [ [ 0.862, 0.011, -0.507,  0.0] , \n",
    "              [-0.139, 0.967, -0.215,  0.7] ,\n",
    "              [ 0.487, 0.255,  0.835, -1.4] , \n",
    "              [ 0.0  , 0.0  ,  0.0  ,  1.0] ]\n",
    "    source.transform(trans)\n",
    "\n",
    "    flip_transform = [ [ 1,  0,  0, 0 ] , \n",
    "                       [ 0, -1,  0, 0 ] , \n",
    "                       [ 0,  0, -1, 0 ] , \n",
    "                       [ 0,  0,  0, 1 ] ]\n",
    "    \n",
    "    source.transform( flip_transform )\n",
    "    target.transform( flip_transform )\n",
    "\n",
    "    # 2. Init vis window\n",
    "    vis = o3d.visualization.Visualizer()\n",
    "    vis.create_window()\n",
    "    vis.add_geometry(source)\n",
    "    vis.add_geometry(target)\n",
    "    threshold = 0.05\n",
    "    icp_iteration = 100\n",
    "    save_image = False\n",
    "\n",
    "    # 3. Animation loop\n",
    "    for i in range( icp_iteration ):\n",
    "        reg_p2l = o3d.pipelines.registration.registration_icp(\n",
    "            source, target, threshold, np.identity(4),\n",
    "            o3d.pipelines.registration.TransformationEstimationPointToPlane(),\n",
    "            o3d.pipelines.registration.ICPConvergenceCriteria(max_iteration=1))\n",
    "        source.transform(reg_p2l.transformation)\n",
    "        vis.update_geometry(source)\n",
    "        vis.poll_events()\n",
    "        vis.update_renderer()\n",
    "        if save_image:\n",
    "            vis.capture_screen_image( \"temp_%04d.jpg\" % i )\n",
    "            \n",
    "    # 4. Loop over, destroy window\n",
    "    vis.destroy_window()"
   ]
  },
  {
   "cell_type": "code",
   "execution_count": null,
   "id": "3477a521-cf55-4fb7-bb84-7e1250f2e89f",
   "metadata": {},
   "outputs": [],
   "source": []
  }
 ],
 "metadata": {
  "kernelspec": {
   "display_name": "Python 3 (ipykernel)",
   "language": "python",
   "name": "python3"
  },
  "language_info": {
   "codemirror_mode": {
    "name": "ipython",
    "version": 3
   },
   "file_extension": ".py",
   "mimetype": "text/x-python",
   "name": "python",
   "nbconvert_exporter": "python",
   "pygments_lexer": "ipython3",
   "version": "3.9.13"
  }
 },
 "nbformat": 4,
 "nbformat_minor": 5
}
