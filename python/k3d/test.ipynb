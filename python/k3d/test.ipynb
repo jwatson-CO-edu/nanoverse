{
 "cells": [
  {
   "cell_type": "code",
   "execution_count": 1,
   "id": "c46ef8d4-fa42-4aed-88da-10a41dda11ae",
   "metadata": {},
   "outputs": [
    {
     "data": {
      "application/vnd.jupyter.widget-view+json": {
       "model_id": "3a2a467c2ab542b49c629c51f9ca8346",
       "version_major": 2,
       "version_minor": 0
      },
      "text/plain": [
       "Output()"
      ]
     },
     "metadata": {},
     "output_type": "display_data"
    }
   ],
   "source": [
    "import k3d # Does not work w/ Jupyter lab 3\n",
    "import numpy as np\n",
    "\n",
    "Nx, Ny  = 34, 33\n",
    "xmin, xmax = -3, 4\n",
    "ymin, ymax = -0, 3\n",
    "\n",
    "x = np.linspace(xmin, xmax, Nx)\n",
    "y = np.linspace(ymin, ymax, Ny)\n",
    "x, y = np.meshgrid(x, y)\n",
    "f = np.sin(x**2 + y**2)\n",
    "\n",
    "plot = k3d.plot()\n",
    "plt_surface = k3d.surface(f.astype(np.float32), bounds=[xmin,xmax,ymin,ymax])\n",
    "plot += plt_surface\n",
    "plot.display()\n"
   ]
  },
  {
   "cell_type": "code",
   "execution_count": null,
   "id": "89f5a8a7-8b6c-4467-ae10-c62539da9cb4",
   "metadata": {},
   "outputs": [],
   "source": []
  }
 ],
 "metadata": {
  "kernelspec": {
   "display_name": "Python 3 (ipykernel)",
   "language": "python",
   "name": "python3"
  },
  "language_info": {
   "codemirror_mode": {
    "name": "ipython",
    "version": 3
   },
   "file_extension": ".py",
   "mimetype": "text/x-python",
   "name": "python",
   "nbconvert_exporter": "python",
   "pygments_lexer": "ipython3",
   "version": "3.9.13"
  }
 },
 "nbformat": 4,
 "nbformat_minor": 5
}
